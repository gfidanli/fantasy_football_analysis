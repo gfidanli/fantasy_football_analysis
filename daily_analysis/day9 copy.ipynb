{
 "cells": [
  {
   "cell_type": "markdown",
   "metadata": {},
   "source": [
    "# Day 9 Analysis"
   ]
  },
  {
   "cell_type": "markdown",
   "metadata": {},
   "source": [
    "Day 9 is a continuation of Day 8's analysis of WR target share vs. fantasy points for the 2022 season through Week 8. This analysis will focus on expected fanatsy points (standard scoring) given a player's average target share. To calculate expected fanatsy points scored a regression line was fit on data from 1999-2021 and then that was used on 2021 data.\n",
    "\n",
    "I'll do some exploratory analysis on expected fanatsy points scored and the difference between a player's actual fantasy points and expected fanatsy points which I will call point differential or `point_diff`. I want to see the probability of a player with X point differential to see how likely that player is to regress positively or negatively towards his expected points.\n",
    "\n",
    "A positive regression candidate is a \"buy low\" player and a negative regression candidate is a \"sell high\" player."
   ]
  },
  {
   "cell_type": "markdown",
   "metadata": {},
   "source": [
    "## Set Up"
   ]
  },
  {
   "cell_type": "code",
   "execution_count": 165,
   "metadata": {},
   "outputs": [],
   "source": [
    "import warnings\n",
    "warnings.simplefilter(action='ignore', category=FutureWarning)\n",
    "\n",
    "import pandas as pd\n",
    "import sqlite3\n",
    "import matplotlib.pyplot as plt\n",
    "import seaborn as sns\n",
    "import numpy as np\n",
    "\n",
    "# Create database connection\n",
    "conn = sqlite3.connect('../data/db/database.db')"
   ]
  },
  {
   "cell_type": "markdown",
   "metadata": {},
   "source": [
    "## Target Share vs. Fantasy Points: 1999-2011\n",
    "First I'll get the average target share and fanatsy points scored by WR for seasons 1999-2021. Then I'll fit a regression line to the data which will be used to generate expected fanatsy points for the 2022 season."
   ]
  },
  {
   "cell_type": "markdown",
   "metadata": {},
   "source": [
    "### Get Data"
   ]
  },
  {
   "cell_type": "code",
   "execution_count": 215,
   "metadata": {},
   "outputs": [
    {
     "name": "stdout",
     "output_type": "stream",
     "text": [
      "(1170, 5)\n"
     ]
    },
    {
     "data": {
      "text/html": [
       "<div>\n",
       "<style scoped>\n",
       "    .dataframe tbody tr th:only-of-type {\n",
       "        vertical-align: middle;\n",
       "    }\n",
       "\n",
       "    .dataframe tbody tr th {\n",
       "        vertical-align: top;\n",
       "    }\n",
       "\n",
       "    .dataframe thead th {\n",
       "        text-align: right;\n",
       "    }\n",
       "</style>\n",
       "<table border=\"1\" class=\"dataframe\">\n",
       "  <thead>\n",
       "    <tr style=\"text-align: right;\">\n",
       "      <th></th>\n",
       "      <th>player_name</th>\n",
       "      <th>num_games</th>\n",
       "      <th>avg_tgt_share</th>\n",
       "      <th>avg_fantasy_pts</th>\n",
       "      <th>avg_fantasy_pts_ppr</th>\n",
       "    </tr>\n",
       "  </thead>\n",
       "  <tbody>\n",
       "    <tr>\n",
       "      <th>0</th>\n",
       "      <td>Derrick Alexander</td>\n",
       "      <td>52</td>\n",
       "      <td>0.199942</td>\n",
       "      <td>7.315385</td>\n",
       "      <td>10.526923</td>\n",
       "    </tr>\n",
       "    <tr>\n",
       "      <th>1</th>\n",
       "      <td>Brian Alford</td>\n",
       "      <td>2</td>\n",
       "      <td>0.057958</td>\n",
       "      <td>3.350000</td>\n",
       "      <td>3.850000</td>\n",
       "    </tr>\n",
       "    <tr>\n",
       "      <th>2</th>\n",
       "      <td>Reidel Anthony</td>\n",
       "      <td>36</td>\n",
       "      <td>0.121562</td>\n",
       "      <td>2.800000</td>\n",
       "      <td>4.411111</td>\n",
       "    </tr>\n",
       "    <tr>\n",
       "      <th>3</th>\n",
       "      <td>Justin Armour</td>\n",
       "      <td>14</td>\n",
       "      <td>0.173866</td>\n",
       "      <td>5.014286</td>\n",
       "      <td>7.371429</td>\n",
       "    </tr>\n",
       "    <tr>\n",
       "      <th>4</th>\n",
       "      <td>Karsten Bailey</td>\n",
       "      <td>9</td>\n",
       "      <td>0.076829</td>\n",
       "      <td>1.644444</td>\n",
       "      <td>2.644444</td>\n",
       "    </tr>\n",
       "  </tbody>\n",
       "</table>\n",
       "</div>"
      ],
      "text/plain": [
       "         player_name  num_games  avg_tgt_share  avg_fantasy_pts  \\\n",
       "0  Derrick Alexander         52       0.199942         7.315385   \n",
       "1       Brian Alford          2       0.057958         3.350000   \n",
       "2     Reidel Anthony         36       0.121562         2.800000   \n",
       "3      Justin Armour         14       0.173866         5.014286   \n",
       "4     Karsten Bailey          9       0.076829         1.644444   \n",
       "\n",
       "   avg_fantasy_pts_ppr  \n",
       "0            10.526923  \n",
       "1             3.850000  \n",
       "2             4.411111  \n",
       "3             7.371429  \n",
       "4             2.644444  "
      ]
     },
     "execution_count": 215,
     "metadata": {},
     "output_type": "execute_result"
    }
   ],
   "source": [
    "query = \"\"\"\n",
    "WITH data AS (\n",
    "    SELECT\n",
    "        player_id,\n",
    "        player_display_name AS player_name,\n",
    "        target_share AS tgt_share,\n",
    "        fantasy_points AS fantasy_pts,\n",
    "        fantasy_points_ppr AS fantasy_pts_ppr\n",
    "    FROM weekly \n",
    "    WHERE position = 'WR'\n",
    "        AND season_type = 'REG'\n",
    "        AND target_share IS NOT NULL -- There are data errors where target share was recorded as NULL, these can be removed\n",
    "        AND season <> 2022\n",
    "), aggregation AS (\n",
    "    SELECT\n",
    "        player_name,\n",
    "        COUNT(*) AS num_games,\n",
    "        AVG(tgt_share) AS avg_tgt_share,\n",
    "        AVG(fantasy_pts) AS avg_fantasy_pts,\n",
    "        AVG(fantasy_pts_ppr) AS avg_fantasy_pts_ppr\n",
    "    FROM data\n",
    "    GROUP BY player_id, player_name\n",
    ")\n",
    "SELECT *\n",
    "FROM aggregation\n",
    "\"\"\"\n",
    "\n",
    "df_by_player_1999_2021 = pd.read_sql(query, conn)\n",
    "print(df_by_player_1999_2021.shape)\n",
    "df_by_player_1999_2021.head()\n"
   ]
  },
  {
   "cell_type": "markdown",
   "metadata": {},
   "source": [
    "### Clean Data"
   ]
  },
  {
   "cell_type": "code",
   "execution_count": 216,
   "metadata": {},
   "outputs": [
    {
     "name": "stdout",
     "output_type": "stream",
     "text": [
      "0.23333333333333334\n"
     ]
    },
    {
     "data": {
      "text/plain": [
       "1     0.096581\n",
       "2     0.058974\n",
       "3     0.045299\n",
       "4     0.032479\n",
       "5     0.025641\n",
       "6     0.021368\n",
       "7     0.029915\n",
       "8     0.024786\n",
       "9     0.015385\n",
       "10    0.013675\n",
       "Name: num_games, dtype: float64"
      ]
     },
     "execution_count": 216,
     "metadata": {},
     "output_type": "execute_result"
    }
   ],
   "source": [
    "# Check for number of games played\n",
    "# If number of game played = 1, can create noise. Will want to remove\n",
    "print(df_by_player_1999_2021['num_games'].value_counts(normalize=True).sort_index()[:4].sum())\n",
    "df_by_player_1999_2021['num_games'].value_counts(normalize=True).sort_index()[:10]"
   ]
  },
  {
   "cell_type": "markdown",
   "metadata": {},
   "source": [
    "I'll remove players with only 1 game played since those can definitely create some noise in the data. Based on normalized values I'd like to take players that have at least 5 games played but that would mean removing almost 25% of the data so I'll leave players with 2+ games in the dataset."
   ]
  },
  {
   "cell_type": "code",
   "execution_count": 217,
   "metadata": {},
   "outputs": [
    {
     "name": "stdout",
     "output_type": "stream",
     "text": [
      "(1057, 5)\n"
     ]
    }
   ],
   "source": [
    "df_by_player_1999_2021 = df_by_player_1999_2021[df_by_player_1999_2021['num_games'] > 1]\n",
    "print(df_by_player_1999_2021.shape)"
   ]
  },
  {
   "cell_type": "markdown",
   "metadata": {},
   "source": [
    "### Exploratory Analysis"
   ]
  },
  {
   "cell_type": "code",
   "execution_count": 218,
   "metadata": {},
   "outputs": [
    {
     "data": {
      "text/plain": [
       "<seaborn.axisgrid.FacetGrid at 0x291a78c70>"
      ]
     },
     "execution_count": 218,
     "metadata": {},
     "output_type": "execute_result"
    },
    {
     "data": {
      "image/png": "[encoded data removed]",
      "text/plain": [
       "<Figure size 500x500 with 1 Axes>"
      ]
     },
     "metadata": {},
     "output_type": "display_data"
    }
   ],
   "source": [
    "# Check distribution\n",
    "sns.displot(\n",
    "    x=\"avg_tgt_share\",\n",
    "    data=df_by_player_1999_2021,\n",
    "    kind=\"hist\",\n",
    "    bins = 15\n",
    ")"
   ]
  },
  {
   "cell_type": "code",
   "execution_count": 219,
   "metadata": {},
   "outputs": [
    {
     "data": {
      "text/plain": [
       "<seaborn.axisgrid.FacetGrid at 0x29289ae90>"
      ]
     },
     "execution_count": 219,
     "metadata": {},
     "output_type": "execute_result"
    },
    {
     "data": {
      "image/png": "[encoded data removed]",
      "text/plain": [
       "<Figure size 500x500 with 1 Axes>"
      ]
     },
     "metadata": {},
     "output_type": "display_data"
    }
   ],
   "source": [
    "g = sns.relplot(\n",
    "    x=\"avg_tgt_share\",\n",
    "    y=\"avg_fantasy_pts\",\n",
    "    data=df_by_player_1999_2021\n",
    ")\n",
    "\n",
    "g.set(\n",
    "    xlabel=\"Average Target Share\", \n",
    "    ylabel=\"Average Fantasy Points (Standard)\",\n",
    "    title=\"Avg Target Share vs. Avg Fantasy Points (Reg Season) \\n All WRs, 1999-2021, by Player\"\n",
    ")"
   ]
  },
  {
   "cell_type": "code",
   "execution_count": 220,
   "metadata": {},
   "outputs": [
    {
     "name": "stdout",
     "output_type": "stream",
     "text": [
      "Correlation Coefficient: 0.8935066509956594\n"
     ]
    }
   ],
   "source": [
    "print(f\"Correlation Coefficient: {df_by_player_1999_2021['avg_tgt_share'].corr(df_by_player_1999_2021['avg_fantasy_pts'])}\")"
   ]
  },
  {
   "cell_type": "markdown",
   "metadata": {},
   "source": [
    "I'll group by player to smooth out the variance and verify that the relationship holds over the course of a season and a player's career"
   ]
  },
  {
   "cell_type": "code",
   "execution_count": 128,
   "metadata": {},
   "outputs": [],
   "source": [
    "query = \"\"\"\n",
    "WITH data AS (\n",
    "    SELECT\n",
    "        player_id,\n",
    "        player_display_name AS player_name,\n",
    "        season,\n",
    "        week,\n",
    "        receptions,\n",
    "        targets,\n",
    "        (1.0 * receptions/targets) AS tgt_conv,\n",
    "        receiving_yards AS yds,\n",
    "        receiving_tds AS tds,\n",
    "        receiving_air_yards AS air_yds,\n",
    "        receiving_yards_after_catch AS yac,\n",
    "        target_share AS tgt_share,\n",
    "        air_yards_share AS air_yds_share,\n",
    "        fantasy_points AS fantasy_pts,\n",
    "        fantasy_points_ppr AS fantasy_pts_ppr\n",
    "    FROM weekly \n",
    "    WHERE position = 'WR'\n",
    "        AND season_type = 'REG'\n",
    "), aggregation AS (\n",
    "    SELECT\n",
    "        player_id,\n",
    "        player_name,\n",
    "        COUNT(*) AS num_games,\n",
    "        AVG(receptions) AS avg_receptions,\n",
    "        AVG(targets) AS avg_targets,\n",
    "        AVG(tgt_conv) AS avg_tgt_conv,\n",
    "        AVG(yds) AS avg_yds,\n",
    "        AVG(tds) AS avg_tds,\n",
    "        AVG(air_yds) AS avg_air_yds,\n",
    "        AVG(yac) AS avg_yac,\n",
    "        AVG(tgt_share) AS avg_tgt_share,\n",
    "        AVG(air_yds_share) AS avg_air_yds_share,\n",
    "        AVG(fantasy_pts) AS avg_fantasy_pts,\n",
    "        AVG(fantasy_pts_ppr) AS avg_fantasy_pts_ppr\n",
    "    FROM data\n",
    "    GROUP BY player_id, player_name\n",
    ")\n",
    "SELECT *\n",
    "FROM aggregation\n",
    "\"\"\"\n",
    "\n",
    "df_avg_sql = pd.read_sql(query, conn)"
   ]
  },
  {
   "cell_type": "code",
   "execution_count": 129,
   "metadata": {},
   "outputs": [
    {
     "data": {
      "text/plain": [
       "<seaborn.axisgrid.FacetGrid at 0x1690687c0>"
      ]
     },
     "execution_count": 129,
     "metadata": {},
     "output_type": "execute_result"
    },
    {
     "data": {
      "image/png": "[encoded data removed]",
      "text/plain": [
       "<Figure size 500x500 with 1 Axes>"
      ]
     },
     "metadata": {},
     "output_type": "display_data"
    }
   ],
   "source": [
    "sns.displot(\n",
    "    x='num_games',\n",
    "    data=df_avg_sql,\n",
    "    kind=\"hist\"\n",
    ")"
   ]
  },
  {
   "cell_type": "code",
   "execution_count": 130,
   "metadata": {},
   "outputs": [
    {
     "name": "stdout",
     "output_type": "stream",
     "text": [
      "0.238290879211175\n"
     ]
    },
    {
     "data": {
      "text/plain": [
       "1     0.096138\n",
       "2     0.063270\n",
       "3     0.043550\n",
       "4     0.035333\n",
       "5     0.023829\n",
       "6     0.023829\n",
       "7     0.026294\n",
       "8     0.032046\n",
       "9     0.014790\n",
       "10    0.011504\n",
       "Name: num_games, dtype: float64"
      ]
     },
     "execution_count": 130,
     "metadata": {},
     "output_type": "execute_result"
    }
   ],
   "source": [
    "print(df_avg_sql['num_games'].value_counts(normalize=True).sort_index()[:4].sum())\n",
    "df_avg_sql['num_games'].value_counts(normalize=True).sort_index()[:10]"
   ]
  },
  {
   "cell_type": "markdown",
   "metadata": {},
   "source": [
    "Let's remove players with only 1 game played since those can definitely create some noise in the data. Based on normalized values I'd like to take players that have at least 5 games played but that would mean removing almost 25% of the data."
   ]
  },
  {
   "cell_type": "code",
   "execution_count": 131,
   "metadata": {},
   "outputs": [
    {
     "name": "stdout",
     "output_type": "stream",
     "text": [
      "(1100, 14)\n"
     ]
    },
    {
     "data": {
      "text/plain": [
       "<seaborn.axisgrid.FacetGrid at 0x17b4a19c0>"
      ]
     },
     "execution_count": 131,
     "metadata": {},
     "output_type": "execute_result"
    },
    {
     "data": {
      "image/png": "[encoded data removed]",
      "text/plain": [
       "<Figure size 500x500 with 1 Axes>"
      ]
     },
     "metadata": {},
     "output_type": "display_data"
    }
   ],
   "source": [
    "# Filter out players with only 1 game played\n",
    "only_one_game = (df_avg_sql['num_games'] == 1)\n",
    "\n",
    "# Print number of player records\n",
    "print(df_avg_sql[~only_one_game].shape)\n",
    "\n",
    "# Plot\n",
    "g = sns.relplot(\n",
    "    x=\"avg_tgt_share\",\n",
    "    y=\"avg_fantasy_pts\",\n",
    "    data=df_avg_sql[~only_one_game]\n",
    ")\n",
    "\n",
    "g.set(\n",
    "    xlabel=\"Target Share\", \n",
    "    ylabel=\"Fantasy Points (Standard)\",\n",
    "    title=\"Target Share vs. Fantasy Points (Regular Season) \\n All WRs, 1999-2022, by Player\"\n",
    ")"
   ]
  },
  {
   "cell_type": "code",
   "execution_count": 132,
   "metadata": {},
   "outputs": [
    {
     "name": "stdout",
     "output_type": "stream",
     "text": [
      "Correlation Coefficient: 0.889\n"
     ]
    }
   ],
   "source": [
    "print(f\"Correlation Coefficient: {round(df_avg_sql[~only_one_game]['avg_tgt_share'].corr(df_avg_sql[~only_one_game]['avg_fantasy_pts']),3)}\")"
   ]
  },
  {
   "cell_type": "code",
   "execution_count": 133,
   "metadata": {},
   "outputs": [
    {
     "data": {
      "text/plain": [
       "Index(['player_id', 'player_name', 'season', 'week', 'receptions', 'targets',\n",
       "       'tgt_conv', 'yds', 'tds', 'air_yds', 'yac', 'tgt_share',\n",
       "       'air_yds_share', 'fantasy_pts', 'fantasy_pts_ppr'],\n",
       "      dtype='object')"
      ]
     },
     "execution_count": 133,
     "metadata": {},
     "output_type": "execute_result"
    }
   ],
   "source": [
    "df_all.columns"
   ]
  },
  {
   "cell_type": "code",
   "execution_count": 134,
   "metadata": {},
   "outputs": [
    {
     "name": "stdout",
     "output_type": "stream",
     "text": [
      "Player recrods: (1217, 14)\n"
     ]
    },
    {
     "data": {
      "text/plain": [
       "<seaborn.axisgrid.FacetGrid at 0x1699d49d0>"
      ]
     },
     "execution_count": 134,
     "metadata": {},
     "output_type": "execute_result"
    },
    {
     "data": {
      "image/png": "[encoded data removed]",
      "text/plain": [
       "<Figure size 500x500 with 1 Axes>"
      ]
     },
     "metadata": {},
     "output_type": "display_data"
    }
   ],
   "source": [
    "# Define aggregations\n",
    "aggregations = {\n",
    "    'season':'count', # number of games played\n",
    "    'receptions':'mean',\n",
    "    'targets':'mean',\n",
    "    'tgt_conv':'mean',\n",
    "    'yds':'mean',\n",
    "    'tds':'mean',\n",
    "    'air_yds':'mean',\n",
    "    'yac':'mean',\n",
    "    'tgt_share':'mean',\n",
    "    'air_yds_share':'mean',\n",
    "    'fantasy_pts':'mean',\n",
    "    'fantasy_pts_ppr':'mean'\n",
    "}\n",
    "\n",
    "# Aggregate and validate number of records\n",
    "df_avg = df_all.groupby(['player_id', 'player_name']).agg(aggregations).reset_index()\n",
    "print(f\"Player recrods: {df_avg.shape}\")\n",
    "\n",
    "# Plot\n",
    "g = sns.relplot(\n",
    "    x=\"tgt_share\",\n",
    "    y=\"fantasy_pts\",\n",
    "    data=df_avg\n",
    ")\n",
    "\n",
    "g.set(\n",
    "    xlabel=\"Target Share\", \n",
    "    ylabel=\"Fantasy Points (Standard)\",\n",
    "    title=\"Target Share vs. Fantasy Points (Regular Season) \\n All WRs, 1999-2022, by Player\"\n",
    ")"
   ]
  },
  {
   "cell_type": "code",
   "execution_count": 135,
   "metadata": {},
   "outputs": [
    {
     "name": "stdout",
     "output_type": "stream",
     "text": [
      "Correlation Coefficient: 0.885\n"
     ]
    }
   ],
   "source": [
    "print(f\"Correlation Coefficient: {round(df_avg['tgt_share'].corr(df_avg['fantasy_pts']),3)}\")"
   ]
  },
  {
   "cell_type": "markdown",
   "metadata": {},
   "source": [
    "A correlation coefficient of 0.89 shows a very strong positive correlation between a player's average air yards and average fantasy points over their career."
   ]
  },
  {
   "cell_type": "code",
   "execution_count": 136,
   "metadata": {},
   "outputs": [
    {
     "data": {
      "text/html": [
       "<div>\n",
       "<style scoped>\n",
       "    .dataframe tbody tr th:only-of-type {\n",
       "        vertical-align: middle;\n",
       "    }\n",
       "\n",
       "    .dataframe tbody tr th {\n",
       "        vertical-align: top;\n",
       "    }\n",
       "\n",
       "    .dataframe thead th {\n",
       "        text-align: right;\n",
       "    }\n",
       "</style>\n",
       "<table border=\"1\" class=\"dataframe\">\n",
       "  <thead>\n",
       "    <tr style=\"text-align: right;\">\n",
       "      <th></th>\n",
       "      <th>player_name</th>\n",
       "      <th>num_games</th>\n",
       "      <th>avg_receptions</th>\n",
       "      <th>avg_targets</th>\n",
       "      <th>avg_yds</th>\n",
       "      <th>avg_tds</th>\n",
       "      <th>avg_air_yds</th>\n",
       "      <th>avg_yac</th>\n",
       "      <th>avg_tgt_share</th>\n",
       "      <th>avg_air_yds_share</th>\n",
       "      <th>avg_fantasy_pts</th>\n",
       "      <th>avg_fantasy_pts_ppr</th>\n",
       "    </tr>\n",
       "  </thead>\n",
       "  <tbody>\n",
       "    <tr>\n",
       "      <th>0</th>\n",
       "      <td>Ja'Marr Chase</td>\n",
       "      <td>24</td>\n",
       "      <td>5.333</td>\n",
       "      <td>8.417</td>\n",
       "      <td>85.833</td>\n",
       "      <td>0.792</td>\n",
       "      <td>95.042</td>\n",
       "      <td>38.500</td>\n",
       "      <td>0.245</td>\n",
       "      <td>0.369</td>\n",
       "      <td>13.263</td>\n",
       "      <td>18.596</td>\n",
       "    </tr>\n",
       "    <tr>\n",
       "      <th>1</th>\n",
       "      <td>Justin Jefferson</td>\n",
       "      <td>40</td>\n",
       "      <td>6.200</td>\n",
       "      <td>9.075</td>\n",
       "      <td>94.200</td>\n",
       "      <td>0.475</td>\n",
       "      <td>101.925</td>\n",
       "      <td>31.675</td>\n",
       "      <td>0.277</td>\n",
       "      <td>0.424</td>\n",
       "      <td>12.625</td>\n",
       "      <td>18.825</td>\n",
       "    </tr>\n",
       "    <tr>\n",
       "      <th>2</th>\n",
       "      <td>Marvin Harrison</td>\n",
       "      <td>146</td>\n",
       "      <td>6.192</td>\n",
       "      <td>8.699</td>\n",
       "      <td>82.664</td>\n",
       "      <td>0.733</td>\n",
       "      <td>12.192</td>\n",
       "      <td>3.610</td>\n",
       "      <td>0.282</td>\n",
       "      <td>0.065</td>\n",
       "      <td>12.609</td>\n",
       "      <td>18.801</td>\n",
       "    </tr>\n",
       "    <tr>\n",
       "      <th>3</th>\n",
       "      <td>Tyreek Hill</td>\n",
       "      <td>99</td>\n",
       "      <td>5.535</td>\n",
       "      <td>8.081</td>\n",
       "      <td>76.677</td>\n",
       "      <td>0.586</td>\n",
       "      <td>95.828</td>\n",
       "      <td>27.293</td>\n",
       "      <td>0.227</td>\n",
       "      <td>0.337</td>\n",
       "      <td>12.561</td>\n",
       "      <td>18.096</td>\n",
       "    </tr>\n",
       "    <tr>\n",
       "      <th>4</th>\n",
       "      <td>Terrell Owens</td>\n",
       "      <td>170</td>\n",
       "      <td>5.371</td>\n",
       "      <td>7.971</td>\n",
       "      <td>78.582</td>\n",
       "      <td>0.747</td>\n",
       "      <td>35.535</td>\n",
       "      <td>9.371</td>\n",
       "      <td>0.271</td>\n",
       "      <td>0.170</td>\n",
       "      <td>12.489</td>\n",
       "      <td>17.860</td>\n",
       "    </tr>\n",
       "    <tr>\n",
       "      <th>5</th>\n",
       "      <td>Calvin Johnson</td>\n",
       "      <td>135</td>\n",
       "      <td>5.415</td>\n",
       "      <td>8.896</td>\n",
       "      <td>86.067</td>\n",
       "      <td>0.615</td>\n",
       "      <td>120.215</td>\n",
       "      <td>24.363</td>\n",
       "      <td>0.249</td>\n",
       "      <td>0.424</td>\n",
       "      <td>12.345</td>\n",
       "      <td>17.760</td>\n",
       "    </tr>\n",
       "    <tr>\n",
       "      <th>6</th>\n",
       "      <td>Antonio Brown</td>\n",
       "      <td>145</td>\n",
       "      <td>6.400</td>\n",
       "      <td>9.697</td>\n",
       "      <td>84.766</td>\n",
       "      <td>0.572</td>\n",
       "      <td>106.697</td>\n",
       "      <td>30.786</td>\n",
       "      <td>0.265</td>\n",
       "      <td>0.331</td>\n",
       "      <td>12.243</td>\n",
       "      <td>18.643</td>\n",
       "    </tr>\n",
       "    <tr>\n",
       "      <th>7</th>\n",
       "      <td>Julio Jones</td>\n",
       "      <td>147</td>\n",
       "      <td>6.020</td>\n",
       "      <td>9.395</td>\n",
       "      <td>91.340</td>\n",
       "      <td>0.422</td>\n",
       "      <td>117.986</td>\n",
       "      <td>29.463</td>\n",
       "      <td>0.255</td>\n",
       "      <td>0.380</td>\n",
       "      <td>11.675</td>\n",
       "      <td>17.695</td>\n",
       "    </tr>\n",
       "    <tr>\n",
       "      <th>8</th>\n",
       "      <td>Cooper Kupp</td>\n",
       "      <td>78</td>\n",
       "      <td>6.372</td>\n",
       "      <td>8.744</td>\n",
       "      <td>79.526</td>\n",
       "      <td>0.577</td>\n",
       "      <td>67.718</td>\n",
       "      <td>37.410</td>\n",
       "      <td>0.248</td>\n",
       "      <td>0.253</td>\n",
       "      <td>11.633</td>\n",
       "      <td>18.005</td>\n",
       "    </tr>\n",
       "    <tr>\n",
       "      <th>9</th>\n",
       "      <td>Odell Beckham</td>\n",
       "      <td>96</td>\n",
       "      <td>5.531</td>\n",
       "      <td>9.167</td>\n",
       "      <td>76.740</td>\n",
       "      <td>0.583</td>\n",
       "      <td>108.833</td>\n",
       "      <td>26.177</td>\n",
       "      <td>0.256</td>\n",
       "      <td>0.372</td>\n",
       "      <td>11.536</td>\n",
       "      <td>17.067</td>\n",
       "    </tr>\n",
       "  </tbody>\n",
       "</table>\n",
       "</div>"
      ],
      "text/plain": [
       "        player_name  num_games  avg_receptions  avg_targets  avg_yds  avg_tds  \\\n",
       "0     Ja'Marr Chase         24           5.333        8.417   85.833    0.792   \n",
       "1  Justin Jefferson         40           6.200        9.075   94.200    0.475   \n",
       "2   Marvin Harrison        146           6.192        8.699   82.664    0.733   \n",
       "3       Tyreek Hill         99           5.535        8.081   76.677    0.586   \n",
       "4     Terrell Owens        170           5.371        7.971   78.582    0.747   \n",
       "5    Calvin Johnson        135           5.415        8.896   86.067    0.615   \n",
       "6     Antonio Brown        145           6.400        9.697   84.766    0.572   \n",
       "7       Julio Jones        147           6.020        9.395   91.340    0.422   \n",
       "8       Cooper Kupp         78           6.372        8.744   79.526    0.577   \n",
       "9     Odell Beckham         96           5.531        9.167   76.740    0.583   \n",
       "\n",
       "   avg_air_yds  avg_yac  avg_tgt_share  avg_air_yds_share  avg_fantasy_pts  \\\n",
       "0       95.042   38.500          0.245              0.369           13.263   \n",
       "1      101.925   31.675          0.277              0.424           12.625   \n",
       "2       12.192    3.610          0.282              0.065           12.609   \n",
       "3       95.828   27.293          0.227              0.337           12.561   \n",
       "4       35.535    9.371          0.271              0.170           12.489   \n",
       "5      120.215   24.363          0.249              0.424           12.345   \n",
       "6      106.697   30.786          0.265              0.331           12.243   \n",
       "7      117.986   29.463          0.255              0.380           11.675   \n",
       "8       67.718   37.410          0.248              0.253           11.633   \n",
       "9      108.833   26.177          0.256              0.372           11.536   \n",
       "\n",
       "   avg_fantasy_pts_ppr  \n",
       "0               18.596  \n",
       "1               18.825  \n",
       "2               18.801  \n",
       "3               18.096  \n",
       "4               17.860  \n",
       "5               17.760  \n",
       "6               18.643  \n",
       "7               17.695  \n",
       "8               18.005  \n",
       "9               17.067  "
      ]
     },
     "execution_count": 136,
     "metadata": {},
     "output_type": "execute_result"
    }
   ],
   "source": [
    "# Cleaning\n",
    "df_avg.rename(columns = {\n",
    "    'season':'num_games',\n",
    "    'receptions':'avg_receptions',\n",
    "    'targets':'avg_targets', \n",
    "    'yds':'avg_yds', \n",
    "    'tds':'avg_tds',\n",
    "    'air_yds':'avg_air_yds', \n",
    "    'yac':'avg_yac', \n",
    "    'tgt_share':'avg_tgt_share', \n",
    "    'air_yds_share':'avg_air_yds_share', \n",
    "    'fantasy_pts':'avg_fantasy_pts', \n",
    "    'fantasy_pts_ppr':'avg_fantasy_pts_ppr'\n",
    "}, inplace=True)\n",
    "\n",
    "# Remove players with only 1 game played\n",
    "df_avg = df_avg[df_avg['num_games'] > 1]\n",
    "\n",
    "# Look at the top 10 receivers by average fantasy points over their career\n",
    "col_order = [\n",
    "    'player_name', 'num_games', 'avg_receptions', 'avg_targets', 'avg_yds', 'avg_tds',\n",
    "    'avg_air_yds', 'avg_yac', 'avg_tgt_share', 'avg_air_yds_share', 'avg_fantasy_pts', 'avg_fantasy_pts_ppr']\n",
    "\n",
    "df_avg_final = df_avg.sort_values('avg_fantasy_pts', ascending=False).reset_index(drop=True)[col_order].round(3)\n",
    "\n",
    "df_avg_final.head(10)\n"
   ]
  },
  {
   "cell_type": "code",
   "execution_count": 137,
   "metadata": {},
   "outputs": [
    {
     "data": {
      "text/html": [
       "<div>\n",
       "<style scoped>\n",
       "    .dataframe tbody tr th:only-of-type {\n",
       "        vertical-align: middle;\n",
       "    }\n",
       "\n",
       "    .dataframe tbody tr th {\n",
       "        vertical-align: top;\n",
       "    }\n",
       "\n",
       "    .dataframe thead th {\n",
       "        text-align: right;\n",
       "    }\n",
       "</style>\n",
       "<table border=\"1\" class=\"dataframe\">\n",
       "  <thead>\n",
       "    <tr style=\"text-align: right;\">\n",
       "      <th></th>\n",
       "      <th>player_id</th>\n",
       "      <th>player_name</th>\n",
       "      <th>num_games</th>\n",
       "      <th>avg_receptions</th>\n",
       "      <th>avg_targets</th>\n",
       "      <th>avg_tgt_conv</th>\n",
       "      <th>avg_yds</th>\n",
       "      <th>avg_tds</th>\n",
       "      <th>avg_air_yds</th>\n",
       "      <th>avg_yac</th>\n",
       "      <th>avg_tgt_share</th>\n",
       "      <th>avg_air_yds_share</th>\n",
       "      <th>avg_fantasy_pts</th>\n",
       "      <th>avg_fantasy_pts_ppr</th>\n",
       "    </tr>\n",
       "  </thead>\n",
       "  <tbody>\n",
       "    <tr>\n",
       "      <th>1121</th>\n",
       "      <td>00-0036183</td>\n",
       "      <td>Kristian Wilkerson</td>\n",
       "      <td>1</td>\n",
       "      <td>4.000000</td>\n",
       "      <td>8.000000</td>\n",
       "      <td>0.500000</td>\n",
       "      <td>42.000000</td>\n",
       "      <td>2.000000</td>\n",
       "      <td>132.000000</td>\n",
       "      <td>5.000000</td>\n",
       "      <td>0.242424</td>\n",
       "      <td>0.534413</td>\n",
       "      <td>16.200001</td>\n",
       "      <td>20.200001</td>\n",
       "    </tr>\n",
       "    <tr>\n",
       "      <th>1175</th>\n",
       "      <td>00-0036900</td>\n",
       "      <td>Ja'Marr Chase</td>\n",
       "      <td>24</td>\n",
       "      <td>5.333333</td>\n",
       "      <td>8.416667</td>\n",
       "      <td>0.629874</td>\n",
       "      <td>85.833333</td>\n",
       "      <td>0.791667</td>\n",
       "      <td>95.041667</td>\n",
       "      <td>38.500000</td>\n",
       "      <td>0.244770</td>\n",
       "      <td>0.369264</td>\n",
       "      <td>13.262500</td>\n",
       "      <td>18.595833</td>\n",
       "    </tr>\n",
       "    <tr>\n",
       "      <th>448</th>\n",
       "      <td>00-0024148</td>\n",
       "      <td>Cory Ross</td>\n",
       "      <td>1</td>\n",
       "      <td>0.000000</td>\n",
       "      <td>0.000000</td>\n",
       "      <td>NaN</td>\n",
       "      <td>0.000000</td>\n",
       "      <td>0.000000</td>\n",
       "      <td>0.000000</td>\n",
       "      <td>0.000000</td>\n",
       "      <td>NaN</td>\n",
       "      <td>NaN</td>\n",
       "      <td>13.200000</td>\n",
       "      <td>13.200000</td>\n",
       "    </tr>\n",
       "    <tr>\n",
       "      <th>1137</th>\n",
       "      <td>00-0036322</td>\n",
       "      <td>Justin Jefferson</td>\n",
       "      <td>40</td>\n",
       "      <td>6.200000</td>\n",
       "      <td>9.075000</td>\n",
       "      <td>0.686439</td>\n",
       "      <td>94.200000</td>\n",
       "      <td>0.475000</td>\n",
       "      <td>101.925000</td>\n",
       "      <td>31.675000</td>\n",
       "      <td>0.276995</td>\n",
       "      <td>0.424437</td>\n",
       "      <td>12.625500</td>\n",
       "      <td>18.825500</td>\n",
       "    </tr>\n",
       "    <tr>\n",
       "      <th>69</th>\n",
       "      <td>00-0007024</td>\n",
       "      <td>Marvin Harrison</td>\n",
       "      <td>146</td>\n",
       "      <td>6.191781</td>\n",
       "      <td>8.698630</td>\n",
       "      <td>0.757151</td>\n",
       "      <td>82.664384</td>\n",
       "      <td>0.732877</td>\n",
       "      <td>12.191781</td>\n",
       "      <td>3.609589</td>\n",
       "      <td>0.282374</td>\n",
       "      <td>0.065128</td>\n",
       "      <td>12.608904</td>\n",
       "      <td>18.800685</td>\n",
       "    </tr>\n",
       "    <tr>\n",
       "      <th>929</th>\n",
       "      <td>00-0033040</td>\n",
       "      <td>Tyreek Hill</td>\n",
       "      <td>99</td>\n",
       "      <td>5.535354</td>\n",
       "      <td>8.080808</td>\n",
       "      <td>0.689627</td>\n",
       "      <td>76.676768</td>\n",
       "      <td>0.585859</td>\n",
       "      <td>95.828283</td>\n",
       "      <td>27.292929</td>\n",
       "      <td>0.227002</td>\n",
       "      <td>0.337072</td>\n",
       "      <td>12.560606</td>\n",
       "      <td>18.095960</td>\n",
       "    </tr>\n",
       "    <tr>\n",
       "      <th>135</th>\n",
       "      <td>00-0012478</td>\n",
       "      <td>Terrell Owens</td>\n",
       "      <td>170</td>\n",
       "      <td>5.370588</td>\n",
       "      <td>7.970588</td>\n",
       "      <td>0.715073</td>\n",
       "      <td>78.582353</td>\n",
       "      <td>0.747059</td>\n",
       "      <td>35.535294</td>\n",
       "      <td>9.370588</td>\n",
       "      <td>0.271462</td>\n",
       "      <td>0.169944</td>\n",
       "      <td>12.489412</td>\n",
       "      <td>17.860000</td>\n",
       "    </tr>\n",
       "    <tr>\n",
       "      <th>482</th>\n",
       "      <td>00-0025389</td>\n",
       "      <td>Calvin Johnson</td>\n",
       "      <td>135</td>\n",
       "      <td>5.414815</td>\n",
       "      <td>8.896296</td>\n",
       "      <td>0.675657</td>\n",
       "      <td>86.066667</td>\n",
       "      <td>0.614815</td>\n",
       "      <td>120.214815</td>\n",
       "      <td>24.362963</td>\n",
       "      <td>0.249301</td>\n",
       "      <td>0.423850</td>\n",
       "      <td>12.345185</td>\n",
       "      <td>17.760000</td>\n",
       "    </tr>\n",
       "    <tr>\n",
       "      <th>629</th>\n",
       "      <td>00-0027793</td>\n",
       "      <td>Antonio Brown</td>\n",
       "      <td>145</td>\n",
       "      <td>6.400000</td>\n",
       "      <td>9.696552</td>\n",
       "      <td>0.667820</td>\n",
       "      <td>84.765517</td>\n",
       "      <td>0.572414</td>\n",
       "      <td>106.696552</td>\n",
       "      <td>30.786207</td>\n",
       "      <td>0.265420</td>\n",
       "      <td>0.330902</td>\n",
       "      <td>12.243448</td>\n",
       "      <td>18.643448</td>\n",
       "    </tr>\n",
       "    <tr>\n",
       "      <th>641</th>\n",
       "      <td>00-0027944</td>\n",
       "      <td>Julio Jones</td>\n",
       "      <td>147</td>\n",
       "      <td>6.020408</td>\n",
       "      <td>9.394558</td>\n",
       "      <td>0.642261</td>\n",
       "      <td>91.340136</td>\n",
       "      <td>0.421769</td>\n",
       "      <td>117.986395</td>\n",
       "      <td>29.462585</td>\n",
       "      <td>0.254901</td>\n",
       "      <td>0.379678</td>\n",
       "      <td>11.674830</td>\n",
       "      <td>17.695238</td>\n",
       "    </tr>\n",
       "  </tbody>\n",
       "</table>\n",
       "</div>"
      ],
      "text/plain": [
       "       player_id         player_name  num_games  avg_receptions  avg_targets  \\\n",
       "1121  00-0036183  Kristian Wilkerson          1        4.000000     8.000000   \n",
       "1175  00-0036900       Ja'Marr Chase         24        5.333333     8.416667   \n",
       "448   00-0024148           Cory Ross          1        0.000000     0.000000   \n",
       "1137  00-0036322    Justin Jefferson         40        6.200000     9.075000   \n",
       "69    00-0007024     Marvin Harrison        146        6.191781     8.698630   \n",
       "929   00-0033040         Tyreek Hill         99        5.535354     8.080808   \n",
       "135   00-0012478       Terrell Owens        170        5.370588     7.970588   \n",
       "482   00-0025389      Calvin Johnson        135        5.414815     8.896296   \n",
       "629   00-0027793       Antonio Brown        145        6.400000     9.696552   \n",
       "641   00-0027944         Julio Jones        147        6.020408     9.394558   \n",
       "\n",
       "      avg_tgt_conv    avg_yds   avg_tds  avg_air_yds    avg_yac  \\\n",
       "1121      0.500000  42.000000  2.000000   132.000000   5.000000   \n",
       "1175      0.629874  85.833333  0.791667    95.041667  38.500000   \n",
       "448            NaN   0.000000  0.000000     0.000000   0.000000   \n",
       "1137      0.686439  94.200000  0.475000   101.925000  31.675000   \n",
       "69        0.757151  82.664384  0.732877    12.191781   3.609589   \n",
       "929       0.689627  76.676768  0.585859    95.828283  27.292929   \n",
       "135       0.715073  78.582353  0.747059    35.535294   9.370588   \n",
       "482       0.675657  86.066667  0.614815   120.214815  24.362963   \n",
       "629       0.667820  84.765517  0.572414   106.696552  30.786207   \n",
       "641       0.642261  91.340136  0.421769   117.986395  29.462585   \n",
       "\n",
       "      avg_tgt_share  avg_air_yds_share  avg_fantasy_pts  avg_fantasy_pts_ppr  \n",
       "1121       0.242424           0.534413        16.200001            20.200001  \n",
       "1175       0.244770           0.369264        13.262500            18.595833  \n",
       "448             NaN                NaN        13.200000            13.200000  \n",
       "1137       0.276995           0.424437        12.625500            18.825500  \n",
       "69         0.282374           0.065128        12.608904            18.800685  \n",
       "929        0.227002           0.337072        12.560606            18.095960  \n",
       "135        0.271462           0.169944        12.489412            17.860000  \n",
       "482        0.249301           0.423850        12.345185            17.760000  \n",
       "629        0.265420           0.330902        12.243448            18.643448  \n",
       "641        0.254901           0.379678        11.674830            17.695238  "
      ]
     },
     "execution_count": 137,
     "metadata": {},
     "output_type": "execute_result"
    }
   ],
   "source": [
    "df_avg_sql.sort_values('avg_fantasy_pts', ascending=False).head(10)"
   ]
  },
  {
   "cell_type": "code",
   "execution_count": 138,
   "metadata": {},
   "outputs": [
    {
     "data": {
      "text/html": [
       "<div>\n",
       "<style scoped>\n",
       "    .dataframe tbody tr th:only-of-type {\n",
       "        vertical-align: middle;\n",
       "    }\n",
       "\n",
       "    .dataframe tbody tr th {\n",
       "        vertical-align: top;\n",
       "    }\n",
       "\n",
       "    .dataframe thead th {\n",
       "        text-align: right;\n",
       "    }\n",
       "</style>\n",
       "<table border=\"1\" class=\"dataframe\">\n",
       "  <thead>\n",
       "    <tr style=\"text-align: right;\">\n",
       "      <th></th>\n",
       "      <th>player_name</th>\n",
       "      <th>num_games</th>\n",
       "      <th>avg_receptions</th>\n",
       "      <th>avg_targets</th>\n",
       "      <th>avg_yds</th>\n",
       "      <th>avg_tds</th>\n",
       "      <th>avg_air_yds</th>\n",
       "      <th>avg_yac</th>\n",
       "      <th>avg_tgt_share</th>\n",
       "      <th>avg_air_yds_share</th>\n",
       "      <th>avg_fantasy_pts</th>\n",
       "      <th>avg_fantasy_pts_ppr</th>\n",
       "    </tr>\n",
       "  </thead>\n",
       "  <tbody>\n",
       "    <tr>\n",
       "      <th>21</th>\n",
       "      <td>Jimmy Smith</td>\n",
       "      <td>107</td>\n",
       "      <td>5.579</td>\n",
       "      <td>8.972</td>\n",
       "      <td>77.093</td>\n",
       "      <td>0.421</td>\n",
       "      <td>0.000</td>\n",
       "      <td>0.000</td>\n",
       "      <td>0.301</td>\n",
       "      <td>0.000</td>\n",
       "      <td>10.232</td>\n",
       "      <td>15.811</td>\n",
       "    </tr>\n",
       "    <tr>\n",
       "      <th>37</th>\n",
       "      <td>Rod Smith</td>\n",
       "      <td>125</td>\n",
       "      <td>5.336</td>\n",
       "      <td>8.112</td>\n",
       "      <td>68.464</td>\n",
       "      <td>0.376</td>\n",
       "      <td>2.936</td>\n",
       "      <td>1.144</td>\n",
       "      <td>0.283</td>\n",
       "      <td>0.027</td>\n",
       "      <td>9.356</td>\n",
       "      <td>14.692</td>\n",
       "    </tr>\n",
       "    <tr>\n",
       "      <th>16</th>\n",
       "      <td>DeAndre Hopkins</td>\n",
       "      <td>138</td>\n",
       "      <td>5.877</td>\n",
       "      <td>9.413</td>\n",
       "      <td>78.572</td>\n",
       "      <td>0.500</td>\n",
       "      <td>111.928</td>\n",
       "      <td>20.993</td>\n",
       "      <td>0.282</td>\n",
       "      <td>0.386</td>\n",
       "      <td>10.810</td>\n",
       "      <td>16.687</td>\n",
       "    </tr>\n",
       "    <tr>\n",
       "      <th>2</th>\n",
       "      <td>Marvin Harrison</td>\n",
       "      <td>146</td>\n",
       "      <td>6.192</td>\n",
       "      <td>8.699</td>\n",
       "      <td>82.664</td>\n",
       "      <td>0.733</td>\n",
       "      <td>12.192</td>\n",
       "      <td>3.610</td>\n",
       "      <td>0.282</td>\n",
       "      <td>0.065</td>\n",
       "      <td>12.609</td>\n",
       "      <td>18.801</td>\n",
       "    </tr>\n",
       "    <tr>\n",
       "      <th>207</th>\n",
       "      <td>Drake London</td>\n",
       "      <td>8</td>\n",
       "      <td>3.750</td>\n",
       "      <td>6.125</td>\n",
       "      <td>43.250</td>\n",
       "      <td>0.250</td>\n",
       "      <td>61.500</td>\n",
       "      <td>13.750</td>\n",
       "      <td>0.280</td>\n",
       "      <td>0.288</td>\n",
       "      <td>6.075</td>\n",
       "      <td>9.825</td>\n",
       "    </tr>\n",
       "    <tr>\n",
       "      <th>28</th>\n",
       "      <td>Andre Johnson</td>\n",
       "      <td>190</td>\n",
       "      <td>5.589</td>\n",
       "      <td>8.247</td>\n",
       "      <td>74.658</td>\n",
       "      <td>0.368</td>\n",
       "      <td>68.258</td>\n",
       "      <td>19.495</td>\n",
       "      <td>0.280</td>\n",
       "      <td>0.260</td>\n",
       "      <td>9.652</td>\n",
       "      <td>15.242</td>\n",
       "    </tr>\n",
       "    <tr>\n",
       "      <th>23</th>\n",
       "      <td>Brandon Marshall</td>\n",
       "      <td>171</td>\n",
       "      <td>5.673</td>\n",
       "      <td>8.702</td>\n",
       "      <td>72.228</td>\n",
       "      <td>0.485</td>\n",
       "      <td>96.351</td>\n",
       "      <td>21.310</td>\n",
       "      <td>0.280</td>\n",
       "      <td>0.367</td>\n",
       "      <td>10.122</td>\n",
       "      <td>15.795</td>\n",
       "    </tr>\n",
       "    <tr>\n",
       "      <th>1</th>\n",
       "      <td>Justin Jefferson</td>\n",
       "      <td>40</td>\n",
       "      <td>6.200</td>\n",
       "      <td>9.075</td>\n",
       "      <td>94.200</td>\n",
       "      <td>0.475</td>\n",
       "      <td>101.925</td>\n",
       "      <td>31.675</td>\n",
       "      <td>0.277</td>\n",
       "      <td>0.424</td>\n",
       "      <td>12.625</td>\n",
       "      <td>18.825</td>\n",
       "    </tr>\n",
       "    <tr>\n",
       "      <th>13</th>\n",
       "      <td>Michael Thomas</td>\n",
       "      <td>73</td>\n",
       "      <td>7.205</td>\n",
       "      <td>9.301</td>\n",
       "      <td>83.849</td>\n",
       "      <td>0.479</td>\n",
       "      <td>79.110</td>\n",
       "      <td>28.822</td>\n",
       "      <td>0.275</td>\n",
       "      <td>0.360</td>\n",
       "      <td>11.141</td>\n",
       "      <td>18.347</td>\n",
       "    </tr>\n",
       "    <tr>\n",
       "      <th>32</th>\n",
       "      <td>Steve Smith</td>\n",
       "      <td>215</td>\n",
       "      <td>4.795</td>\n",
       "      <td>7.177</td>\n",
       "      <td>68.498</td>\n",
       "      <td>0.377</td>\n",
       "      <td>59.721</td>\n",
       "      <td>17.479</td>\n",
       "      <td>0.273</td>\n",
       "      <td>0.266</td>\n",
       "      <td>9.476</td>\n",
       "      <td>14.272</td>\n",
       "    </tr>\n",
       "  </tbody>\n",
       "</table>\n",
       "</div>"
      ],
      "text/plain": [
       "          player_name  num_games  avg_receptions  avg_targets  avg_yds  \\\n",
       "21        Jimmy Smith        107           5.579        8.972   77.093   \n",
       "37          Rod Smith        125           5.336        8.112   68.464   \n",
       "16    DeAndre Hopkins        138           5.877        9.413   78.572   \n",
       "2     Marvin Harrison        146           6.192        8.699   82.664   \n",
       "207      Drake London          8           3.750        6.125   43.250   \n",
       "28      Andre Johnson        190           5.589        8.247   74.658   \n",
       "23   Brandon Marshall        171           5.673        8.702   72.228   \n",
       "1    Justin Jefferson         40           6.200        9.075   94.200   \n",
       "13     Michael Thomas         73           7.205        9.301   83.849   \n",
       "32        Steve Smith        215           4.795        7.177   68.498   \n",
       "\n",
       "     avg_tds  avg_air_yds  avg_yac  avg_tgt_share  avg_air_yds_share  \\\n",
       "21     0.421        0.000    0.000          0.301              0.000   \n",
       "37     0.376        2.936    1.144          0.283              0.027   \n",
       "16     0.500      111.928   20.993          0.282              0.386   \n",
       "2      0.733       12.192    3.610          0.282              0.065   \n",
       "207    0.250       61.500   13.750          0.280              0.288   \n",
       "28     0.368       68.258   19.495          0.280              0.260   \n",
       "23     0.485       96.351   21.310          0.280              0.367   \n",
       "1      0.475      101.925   31.675          0.277              0.424   \n",
       "13     0.479       79.110   28.822          0.275              0.360   \n",
       "32     0.377       59.721   17.479          0.273              0.266   \n",
       "\n",
       "     avg_fantasy_pts  avg_fantasy_pts_ppr  \n",
       "21            10.232               15.811  \n",
       "37             9.356               14.692  \n",
       "16            10.810               16.687  \n",
       "2             12.609               18.801  \n",
       "207            6.075                9.825  \n",
       "28             9.652               15.242  \n",
       "23            10.122               15.795  \n",
       "1             12.625               18.825  \n",
       "13            11.141               18.347  \n",
       "32             9.476               14.272  "
      ]
     },
     "execution_count": 138,
     "metadata": {},
     "output_type": "execute_result"
    }
   ],
   "source": [
    "# Now order by average target share\n",
    "df_avg_final.sort_values('avg_tgt_share', ascending=False).head(10)"
   ]
  },
  {
   "cell_type": "markdown",
   "metadata": {},
   "source": [
    "## Air Yards vs. Fantasy Points: 2022"
   ]
  },
  {
   "cell_type": "code",
   "execution_count": 139,
   "metadata": {},
   "outputs": [
    {
     "name": "stdout",
     "output_type": "stream",
     "text": [
      "WRs in 2022: (198, 14)\n",
      "WRs with > 1 games in 2022: (180, 12)\n"
     ]
    },
    {
     "data": {
      "text/html": [
       "<div>\n",
       "<style scoped>\n",
       "    .dataframe tbody tr th:only-of-type {\n",
       "        vertical-align: middle;\n",
       "    }\n",
       "\n",
       "    .dataframe tbody tr th {\n",
       "        vertical-align: top;\n",
       "    }\n",
       "\n",
       "    .dataframe thead th {\n",
       "        text-align: right;\n",
       "    }\n",
       "</style>\n",
       "<table border=\"1\" class=\"dataframe\">\n",
       "  <thead>\n",
       "    <tr style=\"text-align: right;\">\n",
       "      <th></th>\n",
       "      <th>player_name</th>\n",
       "      <th>num_games</th>\n",
       "      <th>avg_receptions</th>\n",
       "      <th>avg_targets</th>\n",
       "      <th>avg_yds</th>\n",
       "      <th>avg_tds</th>\n",
       "      <th>avg_air_yds</th>\n",
       "      <th>avg_yac</th>\n",
       "      <th>avg_tgt_share</th>\n",
       "      <th>avg_air_yds_share</th>\n",
       "      <th>avg_fantasy_pts</th>\n",
       "      <th>avg_fantasy_pts_ppr</th>\n",
       "    </tr>\n",
       "  </thead>\n",
       "  <tbody>\n",
       "    <tr>\n",
       "      <th>1</th>\n",
       "      <td>Stefon Diggs</td>\n",
       "      <td>7</td>\n",
       "      <td>7.857</td>\n",
       "      <td>10.429</td>\n",
       "      <td>109.143</td>\n",
       "      <td>1.000</td>\n",
       "      <td>110.286</td>\n",
       "      <td>35.714</td>\n",
       "      <td>0.287</td>\n",
       "      <td>0.369</td>\n",
       "      <td>16.914</td>\n",
       "      <td>24.771</td>\n",
       "    </tr>\n",
       "    <tr>\n",
       "      <th>2</th>\n",
       "      <td>DeAndre Hopkins</td>\n",
       "      <td>2</td>\n",
       "      <td>11.000</td>\n",
       "      <td>13.500</td>\n",
       "      <td>131.000</td>\n",
       "      <td>0.500</td>\n",
       "      <td>146.500</td>\n",
       "      <td>16.000</td>\n",
       "      <td>0.392</td>\n",
       "      <td>0.584</td>\n",
       "      <td>16.100</td>\n",
       "      <td>27.100</td>\n",
       "    </tr>\n",
       "    <tr>\n",
       "      <th>3</th>\n",
       "      <td>Cooper Kupp</td>\n",
       "      <td>7</td>\n",
       "      <td>9.143</td>\n",
       "      <td>12.000</td>\n",
       "      <td>98.000</td>\n",
       "      <td>0.714</td>\n",
       "      <td>88.714</td>\n",
       "      <td>48.857</td>\n",
       "      <td>0.325</td>\n",
       "      <td>0.413</td>\n",
       "      <td>15.386</td>\n",
       "      <td>24.529</td>\n",
       "    </tr>\n",
       "    <tr>\n",
       "      <th>4</th>\n",
       "      <td>Tyreek Hill</td>\n",
       "      <td>8</td>\n",
       "      <td>8.625</td>\n",
       "      <td>11.500</td>\n",
       "      <td>120.125</td>\n",
       "      <td>0.250</td>\n",
       "      <td>132.375</td>\n",
       "      <td>37.250</td>\n",
       "      <td>0.321</td>\n",
       "      <td>0.384</td>\n",
       "      <td>13.825</td>\n",
       "      <td>22.450</td>\n",
       "    </tr>\n",
       "    <tr>\n",
       "      <th>5</th>\n",
       "      <td>Justin Jefferson</td>\n",
       "      <td>7</td>\n",
       "      <td>7.429</td>\n",
       "      <td>10.143</td>\n",
       "      <td>107.429</td>\n",
       "      <td>0.286</td>\n",
       "      <td>82.286</td>\n",
       "      <td>47.429</td>\n",
       "      <td>0.290</td>\n",
       "      <td>0.416</td>\n",
       "      <td>13.774</td>\n",
       "      <td>21.203</td>\n",
       "    </tr>\n",
       "    <tr>\n",
       "      <th>6</th>\n",
       "      <td>A.J. Brown</td>\n",
       "      <td>7</td>\n",
       "      <td>5.571</td>\n",
       "      <td>9.143</td>\n",
       "      <td>94.143</td>\n",
       "      <td>0.714</td>\n",
       "      <td>98.571</td>\n",
       "      <td>35.429</td>\n",
       "      <td>0.318</td>\n",
       "      <td>0.471</td>\n",
       "      <td>13.700</td>\n",
       "      <td>19.271</td>\n",
       "    </tr>\n",
       "    <tr>\n",
       "      <th>7</th>\n",
       "      <td>Ja'Marr Chase</td>\n",
       "      <td>7</td>\n",
       "      <td>6.714</td>\n",
       "      <td>10.571</td>\n",
       "      <td>86.429</td>\n",
       "      <td>0.857</td>\n",
       "      <td>94.857</td>\n",
       "      <td>39.000</td>\n",
       "      <td>0.275</td>\n",
       "      <td>0.371</td>\n",
       "      <td>13.529</td>\n",
       "      <td>20.243</td>\n",
       "    </tr>\n",
       "    <tr>\n",
       "      <th>8</th>\n",
       "      <td>Jaylen Waddle</td>\n",
       "      <td>8</td>\n",
       "      <td>5.250</td>\n",
       "      <td>7.875</td>\n",
       "      <td>90.875</td>\n",
       "      <td>0.625</td>\n",
       "      <td>82.625</td>\n",
       "      <td>35.250</td>\n",
       "      <td>0.217</td>\n",
       "      <td>0.267</td>\n",
       "      <td>12.800</td>\n",
       "      <td>18.050</td>\n",
       "    </tr>\n",
       "    <tr>\n",
       "      <th>9</th>\n",
       "      <td>Michael Thomas</td>\n",
       "      <td>3</td>\n",
       "      <td>5.333</td>\n",
       "      <td>7.333</td>\n",
       "      <td>57.000</td>\n",
       "      <td>1.000</td>\n",
       "      <td>79.000</td>\n",
       "      <td>7.000</td>\n",
       "      <td>0.201</td>\n",
       "      <td>0.195</td>\n",
       "      <td>11.700</td>\n",
       "      <td>17.033</td>\n",
       "    </tr>\n",
       "    <tr>\n",
       "      <th>10</th>\n",
       "      <td>Davante Adams</td>\n",
       "      <td>7</td>\n",
       "      <td>5.429</td>\n",
       "      <td>9.714</td>\n",
       "      <td>73.143</td>\n",
       "      <td>0.714</td>\n",
       "      <td>109.857</td>\n",
       "      <td>25.000</td>\n",
       "      <td>0.296</td>\n",
       "      <td>0.397</td>\n",
       "      <td>11.586</td>\n",
       "      <td>17.014</td>\n",
       "    </tr>\n",
       "  </tbody>\n",
       "</table>\n",
       "</div>"
      ],
      "text/plain": [
       "         player_name  num_games  avg_receptions  avg_targets  avg_yds  \\\n",
       "1       Stefon Diggs          7           7.857       10.429  109.143   \n",
       "2    DeAndre Hopkins          2          11.000       13.500  131.000   \n",
       "3        Cooper Kupp          7           9.143       12.000   98.000   \n",
       "4        Tyreek Hill          8           8.625       11.500  120.125   \n",
       "5   Justin Jefferson          7           7.429       10.143  107.429   \n",
       "6         A.J. Brown          7           5.571        9.143   94.143   \n",
       "7      Ja'Marr Chase          7           6.714       10.571   86.429   \n",
       "8      Jaylen Waddle          8           5.250        7.875   90.875   \n",
       "9     Michael Thomas          3           5.333        7.333   57.000   \n",
       "10     Davante Adams          7           5.429        9.714   73.143   \n",
       "\n",
       "    avg_tds  avg_air_yds  avg_yac  avg_tgt_share  avg_air_yds_share  \\\n",
       "1     1.000      110.286   35.714          0.287              0.369   \n",
       "2     0.500      146.500   16.000          0.392              0.584   \n",
       "3     0.714       88.714   48.857          0.325              0.413   \n",
       "4     0.250      132.375   37.250          0.321              0.384   \n",
       "5     0.286       82.286   47.429          0.290              0.416   \n",
       "6     0.714       98.571   35.429          0.318              0.471   \n",
       "7     0.857       94.857   39.000          0.275              0.371   \n",
       "8     0.625       82.625   35.250          0.217              0.267   \n",
       "9     1.000       79.000    7.000          0.201              0.195   \n",
       "10    0.714      109.857   25.000          0.296              0.397   \n",
       "\n",
       "    avg_fantasy_pts  avg_fantasy_pts_ppr  \n",
       "1            16.914               24.771  \n",
       "2            16.100               27.100  \n",
       "3            15.386               24.529  \n",
       "4            13.825               22.450  \n",
       "5            13.774               21.203  \n",
       "6            13.700               19.271  \n",
       "7            13.529               20.243  \n",
       "8            12.800               18.050  \n",
       "9            11.700               17.033  \n",
       "10           11.586               17.014  "
      ]
     },
     "execution_count": 139,
     "metadata": {},
     "output_type": "execute_result"
    }
   ],
   "source": [
    "# Get the top 10 WRs by average fantasy points for the 2022 season\n",
    "f_2022 = df_all['season'] == 2022\n",
    "\n",
    "df_2022 = df_all[f_2022].groupby(['player_id', 'player_name']).agg(aggregations).reset_index()\n",
    "print(f\"WRs in 2022: {df_2022.shape}\")\n",
    "\n",
    "# Cleaning\n",
    "df_2022.rename(columns = {\n",
    "    'season':'num_games',\n",
    "    'receptions':'avg_receptions',\n",
    "    'targets':'avg_targets', \n",
    "    'yds':'avg_yds', \n",
    "    'tds':'avg_tds',\n",
    "    'air_yds':'avg_air_yds', \n",
    "    'yac':'avg_yac', \n",
    "    'tgt_share':'avg_tgt_share', \n",
    "    'air_yds_share':'avg_air_yds_share', \n",
    "    'fantasy_pts':'avg_fantasy_pts', \n",
    "    'fantasy_pts_ppr':'avg_fantasy_pts_ppr'\n",
    "}, inplace=True)\n",
    "\n",
    "# Remove players with only 1 game played\n",
    "df_2022 = df_2022[df_2022['num_games'] > 1]\n",
    "\n",
    "# Look at the top 10 receivers by average fantasy points over their career\n",
    "col_order = [\n",
    "    'player_name', 'num_games', 'avg_receptions', 'avg_targets', 'avg_yds', 'avg_tds',\n",
    "    'avg_air_yds', 'avg_yac', 'avg_tgt_share', 'avg_air_yds_share', 'avg_fantasy_pts', 'avg_fantasy_pts_ppr']\n",
    "\n",
    "df_2022_final = df_2022.sort_values('avg_fantasy_pts', ascending=False).reset_index(drop=True)[col_order].round(3)\n",
    "df_2022_final.index = df_2022_final.index + 1\n",
    "\n",
    "print(f\"WRs with > 1 games in 2022: {df_2022_final.shape}\")\n",
    "df_2022_final.head(10)\n",
    "\n"
   ]
  },
  {
   "cell_type": "code",
   "execution_count": 140,
   "metadata": {},
   "outputs": [
    {
     "data": {
      "text/plain": [
       "<seaborn.axisgrid.FacetGrid at 0x179ed3f10>"
      ]
     },
     "execution_count": 140,
     "metadata": {},
     "output_type": "execute_result"
    },
    {
     "data": {
      "image/png": "[encoded data removed]",
      "text/plain": [
       "<Figure size 500x500 with 1 Axes>"
      ]
     },
     "metadata": {},
     "output_type": "display_data"
    }
   ],
   "source": [
    "sns.relplot(\n",
    "    x=\"avg_tgt_share\",\n",
    "    y=\"avg_fantasy_pts\",\n",
    "    data=df_2022_final\n",
    ")"
   ]
  },
  {
   "cell_type": "code",
   "execution_count": 141,
   "metadata": {},
   "outputs": [
    {
     "name": "stdout",
     "output_type": "stream",
     "text": [
      "Correlation Coefficient: 0.83\n"
     ]
    }
   ],
   "source": [
    "print(f\"Correlation Coefficient: {round(df_2022['avg_tgt_share'].corr(df_2022['avg_fantasy_pts']),2)}\")"
   ]
  },
  {
   "cell_type": "markdown",
   "metadata": {},
   "source": [
    "As expected the relationship between target share and fantasy points scored still holds true for 2022"
   ]
  },
  {
   "cell_type": "code",
   "execution_count": 142,
   "metadata": {},
   "outputs": [
    {
     "data": {
      "text/html": [
       "<div>\n",
       "<style scoped>\n",
       "    .dataframe tbody tr th:only-of-type {\n",
       "        vertical-align: middle;\n",
       "    }\n",
       "\n",
       "    .dataframe tbody tr th {\n",
       "        vertical-align: top;\n",
       "    }\n",
       "\n",
       "    .dataframe thead th {\n",
       "        text-align: right;\n",
       "    }\n",
       "</style>\n",
       "<table border=\"1\" class=\"dataframe\">\n",
       "  <thead>\n",
       "    <tr style=\"text-align: right;\">\n",
       "      <th></th>\n",
       "      <th>player_name</th>\n",
       "      <th>num_games</th>\n",
       "      <th>avg_tgt_share</th>\n",
       "      <th>avg_fantasy_pts</th>\n",
       "      <th>avg_fantasy_pts_ppr</th>\n",
       "    </tr>\n",
       "  </thead>\n",
       "  <tbody>\n",
       "    <tr>\n",
       "      <th>2</th>\n",
       "      <td>DeAndre Hopkins</td>\n",
       "      <td>2</td>\n",
       "      <td>0.392</td>\n",
       "      <td>16.100</td>\n",
       "      <td>27.100</td>\n",
       "    </tr>\n",
       "    <tr>\n",
       "      <th>25</th>\n",
       "      <td>CeeDee Lamb</td>\n",
       "      <td>8</td>\n",
       "      <td>0.328</td>\n",
       "      <td>9.350</td>\n",
       "      <td>14.600</td>\n",
       "    </tr>\n",
       "    <tr>\n",
       "      <th>3</th>\n",
       "      <td>Cooper Kupp</td>\n",
       "      <td>7</td>\n",
       "      <td>0.325</td>\n",
       "      <td>15.386</td>\n",
       "      <td>24.529</td>\n",
       "    </tr>\n",
       "    <tr>\n",
       "      <th>4</th>\n",
       "      <td>Tyreek Hill</td>\n",
       "      <td>8</td>\n",
       "      <td>0.321</td>\n",
       "      <td>13.825</td>\n",
       "      <td>22.450</td>\n",
       "    </tr>\n",
       "    <tr>\n",
       "      <th>6</th>\n",
       "      <td>A.J. Brown</td>\n",
       "      <td>7</td>\n",
       "      <td>0.318</td>\n",
       "      <td>13.700</td>\n",
       "      <td>19.271</td>\n",
       "    </tr>\n",
       "    <tr>\n",
       "      <th>10</th>\n",
       "      <td>Davante Adams</td>\n",
       "      <td>7</td>\n",
       "      <td>0.296</td>\n",
       "      <td>11.586</td>\n",
       "      <td>17.014</td>\n",
       "    </tr>\n",
       "    <tr>\n",
       "      <th>5</th>\n",
       "      <td>Justin Jefferson</td>\n",
       "      <td>7</td>\n",
       "      <td>0.290</td>\n",
       "      <td>13.774</td>\n",
       "      <td>21.203</td>\n",
       "    </tr>\n",
       "    <tr>\n",
       "      <th>33</th>\n",
       "      <td>D.J. Moore</td>\n",
       "      <td>8</td>\n",
       "      <td>0.290</td>\n",
       "      <td>8.050</td>\n",
       "      <td>12.175</td>\n",
       "    </tr>\n",
       "    <tr>\n",
       "      <th>1</th>\n",
       "      <td>Stefon Diggs</td>\n",
       "      <td>7</td>\n",
       "      <td>0.287</td>\n",
       "      <td>16.914</td>\n",
       "      <td>24.771</td>\n",
       "    </tr>\n",
       "    <tr>\n",
       "      <th>53</th>\n",
       "      <td>Drake London</td>\n",
       "      <td>8</td>\n",
       "      <td>0.280</td>\n",
       "      <td>6.075</td>\n",
       "      <td>9.825</td>\n",
       "    </tr>\n",
       "  </tbody>\n",
       "</table>\n",
       "</div>"
      ],
      "text/plain": [
       "         player_name  num_games  avg_tgt_share  avg_fantasy_pts  \\\n",
       "2    DeAndre Hopkins          2          0.392           16.100   \n",
       "25       CeeDee Lamb          8          0.328            9.350   \n",
       "3        Cooper Kupp          7          0.325           15.386   \n",
       "4        Tyreek Hill          8          0.321           13.825   \n",
       "6         A.J. Brown          7          0.318           13.700   \n",
       "10     Davante Adams          7          0.296           11.586   \n",
       "5   Justin Jefferson          7          0.290           13.774   \n",
       "33        D.J. Moore          8          0.290            8.050   \n",
       "1       Stefon Diggs          7          0.287           16.914   \n",
       "53      Drake London          8          0.280            6.075   \n",
       "\n",
       "    avg_fantasy_pts_ppr  \n",
       "2                27.100  \n",
       "25               14.600  \n",
       "3                24.529  \n",
       "4                22.450  \n",
       "6                19.271  \n",
       "10               17.014  \n",
       "5                21.203  \n",
       "33               12.175  \n",
       "1                24.771  \n",
       "53                9.825  "
      ]
     },
     "execution_count": 142,
     "metadata": {},
     "output_type": "execute_result"
    }
   ],
   "source": [
    "col_order = ['player_name', 'num_games', 'avg_tgt_share', 'avg_fantasy_pts', 'avg_fantasy_pts_ppr']\n",
    "\n",
    "df_2022_final.sort_values('avg_tgt_share', ascending=False)[col_order].head(10).round(3)"
   ]
  },
  {
   "cell_type": "markdown",
   "metadata": {},
   "source": [
    "CeeDee Lamb stands out here. He is 2nd in target share but only 25th in fantasy points scored. D.J. Moore and Drake London also stand out for similar reasons.\n",
    "\n",
    "Given that the correlation between target share and fantasy points is so string, let's go a step further and use linear regression to get an idea of expected average fantasy points given target share. With this we can see how much each player is under or over-performing."
   ]
  },
  {
   "cell_type": "markdown",
   "metadata": {},
   "source": [
    "## Use Linear Regression to find under and over-performers through Week 8"
   ]
  },
  {
   "cell_type": "code",
   "execution_count": 143,
   "metadata": {},
   "outputs": [
    {
     "name": "stdout",
     "output_type": "stream",
     "text": [
      "<class 'pandas.core.frame.DataFrame'>\n",
      "RangeIndex: 1100 entries, 0 to 1099\n",
      "Data columns (total 2 columns):\n",
      " #   Column           Non-Null Count  Dtype  \n",
      "---  ------           --------------  -----  \n",
      " 0   avg_tgt_share    1099 non-null   float64\n",
      " 1   avg_fantasy_pts  1100 non-null   float64\n",
      "dtypes: float64(2)\n",
      "memory usage: 17.3 KB\n"
     ]
    }
   ],
   "source": [
    "# Will first need to remove NULL values to fit a regression line to the data\n",
    "df_avg_final[['avg_tgt_share','avg_fantasy_pts']].info()"
   ]
  },
  {
   "cell_type": "code",
   "execution_count": 144,
   "metadata": {},
   "outputs": [],
   "source": [
    "# Drop null values\n",
    "df_avg_final = df_avg_final.dropna(subset=['avg_tgt_share', 'avg_fantasy_pts'])\n",
    "\n",
    "# Fit a regression line\n",
    "fit = np.polyfit(\n",
    "    x=df_avg_final['avg_tgt_share'], \n",
    "    y=df_avg_final['avg_fantasy_pts'], \n",
    "    deg=1)\n",
    "\n",
    "lin_func_fpts = np.poly1d(fit)"
   ]
  },
  {
   "cell_type": "code",
   "execution_count": 145,
   "metadata": {},
   "outputs": [
    {
     "name": "stdout",
     "output_type": "stream",
     "text": [
      "(180, 7)\n"
     ]
    },
    {
     "data": {
      "text/html": [
       "<div>\n",
       "<style scoped>\n",
       "    .dataframe tbody tr th:only-of-type {\n",
       "        vertical-align: middle;\n",
       "    }\n",
       "\n",
       "    .dataframe tbody tr th {\n",
       "        vertical-align: top;\n",
       "    }\n",
       "\n",
       "    .dataframe thead th {\n",
       "        text-align: right;\n",
       "    }\n",
       "</style>\n",
       "<table border=\"1\" class=\"dataframe\">\n",
       "  <thead>\n",
       "    <tr style=\"text-align: right;\">\n",
       "      <th></th>\n",
       "      <th>player_name</th>\n",
       "      <th>num_games</th>\n",
       "      <th>avg_tgt_share</th>\n",
       "      <th>avg_fantasy_pts</th>\n",
       "      <th>avg_fantasy_pts_ppr</th>\n",
       "      <th>expected_fantasy_pts</th>\n",
       "      <th>perf</th>\n",
       "    </tr>\n",
       "  </thead>\n",
       "  <tbody>\n",
       "    <tr>\n",
       "      <th>2</th>\n",
       "      <td>DeAndre Hopkins</td>\n",
       "      <td>2</td>\n",
       "      <td>0.392</td>\n",
       "      <td>16.100</td>\n",
       "      <td>27.100</td>\n",
       "      <td>14.356</td>\n",
       "      <td>1.744</td>\n",
       "    </tr>\n",
       "    <tr>\n",
       "      <th>25</th>\n",
       "      <td>CeeDee Lamb</td>\n",
       "      <td>8</td>\n",
       "      <td>0.328</td>\n",
       "      <td>9.350</td>\n",
       "      <td>14.600</td>\n",
       "      <td>11.911</td>\n",
       "      <td>-2.561</td>\n",
       "    </tr>\n",
       "    <tr>\n",
       "      <th>3</th>\n",
       "      <td>Cooper Kupp</td>\n",
       "      <td>7</td>\n",
       "      <td>0.325</td>\n",
       "      <td>15.386</td>\n",
       "      <td>24.529</td>\n",
       "      <td>11.796</td>\n",
       "      <td>3.590</td>\n",
       "    </tr>\n",
       "    <tr>\n",
       "      <th>4</th>\n",
       "      <td>Tyreek Hill</td>\n",
       "      <td>8</td>\n",
       "      <td>0.321</td>\n",
       "      <td>13.825</td>\n",
       "      <td>22.450</td>\n",
       "      <td>11.643</td>\n",
       "      <td>2.182</td>\n",
       "    </tr>\n",
       "    <tr>\n",
       "      <th>6</th>\n",
       "      <td>A.J. Brown</td>\n",
       "      <td>7</td>\n",
       "      <td>0.318</td>\n",
       "      <td>13.700</td>\n",
       "      <td>19.271</td>\n",
       "      <td>11.529</td>\n",
       "      <td>2.171</td>\n",
       "    </tr>\n",
       "    <tr>\n",
       "      <th>10</th>\n",
       "      <td>Davante Adams</td>\n",
       "      <td>7</td>\n",
       "      <td>0.296</td>\n",
       "      <td>11.586</td>\n",
       "      <td>17.014</td>\n",
       "      <td>10.688</td>\n",
       "      <td>0.898</td>\n",
       "    </tr>\n",
       "    <tr>\n",
       "      <th>5</th>\n",
       "      <td>Justin Jefferson</td>\n",
       "      <td>7</td>\n",
       "      <td>0.290</td>\n",
       "      <td>13.774</td>\n",
       "      <td>21.203</td>\n",
       "      <td>10.459</td>\n",
       "      <td>3.315</td>\n",
       "    </tr>\n",
       "    <tr>\n",
       "      <th>33</th>\n",
       "      <td>D.J. Moore</td>\n",
       "      <td>8</td>\n",
       "      <td>0.290</td>\n",
       "      <td>8.050</td>\n",
       "      <td>12.175</td>\n",
       "      <td>10.459</td>\n",
       "      <td>-2.409</td>\n",
       "    </tr>\n",
       "    <tr>\n",
       "      <th>1</th>\n",
       "      <td>Stefon Diggs</td>\n",
       "      <td>7</td>\n",
       "      <td>0.287</td>\n",
       "      <td>16.914</td>\n",
       "      <td>24.771</td>\n",
       "      <td>10.344</td>\n",
       "      <td>6.570</td>\n",
       "    </tr>\n",
       "    <tr>\n",
       "      <th>53</th>\n",
       "      <td>Drake London</td>\n",
       "      <td>8</td>\n",
       "      <td>0.280</td>\n",
       "      <td>6.075</td>\n",
       "      <td>9.825</td>\n",
       "      <td>10.077</td>\n",
       "      <td>-4.002</td>\n",
       "    </tr>\n",
       "  </tbody>\n",
       "</table>\n",
       "</div>"
      ],
      "text/plain": [
       "         player_name  num_games  avg_tgt_share  avg_fantasy_pts  \\\n",
       "2    DeAndre Hopkins          2          0.392           16.100   \n",
       "25       CeeDee Lamb          8          0.328            9.350   \n",
       "3        Cooper Kupp          7          0.325           15.386   \n",
       "4        Tyreek Hill          8          0.321           13.825   \n",
       "6         A.J. Brown          7          0.318           13.700   \n",
       "10     Davante Adams          7          0.296           11.586   \n",
       "5   Justin Jefferson          7          0.290           13.774   \n",
       "33        D.J. Moore          8          0.290            8.050   \n",
       "1       Stefon Diggs          7          0.287           16.914   \n",
       "53      Drake London          8          0.280            6.075   \n",
       "\n",
       "    avg_fantasy_pts_ppr  expected_fantasy_pts   perf  \n",
       "2                27.100                14.356  1.744  \n",
       "25               14.600                11.911 -2.561  \n",
       "3                24.529                11.796  3.590  \n",
       "4                22.450                11.643  2.182  \n",
       "6                19.271                11.529  2.171  \n",
       "10               17.014                10.688  0.898  \n",
       "5                21.203                10.459  3.315  \n",
       "33               12.175                10.459 -2.409  \n",
       "1                24.771                10.344  6.570  \n",
       "53                9.825                10.077 -4.002  "
      ]
     },
     "execution_count": 145,
     "metadata": {},
     "output_type": "execute_result"
    }
   ],
   "source": [
    "summary_2022 = df_2022_final.sort_values('avg_tgt_share', ascending=False)[col_order]\n",
    "\n",
    "summary_2022['expected_fantasy_pts'] = lin_func_fpts(summary_2022['avg_tgt_share'])\n",
    "summary_2022['perf'] = summary_2022['avg_fantasy_pts'] - summary_2022['expected_fantasy_pts']\n",
    "\n",
    "print(summary_2022.shape)\n",
    "summary_2022.head(10).round(3)\n"
   ]
  },
  {
   "cell_type": "markdown",
   "metadata": {},
   "source": [
    "Based on this CeeDee Lamb should be scoring about 2.5 more points per game on average!"
   ]
  },
  {
   "cell_type": "code",
   "execution_count": 150,
   "metadata": {},
   "outputs": [
    {
     "data": {
      "text/html": [
       "<div>\n",
       "<style scoped>\n",
       "    .dataframe tbody tr th:only-of-type {\n",
       "        vertical-align: middle;\n",
       "    }\n",
       "\n",
       "    .dataframe tbody tr th {\n",
       "        vertical-align: top;\n",
       "    }\n",
       "\n",
       "    .dataframe thead th {\n",
       "        text-align: right;\n",
       "    }\n",
       "</style>\n",
       "<table border=\"1\" class=\"dataframe\">\n",
       "  <thead>\n",
       "    <tr style=\"text-align: right;\">\n",
       "      <th></th>\n",
       "      <th>player_name</th>\n",
       "      <th>num_games</th>\n",
       "      <th>avg_tgt_share</th>\n",
       "      <th>avg_fantasy_pts</th>\n",
       "      <th>avg_fantasy_pts_ppr</th>\n",
       "      <th>expected_fantasy_pts</th>\n",
       "      <th>perf</th>\n",
       "    </tr>\n",
       "  </thead>\n",
       "  <tbody>\n",
       "    <tr>\n",
       "      <th>82</th>\n",
       "      <td>Darnell Mooney</td>\n",
       "      <td>8</td>\n",
       "      <td>0.273</td>\n",
       "      <td>4.550</td>\n",
       "      <td>7.675</td>\n",
       "      <td>9.810</td>\n",
       "      <td>-5.260</td>\n",
       "    </tr>\n",
       "    <tr>\n",
       "      <th>67</th>\n",
       "      <td>Diontae Johnson</td>\n",
       "      <td>8</td>\n",
       "      <td>0.265</td>\n",
       "      <td>5.175</td>\n",
       "      <td>10.550</td>\n",
       "      <td>9.504</td>\n",
       "      <td>-4.329</td>\n",
       "    </tr>\n",
       "    <tr>\n",
       "      <th>53</th>\n",
       "      <td>Drake London</td>\n",
       "      <td>8</td>\n",
       "      <td>0.280</td>\n",
       "      <td>6.075</td>\n",
       "      <td>9.825</td>\n",
       "      <td>10.077</td>\n",
       "      <td>-4.002</td>\n",
       "    </tr>\n",
       "    <tr>\n",
       "      <th>112</th>\n",
       "      <td>Equanimeous St. Brown</td>\n",
       "      <td>8</td>\n",
       "      <td>0.196</td>\n",
       "      <td>3.125</td>\n",
       "      <td>4.625</td>\n",
       "      <td>6.868</td>\n",
       "      <td>-3.743</td>\n",
       "    </tr>\n",
       "    <tr>\n",
       "      <th>83</th>\n",
       "      <td>Robert Woods</td>\n",
       "      <td>7</td>\n",
       "      <td>0.231</td>\n",
       "      <td>4.514</td>\n",
       "      <td>7.657</td>\n",
       "      <td>8.205</td>\n",
       "      <td>-3.691</td>\n",
       "    </tr>\n",
       "    <tr>\n",
       "      <th>142</th>\n",
       "      <td>Marcus Johnson</td>\n",
       "      <td>4</td>\n",
       "      <td>0.143</td>\n",
       "      <td>1.575</td>\n",
       "      <td>3.075</td>\n",
       "      <td>4.843</td>\n",
       "      <td>-3.268</td>\n",
       "    </tr>\n",
       "    <tr>\n",
       "      <th>41</th>\n",
       "      <td>Sterling Shepard</td>\n",
       "      <td>3</td>\n",
       "      <td>0.272</td>\n",
       "      <td>7.133</td>\n",
       "      <td>11.467</td>\n",
       "      <td>9.771</td>\n",
       "      <td>-2.638</td>\n",
       "    </tr>\n",
       "    <tr>\n",
       "      <th>93</th>\n",
       "      <td>Michael Gallup</td>\n",
       "      <td>5</td>\n",
       "      <td>0.186</td>\n",
       "      <td>3.900</td>\n",
       "      <td>6.300</td>\n",
       "      <td>6.486</td>\n",
       "      <td>-2.586</td>\n",
       "    </tr>\n",
       "    <tr>\n",
       "      <th>25</th>\n",
       "      <td>CeeDee Lamb</td>\n",
       "      <td>8</td>\n",
       "      <td>0.328</td>\n",
       "      <td>9.350</td>\n",
       "      <td>14.600</td>\n",
       "      <td>11.911</td>\n",
       "      <td>-2.561</td>\n",
       "    </tr>\n",
       "    <tr>\n",
       "      <th>33</th>\n",
       "      <td>D.J. Moore</td>\n",
       "      <td>8</td>\n",
       "      <td>0.290</td>\n",
       "      <td>8.050</td>\n",
       "      <td>12.175</td>\n",
       "      <td>10.459</td>\n",
       "      <td>-2.409</td>\n",
       "    </tr>\n",
       "  </tbody>\n",
       "</table>\n",
       "</div>"
      ],
      "text/plain": [
       "               player_name  num_games  avg_tgt_share  avg_fantasy_pts  \\\n",
       "82          Darnell Mooney          8          0.273            4.550   \n",
       "67         Diontae Johnson          8          0.265            5.175   \n",
       "53            Drake London          8          0.280            6.075   \n",
       "112  Equanimeous St. Brown          8          0.196            3.125   \n",
       "83            Robert Woods          7          0.231            4.514   \n",
       "142         Marcus Johnson          4          0.143            1.575   \n",
       "41        Sterling Shepard          3          0.272            7.133   \n",
       "93          Michael Gallup          5          0.186            3.900   \n",
       "25             CeeDee Lamb          8          0.328            9.350   \n",
       "33              D.J. Moore          8          0.290            8.050   \n",
       "\n",
       "     avg_fantasy_pts_ppr  expected_fantasy_pts   perf  \n",
       "82                 7.675                 9.810 -5.260  \n",
       "67                10.550                 9.504 -4.329  \n",
       "53                 9.825                10.077 -4.002  \n",
       "112                4.625                 6.868 -3.743  \n",
       "83                 7.657                 8.205 -3.691  \n",
       "142                3.075                 4.843 -3.268  \n",
       "41                11.467                 9.771 -2.638  \n",
       "93                 6.300                 6.486 -2.586  \n",
       "25                14.600                11.911 -2.561  \n",
       "33                12.175                10.459 -2.409  "
      ]
     },
     "execution_count": 150,
     "metadata": {},
     "output_type": "execute_result"
    }
   ],
   "source": [
    "# Sort by the difference between actual points and expected points to get the true \"regression to the mean\" candidates\n",
    "summary_2022.sort_values('perf').head(10).round(3)"
   ]
  },
  {
   "cell_type": "markdown",
   "metadata": {},
   "source": [
    "Darnell Mooney is the standout here. With almost 27% of his team's target share in 2022 he's scoring about 5.2pts less per game than he \"should be\" based on the observed relationship between target share and fantasy points. "
   ]
  },
  {
   "cell_type": "markdown",
   "metadata": {},
   "source": [
    "## Analyze Expected Points Differential"
   ]
  },
  {
   "cell_type": "code",
   "execution_count": 151,
   "metadata": {},
   "outputs": [
    {
     "data": {
      "text/plain": [
       "<seaborn.axisgrid.FacetGrid at 0x1796c1cf0>"
      ]
     },
     "execution_count": 151,
     "metadata": {},
     "output_type": "execute_result"
    },
    {
     "data": {
      "image/png": "[encoded data removed]",
      "text/plain": [
       "<Figure size 500x500 with 1 Axes>"
      ]
     },
     "metadata": {},
     "output_type": "display_data"
    }
   ],
   "source": [
    "sns.displot(\n",
    "    x='perf',\n",
    "    data=summary_2022,\n",
    "    kind=\"hist\",\n",
    "    bins=15\n",
    ")"
   ]
  },
  {
   "cell_type": "code",
   "execution_count": 152,
   "metadata": {},
   "outputs": [
    {
     "data": {
      "text/plain": [
       "count    179.000000\n",
       "mean       0.269904\n",
       "std        2.001832\n",
       "min       -5.259571\n",
       "25%       -0.909880\n",
       "50%       -0.008882\n",
       "75%        1.405631\n",
       "max        7.171823\n",
       "Name: perf, dtype: float64"
      ]
     },
     "execution_count": 152,
     "metadata": {},
     "output_type": "execute_result"
    }
   ],
   "source": [
    "summary_2022['perf'].describe()"
   ]
  },
  {
   "cell_type": "markdown",
   "metadata": {},
   "source": [
    "The above analysis shows a distribution that is "
   ]
  },
  {
   "cell_type": "code",
   "execution_count": 156,
   "metadata": {},
   "outputs": [
    {
     "data": {
      "text/plain": [
       "<seaborn.axisgrid.FacetGrid at 0x179e35510>"
      ]
     },
     "execution_count": 156,
     "metadata": {},
     "output_type": "execute_result"
    },
    {
     "data": {
      "image/png": "[encoded data removed]",
      "text/plain": [
       "<Figure size 500x500 with 1 Axes>"
      ]
     },
     "metadata": {},
     "output_type": "display_data"
    }
   ],
   "source": [
    "# Use regression line on original dataset with all values \n",
    "df_avg_final['expected_fantasy_pts'] = lin_func_fpts(df_avg_final['avg_tgt_share'])\n",
    "df_avg_final['perf'] = df_avg_final['avg_fantasy_pts'] - df_avg_final['expected_fantasy_pts']\n",
    "\n",
    "sns.displot(\n",
    "    x='perf',\n",
    "    data=df_avg_final,\n",
    "    kind=\"hist\",\n",
    "    bins=25\n",
    ")"
   ]
  },
  {
   "cell_type": "code",
   "execution_count": 159,
   "metadata": {},
   "outputs": [
    {
     "data": {
      "text/plain": [
       "count    1099.000000\n",
       "mean        0.000000\n",
       "std         1.169092\n",
       "min        -4.703213\n",
       "25%        -0.668248\n",
       "50%        -0.099778\n",
       "75%         0.580210\n",
       "max         7.171823\n",
       "Name: perf, dtype: object"
      ]
     },
     "execution_count": 159,
     "metadata": {},
     "output_type": "execute_result"
    }
   ],
   "source": [
    "df_avg_final['perf'].describe().apply(lambda x: format(x, 'f'))"
   ]
  },
  {
   "cell_type": "markdown",
   "metadata": {},
   "source": [
    "The observed expected points differential from 1999-2021 is normally distributed with a mean of 0 and standard deviation of 1.169. Therefore we would expect the sample population of player averages for 2022 to be normally distributed as well and thus we should be able to compute the likelihood of a player finishing with that expected point differential (actual - expected) using statistical methods. "
   ]
  },
  {
   "cell_type": "code",
   "execution_count": 164,
   "metadata": {},
   "outputs": [
    {
     "data": {
      "text/plain": [
       "array([0.6230966])"
      ]
     },
     "execution_count": 164,
     "metadata": {},
     "output_type": "execute_result"
    }
   ],
   "source": [
    "import scipy.stats\n",
    "\n",
    "scipy.stats.norm(\n",
    "    summary_2022['perf'].mean(),\n",
    "    summary_2022['perf'].std()\n",
    ").cdf(summary_2022[summary_2022['player_name'] == 'Davante Adams']['perf'])"
   ]
  },
  {
   "cell_type": "markdown",
   "metadata": {},
   "source": [
    "# Score out original dataset"
   ]
  },
  {
   "cell_type": "markdown",
   "metadata": {},
   "source": []
  },
  {
   "cell_type": "code",
   "execution_count": null,
   "metadata": {},
   "outputs": [],
   "source": []
  }
 ],
 "metadata": {
  "kernelspec": {
   "display_name": "Python 3.10.6 ('env': venv)",
   "language": "python",
   "name": "python3"
  },
  "language_info": {
   "codemirror_mode": {
    "name": "ipython",
    "version": 3
   },
   "file_extension": ".py",
   "mimetype": "text/x-python",
   "name": "python",
   "nbconvert_exporter": "python",
   "pygments_lexer": "ipython3",
   "version": "3.10.6"
  },
  "orig_nbformat": 4,
  "vscode": {
   "interpreter": {
    "hash": "4c11be34945b9e5d06588e60c5142a317bb34337c82f00f4b31063bbdfdda38b"
   }
  }
 },
 "nbformat": 4,
 "nbformat_minor": 2
}
