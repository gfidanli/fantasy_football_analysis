{
 "cells": [
  {
   "cell_type": "markdown",
   "metadata": {},
   "source": [
    "# Day 5 Analysis"
   ]
  },
  {
   "cell_type": "markdown",
   "metadata": {},
   "source": [
    "For seasons 1999-2021, get a distribution of point differential\n",
    "- Outliers\n",
    "- Is there a difference between conferences? \n",
    "- Is there a difference between divisions within a conference?\n",
    "- Is there a difference between regular season and playoffs?"
   ]
  },
  {
   "cell_type": "markdown",
   "metadata": {},
   "source": [
    "## Set Up"
   ]
  },
  {
   "cell_type": "code",
   "execution_count": 3,
   "metadata": {},
   "outputs": [],
   "source": [
    "import pandas as pd\n",
    "from os import path\n",
    "import sqlite3\n",
    "import matplotlib.pyplot as plt\n",
    "import seaborn as sns\n",
    "\n",
    "# Create database connection\n",
    "conn = sqlite3.connect('../data/db/database.db')"
   ]
  },
  {
   "cell_type": "markdown",
   "metadata": {},
   "source": [
    "## Wrangle the data"
   ]
  },
  {
   "cell_type": "code",
   "execution_count": 129,
   "metadata": {},
   "outputs": [],
   "source": [
    "query = \"\"\"\n",
    "WITH data AS (\n",
    "    SELECT\n",
    "        game_id,\n",
    "        season,\n",
    "        game_type,\n",
    "        week,\n",
    "        away_team,\n",
    "        away_score,\n",
    "        -- Need to update data to account for 3 teams that switched cities between 1999-2020\n",
    "        CASE\n",
    "            WHEN home_team = 'STL' THEN 'LAR'\n",
    "            WHEN home_team = 'SD' THEN 'LAC'\n",
    "            WHEN home_team = 'OAK' THEN 'LV'\n",
    "            ELSE home_team\n",
    "        END AS home_team,\n",
    "        home_score,\n",
    "        roof,\n",
    "        surface,\n",
    "        temp,\n",
    "        wind,\n",
    "        away_rest,\n",
    "        home_rest,\n",
    "        weekday \n",
    "    FROM schedules\n",
    "),\n",
    "home_games AS (\n",
    "    SELECT \n",
    "        d.season,\n",
    "        d.week, \n",
    "        d.game_type, \n",
    "        d.home_team AS team,\n",
    "        d.home_score AS score,\n",
    "        team_desc.team_conf,\n",
    "        team_desc.team_division\n",
    "    FROM data d\n",
    "    LEFT JOIN team_descriptions team_desc\n",
    "        ON team_desc.team_abbr = d.home_team\n",
    "),\n",
    "away_games AS (\n",
    "    SELECT \n",
    "        d.season,\n",
    "        d.week, \n",
    "        d.game_type, \n",
    "        d.away_team AS team,\n",
    "        d.away_score AS score,\n",
    "        team_desc.team_conf,\n",
    "        team_desc.team_division\n",
    "    FROM data d \n",
    "    -- Get the division\n",
    "    LEFT JOIN team_descriptions team_desc\n",
    "        ON team_desc.team_abbr = d.home_team\n",
    "),\n",
    "stacked AS (\n",
    "    SELECT *\n",
    "    FROM home_games\n",
    "    UNION\n",
    "    SELECT *\n",
    "    FROM away_games\n",
    ")\n",
    "SELECT *\n",
    "FROM stacked\n",
    "\"\"\"\n",
    "\n",
    "df = pd.read_sql(query, conn)"
   ]
  },
  {
   "cell_type": "code",
   "execution_count": 139,
   "metadata": {},
   "outputs": [
    {
     "data": {
      "text/html": [
       "<div>\n",
       "<style scoped>\n",
       "    .dataframe tbody tr th:only-of-type {\n",
       "        vertical-align: middle;\n",
       "    }\n",
       "\n",
       "    .dataframe tbody tr th {\n",
       "        vertical-align: top;\n",
       "    }\n",
       "\n",
       "    .dataframe thead th {\n",
       "        text-align: right;\n",
       "    }\n",
       "</style>\n",
       "<table border=\"1\" class=\"dataframe\">\n",
       "  <thead>\n",
       "    <tr style=\"text-align: right;\">\n",
       "      <th></th>\n",
       "      <th>season</th>\n",
       "      <th>week</th>\n",
       "      <th>game_type</th>\n",
       "      <th>team</th>\n",
       "      <th>score</th>\n",
       "      <th>team_conf</th>\n",
       "      <th>team_division</th>\n",
       "    </tr>\n",
       "  </thead>\n",
       "  <tbody>\n",
       "    <tr>\n",
       "      <th>0</th>\n",
       "      <td>1999</td>\n",
       "      <td>1</td>\n",
       "      <td>REG</td>\n",
       "      <td>ARI</td>\n",
       "      <td>25.0</td>\n",
       "      <td>NFC</td>\n",
       "      <td>NFC East</td>\n",
       "    </tr>\n",
       "    <tr>\n",
       "      <th>1</th>\n",
       "      <td>1999</td>\n",
       "      <td>1</td>\n",
       "      <td>REG</td>\n",
       "      <td>ATL</td>\n",
       "      <td>14.0</td>\n",
       "      <td>NFC</td>\n",
       "      <td>NFC South</td>\n",
       "    </tr>\n",
       "    <tr>\n",
       "      <th>2</th>\n",
       "      <td>1999</td>\n",
       "      <td>1</td>\n",
       "      <td>REG</td>\n",
       "      <td>BAL</td>\n",
       "      <td>10.0</td>\n",
       "      <td>NFC</td>\n",
       "      <td>NFC West</td>\n",
       "    </tr>\n",
       "    <tr>\n",
       "      <th>3</th>\n",
       "      <td>1999</td>\n",
       "      <td>1</td>\n",
       "      <td>REG</td>\n",
       "      <td>BUF</td>\n",
       "      <td>14.0</td>\n",
       "      <td>AFC</td>\n",
       "      <td>AFC South</td>\n",
       "    </tr>\n",
       "    <tr>\n",
       "      <th>4</th>\n",
       "      <td>1999</td>\n",
       "      <td>1</td>\n",
       "      <td>REG</td>\n",
       "      <td>CAR</td>\n",
       "      <td>10.0</td>\n",
       "      <td>NFC</td>\n",
       "      <td>NFC South</td>\n",
       "    </tr>\n",
       "  </tbody>\n",
       "</table>\n",
       "</div>"
      ],
      "text/plain": [
       "   season  week game_type team  score team_conf team_division\n",
       "0    1999     1       REG  ARI   25.0       NFC      NFC East\n",
       "1    1999     1       REG  ATL   14.0       NFC     NFC South\n",
       "2    1999     1       REG  BAL   10.0       NFC      NFC West\n",
       "3    1999     1       REG  BUF   14.0       AFC     AFC South\n",
       "4    1999     1       REG  CAR   10.0       NFC     NFC South"
      ]
     },
     "execution_count": 139,
     "metadata": {},
     "output_type": "execute_result"
    }
   ],
   "source": [
    "df.head()"
   ]
  },
  {
   "cell_type": "markdown",
   "metadata": {},
   "source": [
    "## Plot"
   ]
  },
  {
   "cell_type": "code",
   "execution_count": 138,
   "metadata": {},
   "outputs": [
    {
     "data": {
      "image/png": "[encoded data removed]",
      "text/plain": [
       "<Figure size 500x500 with 1 Axes>"
      ]
     },
     "metadata": {},
     "output_type": "display_data"
    }
   ],
   "source": [
    "sns.catplot(\n",
    "    x=\"score\",\n",
    "    y=\"team_division\",\n",
    "    data=df,\n",
    "    kind=\"box\",\n",
    "    showfliers=False\n",
    ")\n",
    "plt.show()"
   ]
  }
 ],
 "metadata": {
  "kernelspec": {
   "display_name": "Python 3.10.6 ('env': venv)",
   "language": "python",
   "name": "python3"
  },
  "language_info": {
   "codemirror_mode": {
    "name": "ipython",
    "version": 3
   },
   "file_extension": ".py",
   "mimetype": "text/x-python",
   "name": "python",
   "nbconvert_exporter": "python",
   "pygments_lexer": "ipython3",
   "version": "3.10.6"
  },
  "orig_nbformat": 4,
  "vscode": {
   "interpreter": {
    "hash": "4c11be34945b9e5d06588e60c5142a317bb34337c82f00f4b31063bbdfdda38b"
   }
  }
 },
 "nbformat": 4,
 "nbformat_minor": 2
}
