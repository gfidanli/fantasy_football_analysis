{
 "cells": [
  {
   "cell_type": "markdown",
   "metadata": {},
   "source": [
    "# Day 3\n",
    "What teams in 2020 performed the worst at home? I solved this by averaging the away team's points for the 8 home games each NFL team played that season."
   ]
  },
  {
   "cell_type": "markdown",
   "metadata": {},
   "source": [
    "## Set Up"
   ]
  },
  {
   "cell_type": "code",
   "execution_count": 1,
   "metadata": {},
   "outputs": [],
   "source": [
    "import pandas as pd\n",
    "from os import path\n",
    "import sqlite3\n",
    "import nfl_data_py as nfl\n",
    "\n",
    "\n",
    "# Create database connection\n",
    "conn = sqlite3.connect('../data/db/database.db')"
   ]
  },
  {
   "cell_type": "code",
   "execution_count": 2,
   "metadata": {},
   "outputs": [
    {
     "data": {
      "text/html": [
       "<div>\n",
       "<style scoped>\n",
       "    .dataframe tbody tr th:only-of-type {\n",
       "        vertical-align: middle;\n",
       "    }\n",
       "\n",
       "    .dataframe tbody tr th {\n",
       "        vertical-align: top;\n",
       "    }\n",
       "\n",
       "    .dataframe thead th {\n",
       "        text-align: right;\n",
       "    }\n",
       "</style>\n",
       "<table border=\"1\" class=\"dataframe\">\n",
       "  <thead>\n",
       "    <tr style=\"text-align: right;\">\n",
       "      <th></th>\n",
       "      <th>team</th>\n",
       "      <th>avg_pa_at_home</th>\n",
       "    </tr>\n",
       "  </thead>\n",
       "  <tbody>\n",
       "    <tr>\n",
       "      <th>0</th>\n",
       "      <td>DET</td>\n",
       "      <td>35.75</td>\n",
       "    </tr>\n",
       "    <tr>\n",
       "      <th>1</th>\n",
       "      <td>DAL</td>\n",
       "      <td>34.38</td>\n",
       "    </tr>\n",
       "    <tr>\n",
       "      <th>2</th>\n",
       "      <td>MIN</td>\n",
       "      <td>31.13</td>\n",
       "    </tr>\n",
       "  </tbody>\n",
       "</table>\n",
       "</div>"
      ],
      "text/plain": [
       "  team  avg_pa_at_home\n",
       "0  DET           35.75\n",
       "1  DAL           34.38\n",
       "2  MIN           31.13"
      ]
     },
     "execution_count": 2,
     "metadata": {},
     "output_type": "execute_result"
    }
   ],
   "source": [
    "query = \"\"\"\n",
    "WITH data AS (\n",
    "    SELECT\n",
    "        game_id,\n",
    "        season,\n",
    "        away_score,\n",
    "        home_team,\n",
    "        home_score \n",
    "    FROM schedules\n",
    "    WHERE season = 2020\n",
    "        AND game_type = 'REG'\n",
    "), rankings AS (\n",
    "    SELECT\n",
    "        home_team AS team,\n",
    "        AVG(away_score) AS avg_pa_at_home,\n",
    "        DENSE_RANK() OVER(ORDER BY AVG(away_score) ASC) AS best_to_worst,\n",
    "        DENSE_RANK() OVER(ORDER BY AVG(away_score) DESC) AS worst_to_best\n",
    "    FROM\n",
    "        data\n",
    "    GROUP BY\n",
    "        home_team\n",
    "), top3 AS (\n",
    "    SELECT\n",
    "        team,\n",
    "        ROUND(avg_pa_at_home,2) AS avg_pa_at_home\n",
    "    FROM rankings\n",
    "    ORDER BY best_to_worst\n",
    "    LIMIT 3\n",
    "), bottom3 AS (\n",
    "    SELECT\n",
    "        team,\n",
    "        ROUND(avg_pa_at_home,2) AS avg_pa_at_home\n",
    "    FROM rankings\n",
    "    ORDER BY worst_to_best ASC\n",
    "    LIMIT 3\n",
    ")\n",
    "SELECT *\n",
    "FROM bottom3\n",
    "\"\"\"\n",
    "\n",
    "pd.read_sql(query, conn)"
   ]
  }
 ],
 "metadata": {
  "kernelspec": {
   "display_name": "Python 3.10.6 ('env': venv)",
   "language": "python",
   "name": "python3"
  },
  "language_info": {
   "codemirror_mode": {
    "name": "ipython",
    "version": 3
   },
   "file_extension": ".py",
   "mimetype": "text/x-python",
   "name": "python",
   "nbconvert_exporter": "python",
   "pygments_lexer": "ipython3",
   "version": "3.10.6"
  },
  "orig_nbformat": 4,
  "vscode": {
   "interpreter": {
    "hash": "4c11be34945b9e5d06588e60c5142a317bb34337c82f00f4b31063bbdfdda38b"
   }
  }
 },
 "nbformat": 4,
 "nbformat_minor": 2
}
