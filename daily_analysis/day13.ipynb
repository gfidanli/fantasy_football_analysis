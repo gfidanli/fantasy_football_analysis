{
 "cells": [
  {
   "cell_type": "markdown",
   "metadata": {},
   "source": [
    "# Day 13\n",
    "Today I'm going to do something a little different. Instead of doing some sort of analysis I'm going to create a script to scrape [Fantasy Football Tiers](http://www.borischen.co) created by Boris Chen. All credit to him for providing this free data every week.\n",
    "\n",
    "Eventually I plan on adding code to connect to your Yahoo Fntasy Football league so you can see at a glance who you should be starting based on the Boris Chen rankings. I'll try to create a Web App to make this easier so instead of downloading this notebook you can visit the app, connect to your Fantasy League (or imput your players manually), and see how they rank."
   ]
  },
  {
   "cell_type": "markdown",
   "metadata": {},
   "source": [
    "## Set Up"
   ]
  },
  {
   "cell_type": "code",
   "execution_count": 118,
   "metadata": {},
   "outputs": [],
   "source": [
    "from bs4 import BeautifulSoup as Soup\n",
    "import pandas as pd\n",
    "import requests\n",
    "import dataframe_image as dfi"
   ]
  },
  {
   "cell_type": "code",
   "execution_count": 15,
   "metadata": {},
   "outputs": [],
   "source": [
    "# Scrape\n",
    "url = f\"http://www.borischen.co/p/half-05-5-ppr-running-back-tier-rankings.html\"\n",
    "response = requests.get(url)\n",
    "\n",
    "# Parse\n",
    "soup = Soup(requests.get(url).content, \"html.parser\")"
   ]
  },
  {
   "cell_type": "code",
   "execution_count": 25,
   "metadata": {},
   "outputs": [
    {
     "data": {
      "text/plain": [
       "<object data=\"https://s3-us-west-1.amazonaws.com/fftiers/out/text_RB-HALF.txt\" style=\"height: 100%; margin: 1%; width: 100%;\" type=\"text/html\"></object>"
      ]
     },
     "execution_count": 25,
     "metadata": {},
     "output_type": "execute_result"
    }
   ],
   "source": [
    "# Look for where the table is stored\n",
    "soup.find(\"object\")"
   ]
  },
  {
   "cell_type": "code",
   "execution_count": 29,
   "metadata": {},
   "outputs": [
    {
     "data": {
      "text/plain": [
       "'https://s3-us-west-1.amazonaws.com/fftiers/out/text_RB-HALF.txt'"
      ]
     },
     "execution_count": 29,
     "metadata": {},
     "output_type": "execute_result"
    }
   ],
   "source": [
    "# Get url from data tag\n",
    "url = soup.find(\"object\")['data']\n",
    "url"
   ]
  },
  {
   "cell_type": "markdown",
   "metadata": {},
   "source": [
    "## Extracting the Data"
   ]
  },
  {
   "cell_type": "code",
   "execution_count": 113,
   "metadata": {},
   "outputs": [],
   "source": [
    "def get_player_tiers(position, scoring):\n",
    "\n",
    "    \"\"\"\n",
    "    position: 'RB', 'WR', 'QB', or 'FLX\n",
    "    scoring: \n",
    "        \"STAN\": standard\n",
    "        \"HALF\": half-ppr\n",
    "        \"PPR: ppr\n",
    "    \"\"\"\n",
    "\n",
    "    # Build URL\n",
    "    if position == \"QB\":\n",
    "        url = f\"https://s3-us-west-1.amazonaws.com/fftiers/out/text_{position}.txt\"\n",
    "    else:\n",
    "        if scoring == \"STAN\":\n",
    "            url = f\"https://s3-us-west-1.amazonaws.com/fftiers/out/text_{position}.txt\"\n",
    "        else:   \n",
    "            url = f\"https://s3-us-west-1.amazonaws.com/fftiers/out/text_{position}-{scoring}.txt\"\n",
    "    \n",
    "    # Get table with player info\n",
    "    table = requests.get(url).text\n",
    "\n",
    "    # Clean up\n",
    "    temp = [x.strip() for x in table.replace(\"\\n\",\",\").split(\",\")]\n",
    "\n",
    "    # Get data into containers for saving into a DataFrame\n",
    "    data = {}\n",
    "    player_names = []\n",
    "    tiers = []\n",
    "\n",
    "    current_tier = 1\n",
    "\n",
    "    for i in temp[:-1]:\n",
    "        if i[:4] == \"Tier\":\n",
    "            \n",
    "            current_tier = int(i.split(\":\")[0].split(\" \")[1])\n",
    "\n",
    "            player_names.append(i.split(\":\")[1].strip())\n",
    "            tiers.append(current_tier)\n",
    "        else:\n",
    "            player_names.append(i)\n",
    "            tiers.append(current_tier)\n",
    "\n",
    "    data['player_name'] = player_names\n",
    "    data['position'] = [position for i in list(range(1,len(player_names)+1))]\n",
    "    data['scoring'] = [scoring for i in list(range(1,len(player_names)+1))]\n",
    "    data['tier'] = tiers\n",
    "    \n",
    "\n",
    "    return pd.DataFrame(data)\n",
    "\n",
    "def get_my_players(ds, player_list, scoring_list):\n",
    "    \n",
    "    f_players = ds['player_name'].isin(player_list)\n",
    "    f_scoring = ds['scoring'].isin(scoring_list)\n",
    "\n",
    "    # Clean up index for easier legibility\n",
    "    _ = ds[f_players & f_scoring].sort_values(['position', 'scoring', 'tier'], ascending=[False, True, True])\n",
    "    _.index = _.index + 1\n",
    "    \n",
    "    return _"
   ]
  },
  {
   "cell_type": "code",
   "execution_count": 97,
   "metadata": {},
   "outputs": [
    {
     "data": {
      "text/html": [
       "<div>\n",
       "<style scoped>\n",
       "    .dataframe tbody tr th:only-of-type {\n",
       "        vertical-align: middle;\n",
       "    }\n",
       "\n",
       "    .dataframe tbody tr th {\n",
       "        vertical-align: top;\n",
       "    }\n",
       "\n",
       "    .dataframe thead th {\n",
       "        text-align: right;\n",
       "    }\n",
       "</style>\n",
       "<table border=\"1\" class=\"dataframe\">\n",
       "  <thead>\n",
       "    <tr style=\"text-align: right;\">\n",
       "      <th></th>\n",
       "      <th>player_name</th>\n",
       "      <th>position</th>\n",
       "      <th>scoring</th>\n",
       "      <th>tier</th>\n",
       "    </tr>\n",
       "  </thead>\n",
       "  <tbody>\n",
       "    <tr>\n",
       "      <th>0</th>\n",
       "      <td>Austin Ekeler</td>\n",
       "      <td>RB</td>\n",
       "      <td>HALF</td>\n",
       "      <td>1</td>\n",
       "    </tr>\n",
       "    <tr>\n",
       "      <th>1</th>\n",
       "      <td>Alvin Kamara</td>\n",
       "      <td>RB</td>\n",
       "      <td>HALF</td>\n",
       "      <td>1</td>\n",
       "    </tr>\n",
       "    <tr>\n",
       "      <th>2</th>\n",
       "      <td>Derrick Henry</td>\n",
       "      <td>RB</td>\n",
       "      <td>HALF</td>\n",
       "      <td>1</td>\n",
       "    </tr>\n",
       "    <tr>\n",
       "      <th>3</th>\n",
       "      <td>Josh Jacobs</td>\n",
       "      <td>RB</td>\n",
       "      <td>HALF</td>\n",
       "      <td>1</td>\n",
       "    </tr>\n",
       "    <tr>\n",
       "      <th>4</th>\n",
       "      <td>Aaron Jones</td>\n",
       "      <td>RB</td>\n",
       "      <td>HALF</td>\n",
       "      <td>2</td>\n",
       "    </tr>\n",
       "  </tbody>\n",
       "</table>\n",
       "</div>"
      ],
      "text/plain": [
       "     player_name position scoring tier\n",
       "0  Austin Ekeler       RB    HALF    1\n",
       "1   Alvin Kamara       RB    HALF    1\n",
       "2  Derrick Henry       RB    HALF    1\n",
       "3    Josh Jacobs       RB    HALF    1\n",
       "4    Aaron Jones       RB    HALF    2"
      ]
     },
     "execution_count": 97,
     "metadata": {},
     "output_type": "execute_result"
    }
   ],
   "source": [
    "get_player_tiers('RB', 'HALF').head()"
   ]
  },
  {
   "cell_type": "markdown",
   "metadata": {},
   "source": [
    "## Get player rankings\n",
    "\n",
    "Imagine you are playing .5 PPR and want to know where your QBs, RBs, WRs, TE's and FLEX players stand. You can do the following:"
   ]
  },
  {
   "cell_type": "code",
   "execution_count": 115,
   "metadata": {},
   "outputs": [
    {
     "data": {
      "text/html": [
       "<div>\n",
       "<style scoped>\n",
       "    .dataframe tbody tr th:only-of-type {\n",
       "        vertical-align: middle;\n",
       "    }\n",
       "\n",
       "    .dataframe tbody tr th {\n",
       "        vertical-align: top;\n",
       "    }\n",
       "\n",
       "    .dataframe thead th {\n",
       "        text-align: right;\n",
       "    }\n",
       "</style>\n",
       "<table border=\"1\" class=\"dataframe\">\n",
       "  <thead>\n",
       "    <tr style=\"text-align: right;\">\n",
       "      <th></th>\n",
       "      <th>player_name</th>\n",
       "      <th>position</th>\n",
       "      <th>scoring</th>\n",
       "      <th>tier</th>\n",
       "    </tr>\n",
       "  </thead>\n",
       "  <tbody>\n",
       "    <tr>\n",
       "      <th>0</th>\n",
       "      <td>Josh Allen</td>\n",
       "      <td>QB</td>\n",
       "      <td>HALF</td>\n",
       "      <td>1</td>\n",
       "    </tr>\n",
       "    <tr>\n",
       "      <th>1</th>\n",
       "      <td>Jalen Hurts</td>\n",
       "      <td>QB</td>\n",
       "      <td>HALF</td>\n",
       "      <td>1</td>\n",
       "    </tr>\n",
       "    <tr>\n",
       "      <th>2</th>\n",
       "      <td>Patrick Mahomes II</td>\n",
       "      <td>QB</td>\n",
       "      <td>HALF</td>\n",
       "      <td>1</td>\n",
       "    </tr>\n",
       "    <tr>\n",
       "      <th>3</th>\n",
       "      <td>Lamar Jackson</td>\n",
       "      <td>QB</td>\n",
       "      <td>HALF</td>\n",
       "      <td>2</td>\n",
       "    </tr>\n",
       "    <tr>\n",
       "      <th>4</th>\n",
       "      <td>Kyler Murray</td>\n",
       "      <td>QB</td>\n",
       "      <td>HALF</td>\n",
       "      <td>2</td>\n",
       "    </tr>\n",
       "  </tbody>\n",
       "</table>\n",
       "</div>"
      ],
      "text/plain": [
       "          player_name position scoring  tier\n",
       "0          Josh Allen       QB    HALF     1\n",
       "1         Jalen Hurts       QB    HALF     1\n",
       "2  Patrick Mahomes II       QB    HALF     1\n",
       "3       Lamar Jackson       QB    HALF     2\n",
       "4        Kyler Murray       QB    HALF     2"
      ]
     },
     "execution_count": 115,
     "metadata": {},
     "output_type": "execute_result"
    }
   ],
   "source": [
    "# Positions you have on your team\n",
    "positions = ['QB', 'RB', 'WR', 'FLX', 'TE']\n",
    "\n",
    "# League scoring\n",
    "# Add more if you are in multiple leagues with different scoring systems\n",
    "scoring_systems = ['HALF']\n",
    "\n",
    "# Get data\n",
    "datasets = []\n",
    "\n",
    "for scoring in scoring_systems:\n",
    "    for pos in positions:\n",
    "        datasets.append(get_player_tiers(pos, scoring))\n",
    "    \n",
    "\n",
    "all_players = pd.concat(datasets)\n",
    "all_players.head()"
   ]
  },
  {
   "cell_type": "markdown",
   "metadata": {},
   "source": [
    "### Only your players"
   ]
  },
  {
   "cell_type": "code",
   "execution_count": 119,
   "metadata": {},
   "outputs": [
    {
     "data": {
      "text/html": [
       "<div>\n",
       "<style scoped>\n",
       "    .dataframe tbody tr th:only-of-type {\n",
       "        vertical-align: middle;\n",
       "    }\n",
       "\n",
       "    .dataframe tbody tr th {\n",
       "        vertical-align: top;\n",
       "    }\n",
       "\n",
       "    .dataframe thead th {\n",
       "        text-align: right;\n",
       "    }\n",
       "</style>\n",
       "<table border=\"1\" class=\"dataframe\">\n",
       "  <thead>\n",
       "    <tr style=\"text-align: right;\">\n",
       "      <th></th>\n",
       "      <th>player_name</th>\n",
       "      <th>position</th>\n",
       "      <th>scoring</th>\n",
       "      <th>tier</th>\n",
       "    </tr>\n",
       "  </thead>\n",
       "  <tbody>\n",
       "    <tr>\n",
       "      <th>12</th>\n",
       "      <td>Chris Godwin</td>\n",
       "      <td>WR</td>\n",
       "      <td>HALF</td>\n",
       "      <td>3</td>\n",
       "    </tr>\n",
       "    <tr>\n",
       "      <th>24</th>\n",
       "      <td>Michael Pittman Jr.</td>\n",
       "      <td>WR</td>\n",
       "      <td>HALF</td>\n",
       "      <td>4</td>\n",
       "    </tr>\n",
       "    <tr>\n",
       "      <th>6</th>\n",
       "      <td>Taysom Hill</td>\n",
       "      <td>TE</td>\n",
       "      <td>HALF</td>\n",
       "      <td>2</td>\n",
       "    </tr>\n",
       "    <tr>\n",
       "      <th>12</th>\n",
       "      <td>T.J. Hockenson</td>\n",
       "      <td>TE</td>\n",
       "      <td>HALF</td>\n",
       "      <td>3</td>\n",
       "    </tr>\n",
       "    <tr>\n",
       "      <th>4</th>\n",
       "      <td>Josh Jacobs</td>\n",
       "      <td>RB</td>\n",
       "      <td>HALF</td>\n",
       "      <td>1</td>\n",
       "    </tr>\n",
       "    <tr>\n",
       "      <th>24</th>\n",
       "      <td>Khalil Herbert</td>\n",
       "      <td>RB</td>\n",
       "      <td>HALF</td>\n",
       "      <td>6</td>\n",
       "    </tr>\n",
       "    <tr>\n",
       "      <th>1</th>\n",
       "      <td>Josh Allen</td>\n",
       "      <td>QB</td>\n",
       "      <td>HALF</td>\n",
       "      <td>1</td>\n",
       "    </tr>\n",
       "    <tr>\n",
       "      <th>6</th>\n",
       "      <td>Justin Herbert</td>\n",
       "      <td>QB</td>\n",
       "      <td>HALF</td>\n",
       "      <td>2</td>\n",
       "    </tr>\n",
       "    <tr>\n",
       "      <th>8</th>\n",
       "      <td>Chris Godwin</td>\n",
       "      <td>FLX</td>\n",
       "      <td>HALF</td>\n",
       "      <td>2</td>\n",
       "    </tr>\n",
       "    <tr>\n",
       "      <th>22</th>\n",
       "      <td>Michael Pittman Jr.</td>\n",
       "      <td>FLX</td>\n",
       "      <td>HALF</td>\n",
       "      <td>5</td>\n",
       "    </tr>\n",
       "    <tr>\n",
       "      <th>44</th>\n",
       "      <td>Khalil Herbert</td>\n",
       "      <td>FLX</td>\n",
       "      <td>HALF</td>\n",
       "      <td>9</td>\n",
       "    </tr>\n",
       "    <tr>\n",
       "      <th>47</th>\n",
       "      <td>Taysom Hill</td>\n",
       "      <td>FLX</td>\n",
       "      <td>HALF</td>\n",
       "      <td>10</td>\n",
       "    </tr>\n",
       "    <tr>\n",
       "      <th>66</th>\n",
       "      <td>T.J. Hockenson</td>\n",
       "      <td>FLX</td>\n",
       "      <td>HALF</td>\n",
       "      <td>13</td>\n",
       "    </tr>\n",
       "  </tbody>\n",
       "</table>\n",
       "</div>"
      ],
      "text/plain": [
       "            player_name position scoring  tier\n",
       "12         Chris Godwin       WR    HALF     3\n",
       "24  Michael Pittman Jr.       WR    HALF     4\n",
       "6           Taysom Hill       TE    HALF     2\n",
       "12       T.J. Hockenson       TE    HALF     3\n",
       "4           Josh Jacobs       RB    HALF     1\n",
       "24       Khalil Herbert       RB    HALF     6\n",
       "1            Josh Allen       QB    HALF     1\n",
       "6        Justin Herbert       QB    HALF     2\n",
       "8          Chris Godwin      FLX    HALF     2\n",
       "22  Michael Pittman Jr.      FLX    HALF     5\n",
       "44       Khalil Herbert      FLX    HALF     9\n",
       "47          Taysom Hill      FLX    HALF    10\n",
       "66       T.J. Hockenson      FLX    HALF    13"
      ]
     },
     "execution_count": 119,
     "metadata": {},
     "output_type": "execute_result"
    }
   ],
   "source": [
    "my_players = [\n",
    "        'Josh Allen', \n",
    "        'Chris Godwin', \n",
    "        'Josh Palmer', \n",
    "        'Josh Jacobs', \n",
    "        'Khalil Herbert', \n",
    "        'Taysom Hill', \n",
    "        'Michael Pittman Jr.', \n",
    "        'Justin Herbert', \n",
    "        'T.J. Hockenson']\n",
    "\n",
    "# Index will be the overall rank per position, scoring system\n",
    "my_player_rankings = get_my_players(all_players, my_players, ['HALF'])\n",
    "my_player_rankings"
   ]
  },
  {
   "cell_type": "code",
   "execution_count": 120,
   "metadata": {},
   "outputs": [
    {
     "name": "stderr",
     "output_type": "stream",
     "text": [
      "objc[9540]: Class WebSwapCGLLayer is implemented in both /System/Library/Frameworks/WebKit.framework/Versions/A/Frameworks/WebCore.framework/Versions/A/Frameworks/libANGLE-shared.dylib (0x23c0972e0) and /Applications/Google Chrome.app/Contents/Frameworks/Google Chrome Framework.framework/Versions/107.0.5304.87/Libraries/libGLESv2.dylib (0x10e4480d8). One of the two will be used. Which one is undefined.\n",
      "[1106/145354.991640:INFO:headless_shell.cc(657)] Written to file /var/folders/pr/phs5jp1d143fx1t05hqzwt580000gn/T/tmpbfbg89mu/temp.png.\n"
     ]
    }
   ],
   "source": [
    "# Save table for Twitter post\n",
    "my_player_rankings.dfi.export('./twitter/day13_table.png')"
   ]
  }
 ],
 "metadata": {
  "kernelspec": {
   "display_name": "Python 3.10.6 ('env': venv)",
   "language": "python",
   "name": "python3"
  },
  "language_info": {
   "codemirror_mode": {
    "name": "ipython",
    "version": 3
   },
   "file_extension": ".py",
   "mimetype": "text/x-python",
   "name": "python",
   "nbconvert_exporter": "python",
   "pygments_lexer": "ipython3",
   "version": "3.10.6"
  },
  "orig_nbformat": 4,
  "vscode": {
   "interpreter": {
    "hash": "4c11be34945b9e5d06588e60c5142a317bb34337c82f00f4b31063bbdfdda38b"
   }
  }
 },
 "nbformat": 4,
 "nbformat_minor": 2
}
