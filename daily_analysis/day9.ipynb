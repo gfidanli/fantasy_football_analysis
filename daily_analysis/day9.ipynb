{
 "cells": [
  {
   "cell_type": "markdown",
   "metadata": {},
   "source": [
    "# Day 9 Analysis"
   ]
  },
  {
   "cell_type": "markdown",
   "metadata": {},
   "source": [
    "Day 9 is a continuation of Day 8's analysis of WR target share vs. fantasy points for the 2022 season through Week 8. This analysis will focus on expected fanatsy points (standard scoring) given a player's average target share. To calculate expected fanatsy points scored a regression line was fit on data from 1999-2021 and then that was used on 2021 data.\n",
    "\n",
    "I'll do some exploratory analysis on expected fanatsy points scored and the difference between a player's actual fantasy points and expected fanatsy points which I will call average points differential or `avg_points_diff`. I want to see the probability of a player with X point differential to see how likely that player is to regress positively or negatively towards his expected points.\n",
    "\n",
    "A positive regression candidate is a \"buy low\" player and a negative regression candidate is a \"sell high\" player."
   ]
  },
  {
   "cell_type": "markdown",
   "metadata": {},
   "source": [
    "## Set Up"
   ]
  },
  {
   "cell_type": "code",
   "execution_count": 165,
   "metadata": {},
   "outputs": [],
   "source": [
    "import warnings\n",
    "warnings.simplefilter(action='ignore', category=FutureWarning)\n",
    "\n",
    "import pandas as pd\n",
    "import sqlite3\n",
    "import matplotlib.pyplot as plt\n",
    "import seaborn as sns\n",
    "import numpy as np\n",
    "\n",
    "# Create database connection\n",
    "conn = sqlite3.connect('../data/db/database.db')"
   ]
  },
  {
   "cell_type": "markdown",
   "metadata": {},
   "source": [
    "## Target Share vs. Fantasy Points: 1999-2011\n",
    "First I'll get the average target share and fanatsy points scored by WR for seasons 1999-2021. Then I'll fit a regression line to the data which will be used to generate expected fanatsy points for the 2022 season."
   ]
  },
  {
   "cell_type": "markdown",
   "metadata": {},
   "source": [
    "### Get Data"
   ]
  },
  {
   "cell_type": "code",
   "execution_count": 222,
   "metadata": {},
   "outputs": [
    {
     "name": "stdout",
     "output_type": "stream",
     "text": [
      "(1170, 4)\n"
     ]
    },
    {
     "data": {
      "text/html": [
       "<div>\n",
       "<style scoped>\n",
       "    .dataframe tbody tr th:only-of-type {\n",
       "        vertical-align: middle;\n",
       "    }\n",
       "\n",
       "    .dataframe tbody tr th {\n",
       "        vertical-align: top;\n",
       "    }\n",
       "\n",
       "    .dataframe thead th {\n",
       "        text-align: right;\n",
       "    }\n",
       "</style>\n",
       "<table border=\"1\" class=\"dataframe\">\n",
       "  <thead>\n",
       "    <tr style=\"text-align: right;\">\n",
       "      <th></th>\n",
       "      <th>player_name</th>\n",
       "      <th>num_games</th>\n",
       "      <th>avg_tgt_share</th>\n",
       "      <th>avg_fantasy_pts</th>\n",
       "    </tr>\n",
       "  </thead>\n",
       "  <tbody>\n",
       "    <tr>\n",
       "      <th>0</th>\n",
       "      <td>Derrick Alexander</td>\n",
       "      <td>52</td>\n",
       "      <td>0.199942</td>\n",
       "      <td>7.315385</td>\n",
       "    </tr>\n",
       "    <tr>\n",
       "      <th>1</th>\n",
       "      <td>Brian Alford</td>\n",
       "      <td>2</td>\n",
       "      <td>0.057958</td>\n",
       "      <td>3.350000</td>\n",
       "    </tr>\n",
       "    <tr>\n",
       "      <th>2</th>\n",
       "      <td>Reidel Anthony</td>\n",
       "      <td>36</td>\n",
       "      <td>0.121562</td>\n",
       "      <td>2.800000</td>\n",
       "    </tr>\n",
       "    <tr>\n",
       "      <th>3</th>\n",
       "      <td>Justin Armour</td>\n",
       "      <td>14</td>\n",
       "      <td>0.173866</td>\n",
       "      <td>5.014286</td>\n",
       "    </tr>\n",
       "    <tr>\n",
       "      <th>4</th>\n",
       "      <td>Karsten Bailey</td>\n",
       "      <td>9</td>\n",
       "      <td>0.076829</td>\n",
       "      <td>1.644444</td>\n",
       "    </tr>\n",
       "  </tbody>\n",
       "</table>\n",
       "</div>"
      ],
      "text/plain": [
       "         player_name  num_games  avg_tgt_share  avg_fantasy_pts\n",
       "0  Derrick Alexander         52       0.199942         7.315385\n",
       "1       Brian Alford          2       0.057958         3.350000\n",
       "2     Reidel Anthony         36       0.121562         2.800000\n",
       "3      Justin Armour         14       0.173866         5.014286\n",
       "4     Karsten Bailey          9       0.076829         1.644444"
      ]
     },
     "execution_count": 222,
     "metadata": {},
     "output_type": "execute_result"
    }
   ],
   "source": [
    "query = \"\"\"\n",
    "WITH data AS (\n",
    "    SELECT\n",
    "        player_id,\n",
    "        player_display_name AS player_name,\n",
    "        target_share AS tgt_share,\n",
    "        fantasy_points AS fantasy_pts\n",
    "    FROM weekly \n",
    "    WHERE position = 'WR'\n",
    "        AND season_type = 'REG'\n",
    "        AND target_share IS NOT NULL -- There are data errors where target share was recorded as NULL, these can be removed\n",
    "        AND season <> 2022\n",
    "), aggregation AS (\n",
    "    SELECT\n",
    "        player_name,\n",
    "        COUNT(*) AS num_games,\n",
    "        AVG(tgt_share) AS avg_tgt_share,\n",
    "        AVG(fantasy_pts) AS avg_fantasy_pts\n",
    "    FROM data\n",
    "    GROUP BY player_id, player_name\n",
    ")\n",
    "SELECT *\n",
    "FROM aggregation\n",
    "\"\"\"\n",
    "\n",
    "df_by_player_1999_2021 = pd.read_sql(query, conn)\n",
    "print(df_by_player_1999_2021.shape)\n",
    "df_by_player_1999_2021.head()\n"
   ]
  },
  {
   "cell_type": "markdown",
   "metadata": {},
   "source": [
    "### Clean Data"
   ]
  },
  {
   "cell_type": "code",
   "execution_count": 216,
   "metadata": {},
   "outputs": [
    {
     "name": "stdout",
     "output_type": "stream",
     "text": [
      "0.23333333333333334\n"
     ]
    },
    {
     "data": {
      "text/plain": [
       "1     0.096581\n",
       "2     0.058974\n",
       "3     0.045299\n",
       "4     0.032479\n",
       "5     0.025641\n",
       "6     0.021368\n",
       "7     0.029915\n",
       "8     0.024786\n",
       "9     0.015385\n",
       "10    0.013675\n",
       "Name: num_games, dtype: float64"
      ]
     },
     "execution_count": 216,
     "metadata": {},
     "output_type": "execute_result"
    }
   ],
   "source": [
    "# Check for number of games played\n",
    "# If number of game played = 1, can create noise. Will want to remove\n",
    "print(df_by_player_1999_2021['num_games'].value_counts(normalize=True).sort_index()[:4].sum())\n",
    "df_by_player_1999_2021['num_games'].value_counts(normalize=True).sort_index()[:10]"
   ]
  },
  {
   "cell_type": "markdown",
   "metadata": {},
   "source": [
    "I'll remove players with only 1 game played since those can definitely create some noise in the data. Based on normalized values I'd like to take players that have at least 5 games played but that would mean removing almost 25% of the data so I'll leave players with 2+ games in the dataset."
   ]
  },
  {
   "cell_type": "code",
   "execution_count": 217,
   "metadata": {},
   "outputs": [
    {
     "name": "stdout",
     "output_type": "stream",
     "text": [
      "(1057, 5)\n"
     ]
    }
   ],
   "source": [
    "df_by_player_1999_2021 = df_by_player_1999_2021[df_by_player_1999_2021['num_games'] > 1]\n",
    "print(df_by_player_1999_2021.shape)"
   ]
  },
  {
   "cell_type": "markdown",
   "metadata": {},
   "source": [
    "### Exploratory Analysis"
   ]
  },
  {
   "cell_type": "code",
   "execution_count": 218,
   "metadata": {},
   "outputs": [
    {
     "data": {
      "text/plain": [
       "<seaborn.axisgrid.FacetGrid at 0x291a78c70>"
      ]
     },
     "execution_count": 218,
     "metadata": {},
     "output_type": "execute_result"
    },
    {
     "data": {
      "image/png": "[encoded data removed]",
      "text/plain": [
       "<Figure size 500x500 with 1 Axes>"
      ]
     },
     "metadata": {},
     "output_type": "display_data"
    }
   ],
   "source": [
    "# Check distribution\n",
    "sns.displot(\n",
    "    x=\"avg_tgt_share\",\n",
    "    data=df_by_player_1999_2021,\n",
    "    kind=\"hist\",\n",
    "    bins = 15\n",
    ")"
   ]
  },
  {
   "cell_type": "code",
   "execution_count": 219,
   "metadata": {},
   "outputs": [
    {
     "data": {
      "text/plain": [
       "<seaborn.axisgrid.FacetGrid at 0x29289ae90>"
      ]
     },
     "execution_count": 219,
     "metadata": {},
     "output_type": "execute_result"
    },
    {
     "data": {
      "image/png": "[encoded data removed]",
      "text/plain": [
       "<Figure size 500x500 with 1 Axes>"
      ]
     },
     "metadata": {},
     "output_type": "display_data"
    }
   ],
   "source": [
    "g = sns.relplot(\n",
    "    x=\"avg_tgt_share\",\n",
    "    y=\"avg_fantasy_pts\",\n",
    "    data=df_by_player_1999_2021\n",
    ")\n",
    "\n",
    "g.set(\n",
    "    xlabel=\"Average Target Share\", \n",
    "    ylabel=\"Average Fantasy Points (Standard)\",\n",
    "    title=\"Avg Target Share vs. Avg Fantasy Points (Reg Season) \\n All WRs, 1999-2021, by Player\"\n",
    ")"
   ]
  },
  {
   "cell_type": "code",
   "execution_count": 220,
   "metadata": {},
   "outputs": [
    {
     "name": "stdout",
     "output_type": "stream",
     "text": [
      "Correlation Coefficient: 0.8935066509956594\n"
     ]
    }
   ],
   "source": [
    "print(f\"Correlation Coefficient: {df_by_player_1999_2021['avg_tgt_share'].corr(df_by_player_1999_2021['avg_fantasy_pts'])}\")"
   ]
  },
  {
   "cell_type": "markdown",
   "metadata": {},
   "source": [
    "### Run Regression"
   ]
  },
  {
   "cell_type": "code",
   "execution_count": 221,
   "metadata": {},
   "outputs": [],
   "source": [
    "# # Drop null values\n",
    "# df_avg_final = df_avg_final.dropna(subset=['avg_tgt_share', 'avg_fantasy_pts'])\n",
    "\n",
    "# Fit a regression line\n",
    "fit = np.polyfit(\n",
    "    x=df_by_player_1999_2021['avg_tgt_share'], \n",
    "    y=df_by_player_1999_2021['avg_fantasy_pts'], \n",
    "    deg=1)\n",
    "\n",
    "lin_func_fpts = np.poly1d(fit)"
   ]
  },
  {
   "cell_type": "code",
   "execution_count": 250,
   "metadata": {},
   "outputs": [
    {
     "name": "stdout",
     "output_type": "stream",
     "text": [
      "(196, 6)\n"
     ]
    },
    {
     "data": {
      "text/html": [
       "<div>\n",
       "<style scoped>\n",
       "    .dataframe tbody tr th:only-of-type {\n",
       "        vertical-align: middle;\n",
       "    }\n",
       "\n",
       "    .dataframe tbody tr th {\n",
       "        vertical-align: top;\n",
       "    }\n",
       "\n",
       "    .dataframe thead th {\n",
       "        text-align: right;\n",
       "    }\n",
       "</style>\n",
       "<table border=\"1\" class=\"dataframe\">\n",
       "  <thead>\n",
       "    <tr style=\"text-align: right;\">\n",
       "      <th></th>\n",
       "      <th>player_name</th>\n",
       "      <th>num_games</th>\n",
       "      <th>avg_tgt_share</th>\n",
       "      <th>avg_fantasy_pts</th>\n",
       "      <th>avg_pts_expected</th>\n",
       "      <th>avg_pts_diff</th>\n",
       "    </tr>\n",
       "  </thead>\n",
       "  <tbody>\n",
       "    <tr>\n",
       "      <th>2</th>\n",
       "      <td>DeAndre Hopkins</td>\n",
       "      <td>2</td>\n",
       "      <td>0.393</td>\n",
       "      <td>16.100</td>\n",
       "      <td>14.569</td>\n",
       "      <td>1.531</td>\n",
       "    </tr>\n",
       "    <tr>\n",
       "      <th>25</th>\n",
       "      <td>CeeDee Lamb</td>\n",
       "      <td>8</td>\n",
       "      <td>0.328</td>\n",
       "      <td>9.350</td>\n",
       "      <td>12.050</td>\n",
       "      <td>-2.700</td>\n",
       "    </tr>\n",
       "    <tr>\n",
       "      <th>3</th>\n",
       "      <td>Cooper Kupp</td>\n",
       "      <td>7</td>\n",
       "      <td>0.325</td>\n",
       "      <td>15.386</td>\n",
       "      <td>11.930</td>\n",
       "      <td>3.456</td>\n",
       "    </tr>\n",
       "    <tr>\n",
       "      <th>4</th>\n",
       "      <td>Tyreek Hill</td>\n",
       "      <td>8</td>\n",
       "      <td>0.321</td>\n",
       "      <td>13.825</td>\n",
       "      <td>11.802</td>\n",
       "      <td>2.023</td>\n",
       "    </tr>\n",
       "    <tr>\n",
       "      <th>6</th>\n",
       "      <td>A.J. Brown</td>\n",
       "      <td>7</td>\n",
       "      <td>0.318</td>\n",
       "      <td>13.700</td>\n",
       "      <td>11.683</td>\n",
       "      <td>2.017</td>\n",
       "    </tr>\n",
       "    <tr>\n",
       "      <th>10</th>\n",
       "      <td>Davante Adams</td>\n",
       "      <td>7</td>\n",
       "      <td>0.297</td>\n",
       "      <td>11.586</td>\n",
       "      <td>10.837</td>\n",
       "      <td>0.749</td>\n",
       "    </tr>\n",
       "    <tr>\n",
       "      <th>33</th>\n",
       "      <td>D.J. Moore</td>\n",
       "      <td>8</td>\n",
       "      <td>0.290</td>\n",
       "      <td>8.050</td>\n",
       "      <td>10.598</td>\n",
       "      <td>-2.548</td>\n",
       "    </tr>\n",
       "    <tr>\n",
       "      <th>5</th>\n",
       "      <td>Justin Jefferson</td>\n",
       "      <td>7</td>\n",
       "      <td>0.290</td>\n",
       "      <td>13.774</td>\n",
       "      <td>10.593</td>\n",
       "      <td>3.181</td>\n",
       "    </tr>\n",
       "    <tr>\n",
       "      <th>1</th>\n",
       "      <td>Stefon Diggs</td>\n",
       "      <td>7</td>\n",
       "      <td>0.287</td>\n",
       "      <td>16.914</td>\n",
       "      <td>10.481</td>\n",
       "      <td>6.433</td>\n",
       "    </tr>\n",
       "    <tr>\n",
       "      <th>55</th>\n",
       "      <td>Drake London</td>\n",
       "      <td>8</td>\n",
       "      <td>0.280</td>\n",
       "      <td>6.075</td>\n",
       "      <td>10.205</td>\n",
       "      <td>-4.130</td>\n",
       "    </tr>\n",
       "  </tbody>\n",
       "</table>\n",
       "</div>"
      ],
      "text/plain": [
       "         player_name  num_games  avg_tgt_share  avg_fantasy_pts  \\\n",
       "2    DeAndre Hopkins          2          0.393           16.100   \n",
       "25       CeeDee Lamb          8          0.328            9.350   \n",
       "3        Cooper Kupp          7          0.325           15.386   \n",
       "4        Tyreek Hill          8          0.321           13.825   \n",
       "6         A.J. Brown          7          0.318           13.700   \n",
       "10     Davante Adams          7          0.297           11.586   \n",
       "33        D.J. Moore          8          0.290            8.050   \n",
       "5   Justin Jefferson          7          0.290           13.774   \n",
       "1       Stefon Diggs          7          0.287           16.914   \n",
       "55      Drake London          8          0.280            6.075   \n",
       "\n",
       "    avg_pts_expected  avg_pts_diff  \n",
       "2             14.569         1.531  \n",
       "25            12.050        -2.700  \n",
       "3             11.930         3.456  \n",
       "4             11.802         2.023  \n",
       "6             11.683         2.017  \n",
       "10            10.837         0.749  \n",
       "33            10.598        -2.548  \n",
       "5             10.593         3.181  \n",
       "1             10.481         6.433  \n",
       "55            10.205        -4.130  "
      ]
     },
     "execution_count": 250,
     "metadata": {},
     "output_type": "execute_result"
    }
   ],
   "source": [
    "# Use regression equation to get expected fantasy points for the 2022 season\n",
    "\n",
    "# Get data\n",
    "query = \"\"\"\n",
    "WITH data AS (\n",
    "    SELECT\n",
    "        player_id,\n",
    "        player_display_name AS player_name,\n",
    "        target_share AS tgt_share,\n",
    "        fantasy_points AS fantasy_pts\n",
    "    FROM weekly \n",
    "    WHERE position = 'WR'\n",
    "        AND season_type = 'REG'\n",
    "        AND target_share IS NOT NULL -- There are data errors where target share was recorded as NULL, these can be removed\n",
    "        AND season = 2022\n",
    "), aggregation AS (\n",
    "    SELECT\n",
    "        player_name,\n",
    "        COUNT(*) AS num_games,\n",
    "        AVG(tgt_share) AS avg_tgt_share,\n",
    "        AVG(fantasy_pts) AS avg_fantasy_pts\n",
    "    FROM data\n",
    "    GROUP BY player_id, player_name\n",
    ")\n",
    "SELECT *\n",
    "FROM aggregation\n",
    "\"\"\"\n",
    "\n",
    "df_by_player_2022 = pd.read_sql(query, conn)\n",
    "\n",
    "# Create summary table\n",
    "summary_2022 = df_by_player_2022.sort_values('avg_fantasy_pts', ascending=False).reset_index(drop=True) # index = fantasy points ranking\n",
    "summary_2022.index = summary_2022.index + 1 # easier to read (1 is now top player by avg fantasy points)\n",
    "\n",
    "summary_2022 = summary_2022.sort_values('avg_tgt_share', ascending=False)\n",
    "\n",
    "summary_2022['avg_pts_expected'] = lin_func_fpts(summary_2022['avg_tgt_share'])\n",
    "summary_2022['avg_pts_diff'] = summary_2022['avg_fantasy_pts'] - summary_2022['avg_pts_expected']\n",
    "\n",
    "print(summary_2022.shape)\n",
    "summary_2022.head(10).round(3)\n"
   ]
  },
  {
   "cell_type": "markdown",
   "metadata": {},
   "source": [
    "Based on the regression line fit on 1999-2021, CeeDee Lamb is scoring 2.7 standard fantasy points less than he should be, per week – a good candidate for positive regression given his extremely high target share. Stefon Diggs is scoring 6.4 standard fantasy points more than he should be, per week – a good candidate for negative regression. He is scoring much more than would be expected given his target share.\n",
    "\n",
    "To see how likely it is for a player to regress to the mean, I will look at the distribution of `avg_points_diff` and if normal, will use statistical methods to determine probability."
   ]
  },
  {
   "cell_type": "code",
   "execution_count": 251,
   "metadata": {},
   "outputs": [
    {
     "data": {
      "text/html": [
       "<div>\n",
       "<style scoped>\n",
       "    .dataframe tbody tr th:only-of-type {\n",
       "        vertical-align: middle;\n",
       "    }\n",
       "\n",
       "    .dataframe tbody tr th {\n",
       "        vertical-align: top;\n",
       "    }\n",
       "\n",
       "    .dataframe thead th {\n",
       "        text-align: right;\n",
       "    }\n",
       "</style>\n",
       "<table border=\"1\" class=\"dataframe\">\n",
       "  <thead>\n",
       "    <tr style=\"text-align: right;\">\n",
       "      <th></th>\n",
       "      <th>player_name</th>\n",
       "      <th>num_games</th>\n",
       "      <th>avg_tgt_share</th>\n",
       "      <th>avg_fantasy_pts</th>\n",
       "      <th>avg_pts_expected</th>\n",
       "      <th>avg_pts_diff</th>\n",
       "    </tr>\n",
       "  </thead>\n",
       "  <tbody>\n",
       "    <tr>\n",
       "      <th>83</th>\n",
       "      <td>Darnell Mooney</td>\n",
       "      <td>8</td>\n",
       "      <td>0.273</td>\n",
       "      <td>4.550</td>\n",
       "      <td>9.929</td>\n",
       "      <td>-5.379</td>\n",
       "    </tr>\n",
       "    <tr>\n",
       "      <th>69</th>\n",
       "      <td>Diontae Johnson</td>\n",
       "      <td>8</td>\n",
       "      <td>0.265</td>\n",
       "      <td>5.175</td>\n",
       "      <td>9.598</td>\n",
       "      <td>-4.423</td>\n",
       "    </tr>\n",
       "    <tr>\n",
       "      <th>55</th>\n",
       "      <td>Drake London</td>\n",
       "      <td>8</td>\n",
       "      <td>0.280</td>\n",
       "      <td>6.075</td>\n",
       "      <td>10.205</td>\n",
       "      <td>-4.130</td>\n",
       "    </tr>\n",
       "    <tr>\n",
       "      <th>84</th>\n",
       "      <td>Robert Woods</td>\n",
       "      <td>7</td>\n",
       "      <td>0.231</td>\n",
       "      <td>4.514</td>\n",
       "      <td>8.282</td>\n",
       "      <td>-3.768</td>\n",
       "    </tr>\n",
       "    <tr>\n",
       "      <th>103</th>\n",
       "      <td>Equanimeous St. Brown</td>\n",
       "      <td>7</td>\n",
       "      <td>0.196</td>\n",
       "      <td>3.557</td>\n",
       "      <td>6.936</td>\n",
       "      <td>-3.379</td>\n",
       "    </tr>\n",
       "    <tr>\n",
       "      <th>147</th>\n",
       "      <td>Marcus Johnson</td>\n",
       "      <td>4</td>\n",
       "      <td>0.143</td>\n",
       "      <td>1.575</td>\n",
       "      <td>4.866</td>\n",
       "      <td>-3.291</td>\n",
       "    </tr>\n",
       "    <tr>\n",
       "      <th>42</th>\n",
       "      <td>Sterling Shepard</td>\n",
       "      <td>3</td>\n",
       "      <td>0.272</td>\n",
       "      <td>7.133</td>\n",
       "      <td>9.874</td>\n",
       "      <td>-2.740</td>\n",
       "    </tr>\n",
       "    <tr>\n",
       "      <th>25</th>\n",
       "      <td>CeeDee Lamb</td>\n",
       "      <td>8</td>\n",
       "      <td>0.328</td>\n",
       "      <td>9.350</td>\n",
       "      <td>12.050</td>\n",
       "      <td>-2.700</td>\n",
       "    </tr>\n",
       "    <tr>\n",
       "      <th>96</th>\n",
       "      <td>Michael Gallup</td>\n",
       "      <td>5</td>\n",
       "      <td>0.186</td>\n",
       "      <td>3.900</td>\n",
       "      <td>6.519</td>\n",
       "      <td>-2.619</td>\n",
       "    </tr>\n",
       "    <tr>\n",
       "      <th>33</th>\n",
       "      <td>D.J. Moore</td>\n",
       "      <td>8</td>\n",
       "      <td>0.290</td>\n",
       "      <td>8.050</td>\n",
       "      <td>10.598</td>\n",
       "      <td>-2.548</td>\n",
       "    </tr>\n",
       "  </tbody>\n",
       "</table>\n",
       "</div>"
      ],
      "text/plain": [
       "               player_name  num_games  avg_tgt_share  avg_fantasy_pts  \\\n",
       "83          Darnell Mooney          8          0.273            4.550   \n",
       "69         Diontae Johnson          8          0.265            5.175   \n",
       "55            Drake London          8          0.280            6.075   \n",
       "84            Robert Woods          7          0.231            4.514   \n",
       "103  Equanimeous St. Brown          7          0.196            3.557   \n",
       "147         Marcus Johnson          4          0.143            1.575   \n",
       "42        Sterling Shepard          3          0.272            7.133   \n",
       "25             CeeDee Lamb          8          0.328            9.350   \n",
       "96          Michael Gallup          5          0.186            3.900   \n",
       "33              D.J. Moore          8          0.290            8.050   \n",
       "\n",
       "     avg_pts_expected  avg_pts_diff  \n",
       "83              9.929        -5.379  \n",
       "69              9.598        -4.423  \n",
       "55             10.205        -4.130  \n",
       "84              8.282        -3.768  \n",
       "103             6.936        -3.379  \n",
       "147             4.866        -3.291  \n",
       "42              9.874        -2.740  \n",
       "25             12.050        -2.700  \n",
       "96              6.519        -2.619  \n",
       "33             10.598        -2.548  "
      ]
     },
     "execution_count": 251,
     "metadata": {},
     "output_type": "execute_result"
    }
   ],
   "source": [
    "# Sort by the difference between actual points and expected points to get the true \"regression to the mean\" candidates\n",
    "# Remove players with only 1 game played as that can be considered noise\n",
    "summary_2022[summary_2022['num_games'] > 1] \\\n",
    "    .sort_values('avg_pts_diff') \\\n",
    "    .head(10) \\\n",
    "    .round(3)"
   ]
  },
  {
   "cell_type": "markdown",
   "metadata": {},
   "source": [
    "Darnell Mooney is the standout here. With almost 27% of his team's target share in 2022 he's scoring about 5.3 standard fantasy points less per game than he \"should be\" based on the observed relationship between target share and fantasy points. "
   ]
  },
  {
   "cell_type": "markdown",
   "metadata": {},
   "source": [
    "## Analyze Average Points Differential"
   ]
  },
  {
   "cell_type": "code",
   "execution_count": 252,
   "metadata": {},
   "outputs": [
    {
     "data": {
      "text/plain": [
       "<seaborn.axisgrid.FacetGrid at 0x294e683d0>"
      ]
     },
     "execution_count": 252,
     "metadata": {},
     "output_type": "execute_result"
    },
    {
     "data": {
      "image/png": "[encoded data removed]",
      "text/plain": [
       "<Figure size 500x500 with 1 Axes>"
      ]
     },
     "metadata": {},
     "output_type": "display_data"
    }
   ],
   "source": [
    "sns.displot(\n",
    "    x='avg_pts_diff',\n",
    "    data=summary_2022,\n",
    "    kind=\"hist\",\n",
    "    bins=15\n",
    ")"
   ]
  },
  {
   "cell_type": "markdown",
   "metadata": {},
   "source": [
    "The distribution looks like a normal distribution with mean around 0. Next I'll get average points differential on the 1999-2021 population to confirm."
   ]
  },
  {
   "cell_type": "code",
   "execution_count": 253,
   "metadata": {},
   "outputs": [
    {
     "data": {
      "text/plain": [
       "<seaborn.axisgrid.FacetGrid at 0x294e3a7d0>"
      ]
     },
     "execution_count": 253,
     "metadata": {},
     "output_type": "execute_result"
    },
    {
     "data": {
      "image/png": "[encoded data removed]",
      "text/plain": [
       "<Figure size 500x500 with 1 Axes>"
      ]
     },
     "metadata": {},
     "output_type": "display_data"
    }
   ],
   "source": [
    "# Use regression line on original dataset with all values \n",
    "df_by_player_1999_2021['avg_pts_expected'] = lin_func_fpts(df_by_player_1999_2021['avg_tgt_share'])\n",
    "df_by_player_1999_2021['avg_pts_diff'] = df_by_player_1999_2021['avg_fantasy_pts'] - df_by_player_1999_2021['avg_pts_expected']\n",
    "\n",
    "sns.displot(\n",
    "    x='avg_pts_diff',\n",
    "    data=df_by_player_1999_2021,\n",
    "    kind=\"hist\",\n",
    "    bins=25\n",
    ")"
   ]
  },
  {
   "cell_type": "markdown",
   "metadata": {},
   "source": [
    "The population distribution confirms that average points differential is normally distributed with a mean of approximately 0."
   ]
  },
  {
   "cell_type": "code",
   "execution_count": 254,
   "metadata": {},
   "outputs": [
    {
     "data": {
      "text/plain": [
       "count    196.000000\n",
       "mean       0.195047\n",
       "std        1.994799\n",
       "min       -5.379261\n",
       "25%       -0.965766\n",
       "50%       -0.124061\n",
       "75%        1.287674\n",
       "max        7.202937\n",
       "Name: avg_pts_diff, dtype: float64"
      ]
     },
     "execution_count": 254,
     "metadata": {},
     "output_type": "execute_result"
    }
   ],
   "source": [
    "summary_2022['avg_pts_diff'].describe()"
   ]
  },
  {
   "cell_type": "code",
   "execution_count": 255,
   "metadata": {},
   "outputs": [
    {
     "data": {
      "text/plain": [
       "count    1170.000000\n",
       "mean       -0.029546\n",
       "std         1.224658\n",
       "min        -4.962556\n",
       "25%        -0.702053\n",
       "50%        -0.128819\n",
       "75%         0.568711\n",
       "max         7.469924\n",
       "Name: avg_pts_diff, dtype: object"
      ]
     },
     "execution_count": 255,
     "metadata": {},
     "output_type": "execute_result"
    }
   ],
   "source": [
    "df_by_player_1999_2021['avg_pts_diff'].describe().apply(lambda x: format(x, 'f'))"
   ]
  },
  {
   "cell_type": "markdown",
   "metadata": {},
   "source": [
    "The observed expected points differential from 1999-2021 is normally distributed with a mean of 0 and standard deviation of 1.122. Therefore we would expect the sample population of player averages for 2022 to be normally distributed as well and thus we should be able to compute the likelihood of a player finishing with that expected point differential (actual - expected) using statistical methods. "
   ]
  },
  {
   "cell_type": "code",
   "execution_count": 264,
   "metadata": {},
   "outputs": [],
   "source": [
    "import scipy.stats\n",
    "\n",
    "def cdf_player_2022(df, player_name):\n",
    "    cdf = scipy.stats.norm(\n",
    "            df['avg_pts_diff'].mean(),\n",
    "            df['avg_pts_diff'].std()\n",
    "            ).cdf(df[df['player_name'] == player_name]['avg_pts_diff'])\n",
    "    return round((cdf[0] * 100),2)\n",
    "\n",
    "def pdf_player_2022(df, player_name):\n",
    "    pdf = scipy.stats.norm(\n",
    "            df['avg_pts_diff'].mean(),\n",
    "            df['avg_pts_diff'].std()\n",
    "            ).pdf(df[df['player_name'] == player_name]['avg_pts_diff'])\n",
    "    return round((pdf[0] * 100),2)"
   ]
  },
  {
   "cell_type": "markdown",
   "metadata": {},
   "source": [
    "The pdf function calculates the probability of X for a given value of X. In this case, we are looking at the probability of a player having an average points differential of X for a given value of X (target share)."
   ]
  },
  {
   "cell_type": "code",
   "execution_count": 265,
   "metadata": {},
   "outputs": [
    {
     "data": {
      "text/plain": [
       "6.98"
      ]
     },
     "execution_count": 265,
     "metadata": {},
     "output_type": "execute_result"
    }
   ],
   "source": [
    "pdf_player_2022(summary_2022, 'CeeDee Lamb')"
   ]
  },
  {
   "cell_type": "markdown",
   "metadata": {},
   "source": [
    "Going back to CeeDee lamb, using the normal distribution of average points differential, we are able to calculate that there is a 7% chance of scoring 2.7 points less than expected per week given his nearly 33% target share. If this is the case, CeeDee is a great \"buy low\", positive regression candidate and should be due for a more productive second half of the season."
   ]
  }
 ],
 "metadata": {
  "kernelspec": {
   "display_name": "Python 3.10.6 ('env': venv)",
   "language": "python",
   "name": "python3"
  },
  "language_info": {
   "codemirror_mode": {
    "name": "ipython",
    "version": 3
   },
   "file_extension": ".py",
   "mimetype": "text/x-python",
   "name": "python",
   "nbconvert_exporter": "python",
   "pygments_lexer": "ipython3",
   "version": "3.10.6"
  },
  "orig_nbformat": 4,
  "vscode": {
   "interpreter": {
    "hash": "4c11be34945b9e5d06588e60c5142a317bb34337c82f00f4b31063bbdfdda38b"
   }
  }
 },
 "nbformat": 4,
 "nbformat_minor": 2
}
