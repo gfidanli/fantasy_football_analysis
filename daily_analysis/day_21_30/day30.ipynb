{
 "cells": [
  {
   "cell_type": "markdown",
   "metadata": {},
   "source": [
    "# Day 30 Analysis\n",
    "\n",
    "Today I'm going to begin work on a Tableau dashboard that summarizes weekly data for the NFL season. I'll be using Tableau Cloud which requires data in CSV format so I'll query my database and export the data I need to CSV."
   ]
  },
  {
   "cell_type": "code",
   "execution_count": 1,
   "metadata": {},
   "outputs": [],
   "source": [
    "import pandas as pd\n",
    "import sqlite3\n",
    "\n",
    "# Create database connection\n",
    "conn = sqlite3.connect('../../data/db/database.db')"
   ]
  },
  {
   "cell_type": "code",
   "execution_count": 8,
   "metadata": {},
   "outputs": [],
   "source": [
    "pd.read_sql(\"\"\"\n",
    "SELECT\n",
    "    player_id,\n",
    "    player_name,\n",
    "    player_display_name,\n",
    "    position,\n",
    "    week,\n",
    "    completions,\n",
    "    attempts,\n",
    "    passing_yards,\n",
    "    passing_air_yards,\n",
    "    passing_tds,\n",
    "    interceptions,\n",
    "    passing_epa,\n",
    "    pacr,\n",
    "    passing_first_downs,\n",
    "    rushing_yards,\n",
    "    fantasy_points\n",
    "FROM weekly\n",
    "WHERE season = 2022\n",
    "    AND week <= 11\"\"\", conn)\\\n",
    "    .to_csv('../../data/output/for_tableau_weekly_week_11.csv', index=False)"
   ]
  },
  {
   "cell_type": "markdown",
   "metadata": {},
   "source": [
    "The **work-in-progress** dashboard can be found [here](https://public.tableau.com/app/profile/sergio.fidanli/viz/NFLQBAnalysis2022SeasonWeek11/QBOverview).\n",
    "\n",
    "If you navigate to the worksheet \"QB - Pass Yards and TDs w/ EPA\" you might notice that Tom Brady looks like a bit of an outlier. His average passing touchdowns and EPA yet is **performing much worse** in terms of passing touchdowns. Based on this Tom Brady is a candidate for positive touchdown regression.  \n",
    "\n",
    "Note: EPA stands for \"expected points added\". It's the difference in expected points from play to play. If the offensive team was at 2.1 expected points on first down, and 2.4 expected points on second down, we would say that the first down play was worth 0.3 EPA. "
   ]
  },
  {
   "cell_type": "markdown",
   "metadata": {},
   "source": []
  }
 ],
 "metadata": {
  "kernelspec": {
   "display_name": "Python 3.10.1 64-bit ('3.10.1')",
   "language": "python",
   "name": "python3"
  },
  "language_info": {
   "codemirror_mode": {
    "name": "ipython",
    "version": 3
   },
   "file_extension": ".py",
   "mimetype": "text/x-python",
   "name": "python",
   "nbconvert_exporter": "python",
   "pygments_lexer": "ipython3",
   "version": "3.10.1"
  },
  "orig_nbformat": 4,
  "vscode": {
   "interpreter": {
    "hash": "d7b52d55dd72b4aa1344bd2920e82b0ff57cf792e8c87f85f8e9217a56ba8f3a"
   }
  }
 },
 "nbformat": 4,
 "nbformat_minor": 2
}
