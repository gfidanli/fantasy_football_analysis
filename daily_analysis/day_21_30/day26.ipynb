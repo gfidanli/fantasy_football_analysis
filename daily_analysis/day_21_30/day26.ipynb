{
 "cells": [
  {
   "cell_type": "markdown",
   "metadata": {},
   "source": [
    "# Day 26\n",
    "\n",
    "Yesterday I saw a possible difference between the scoring distribution of seasons 1999-2010 and 2011-2022. I'm going to perform a two sample t-test to see if the difference is significant."
   ]
  },
  {
   "cell_type": "code",
   "execution_count": 29,
   "metadata": {},
   "outputs": [],
   "source": [
    "import pandas as pd\n",
    "import numpy as np\n",
    "import matplotlib.pyplot as plt\n",
    "import seaborn as sns\n",
    "import sqlite3\n",
    "import pingouin\n",
    "\n",
    "np.random.seed(2022)\n",
    "\n",
    "# Create database connection\n",
    "conn = sqlite3.connect('../../data/db/database.db')"
   ]
  },
  {
   "cell_type": "markdown",
   "metadata": {},
   "source": [
    "## Query Data"
   ]
  },
  {
   "cell_type": "code",
   "execution_count": 30,
   "metadata": {},
   "outputs": [
    {
     "name": "stdout",
     "output_type": "stream",
     "text": [
      "12568\n"
     ]
    },
    {
     "data": {
      "text/html": [
       "<div>\n",
       "<style scoped>\n",
       "    .dataframe tbody tr th:only-of-type {\n",
       "        vertical-align: middle;\n",
       "    }\n",
       "\n",
       "    .dataframe tbody tr th {\n",
       "        vertical-align: top;\n",
       "    }\n",
       "\n",
       "    .dataframe thead th {\n",
       "        text-align: right;\n",
       "    }\n",
       "</style>\n",
       "<table border=\"1\" class=\"dataframe\">\n",
       "  <thead>\n",
       "    <tr style=\"text-align: right;\">\n",
       "      <th></th>\n",
       "      <th>game_id</th>\n",
       "      <th>team</th>\n",
       "      <th>score</th>\n",
       "    </tr>\n",
       "  </thead>\n",
       "  <tbody>\n",
       "    <tr>\n",
       "      <th>0</th>\n",
       "      <td>1999_01_MIN_ATL</td>\n",
       "      <td>ATL</td>\n",
       "      <td>14.0</td>\n",
       "    </tr>\n",
       "    <tr>\n",
       "      <th>1</th>\n",
       "      <td>1999_01_KC_CHI</td>\n",
       "      <td>CHI</td>\n",
       "      <td>20.0</td>\n",
       "    </tr>\n",
       "    <tr>\n",
       "      <th>2</th>\n",
       "      <td>1999_01_PIT_CLE</td>\n",
       "      <td>CLE</td>\n",
       "      <td>0.0</td>\n",
       "    </tr>\n",
       "    <tr>\n",
       "      <th>3</th>\n",
       "      <td>1999_01_OAK_GB</td>\n",
       "      <td>GB</td>\n",
       "      <td>28.0</td>\n",
       "    </tr>\n",
       "    <tr>\n",
       "      <th>4</th>\n",
       "      <td>1999_01_BUF_IND</td>\n",
       "      <td>IND</td>\n",
       "      <td>31.0</td>\n",
       "    </tr>\n",
       "  </tbody>\n",
       "</table>\n",
       "</div>"
      ],
      "text/plain": [
       "           game_id team  score\n",
       "0  1999_01_MIN_ATL  ATL   14.0\n",
       "1   1999_01_KC_CHI  CHI   20.0\n",
       "2  1999_01_PIT_CLE  CLE    0.0\n",
       "3   1999_01_OAK_GB   GB   28.0\n",
       "4  1999_01_BUF_IND  IND   31.0"
      ]
     },
     "execution_count": 30,
     "metadata": {},
     "output_type": "execute_result"
    }
   ],
   "source": [
    "query = \"\"\"\n",
    "SELECT\n",
    "    game_id,\n",
    "    team,\n",
    "    pbp_score AS score\n",
    "FROM pbp_score_summary\n",
    "WHERE pbp_score IS NOT NULL\n",
    "\"\"\"\n",
    "\n",
    "df = pd.read_sql(query, conn)\n",
    "print(len(df))\n",
    "df.head()"
   ]
  },
  {
   "cell_type": "code",
   "execution_count": 31,
   "metadata": {},
   "outputs": [],
   "source": [
    "# Get season and week\n",
    "df['season'] = df['game_id'].apply(lambda x: int(x[:4]))\n",
    "df['week'] = df['game_id'].apply(lambda x: int(x[5:7]))"
   ]
  },
  {
   "cell_type": "code",
   "execution_count": 32,
   "metadata": {},
   "outputs": [
    {
     "data": {
      "text/html": [
       "<div>\n",
       "<style scoped>\n",
       "    .dataframe tbody tr th:only-of-type {\n",
       "        vertical-align: middle;\n",
       "    }\n",
       "\n",
       "    .dataframe tbody tr th {\n",
       "        vertical-align: top;\n",
       "    }\n",
       "\n",
       "    .dataframe thead th {\n",
       "        text-align: right;\n",
       "    }\n",
       "</style>\n",
       "<table border=\"1\" class=\"dataframe\">\n",
       "  <thead>\n",
       "    <tr style=\"text-align: right;\">\n",
       "      <th></th>\n",
       "      <th>score</th>\n",
       "      <th>season</th>\n",
       "      <th>week</th>\n",
       "    </tr>\n",
       "  </thead>\n",
       "  <tbody>\n",
       "    <tr>\n",
       "      <th>count</th>\n",
       "      <td>12568.00</td>\n",
       "      <td>12568.00</td>\n",
       "      <td>12568.00</td>\n",
       "    </tr>\n",
       "    <tr>\n",
       "      <th>mean</th>\n",
       "      <td>22.06</td>\n",
       "      <td>2010.36</td>\n",
       "      <td>9.44</td>\n",
       "    </tr>\n",
       "    <tr>\n",
       "      <th>std</th>\n",
       "      <td>10.28</td>\n",
       "      <td>6.80</td>\n",
       "      <td>5.28</td>\n",
       "    </tr>\n",
       "    <tr>\n",
       "      <th>min</th>\n",
       "      <td>0.00</td>\n",
       "      <td>1999.00</td>\n",
       "      <td>1.00</td>\n",
       "    </tr>\n",
       "    <tr>\n",
       "      <th>25%</th>\n",
       "      <td>14.00</td>\n",
       "      <td>2004.00</td>\n",
       "      <td>5.00</td>\n",
       "    </tr>\n",
       "    <tr>\n",
       "      <th>50%</th>\n",
       "      <td>21.00</td>\n",
       "      <td>2010.00</td>\n",
       "      <td>9.00</td>\n",
       "    </tr>\n",
       "    <tr>\n",
       "      <th>75%</th>\n",
       "      <td>29.00</td>\n",
       "      <td>2016.00</td>\n",
       "      <td>14.00</td>\n",
       "    </tr>\n",
       "    <tr>\n",
       "      <th>max</th>\n",
       "      <td>62.00</td>\n",
       "      <td>2022.00</td>\n",
       "      <td>22.00</td>\n",
       "    </tr>\n",
       "  </tbody>\n",
       "</table>\n",
       "</div>"
      ],
      "text/plain": [
       "          score    season      week\n",
       "count  12568.00  12568.00  12568.00\n",
       "mean      22.06   2010.36      9.44\n",
       "std       10.28      6.80      5.28\n",
       "min        0.00   1999.00      1.00\n",
       "25%       14.00   2004.00      5.00\n",
       "50%       21.00   2010.00      9.00\n",
       "75%       29.00   2016.00     14.00\n",
       "max       62.00   2022.00     22.00"
      ]
     },
     "execution_count": 32,
     "metadata": {},
     "output_type": "execute_result"
    }
   ],
   "source": [
    "df.describe().round(2)"
   ]
  },
  {
   "cell_type": "code",
   "execution_count": 33,
   "metadata": {},
   "outputs": [],
   "source": [
    "# Subset to regular season\n",
    "reg_season = df.query(\"(season < 2021 & week < 17) | (season == 2021 & week < 18) | (season == 2022)\")"
   ]
  },
  {
   "cell_type": "markdown",
   "metadata": {},
   "source": [
    "## Check Distributions"
   ]
  },
  {
   "cell_type": "markdown",
   "metadata": {},
   "source": [
    "### Populations"
   ]
  },
  {
   "cell_type": "code",
   "execution_count": 34,
   "metadata": {},
   "outputs": [
    {
     "data": {
      "image/png": "[encoded data removed]",
      "text/plain": [
       "<Figure size 1500x800 with 2 Axes>"
      ]
     },
     "metadata": {},
     "output_type": "display_data"
    }
   ],
   "source": [
    "# Create figure, axes for subplots\n",
    "fig, (ax0, ax1) = plt.subplots(nrows=1, ncols=2, sharey=True, figsize=(15,8))\n",
    "\n",
    "sns.histplot(\n",
    "    x='score',\n",
    "    data=reg_season.query(\"season < 2011\"),\n",
    "    bins=20,\n",
    "    ax=ax0\n",
    ")\n",
    "\n",
    "sns.histplot(\n",
    "    x='score',\n",
    "    data=reg_season.query(\"season >= 2011\"),\n",
    "    bins=20,\n",
    "    ax=ax1\n",
    ")\n",
    "\n",
    "# Set titles\n",
    "ax0.set_title(\"Seasons 1999-2010\")\n",
    "ax1.set_title(\"Seasons 2011-2022\")\n",
    "\n",
    "sns.despine()\n",
    "plt.show()"
   ]
  },
  {
   "cell_type": "markdown",
   "metadata": {},
   "source": [
    "Scores for each population are normally distributed."
   ]
  },
  {
   "cell_type": "markdown",
   "metadata": {},
   "source": [
    "### Samples"
   ]
  },
  {
   "cell_type": "code",
   "execution_count": 48,
   "metadata": {},
   "outputs": [
    {
     "data": {
      "image/png": "[encoded data removed]",
      "text/plain": [
       "<Figure size 1500x800 with 2 Axes>"
      ]
     },
     "metadata": {},
     "output_type": "display_data"
    }
   ],
   "source": [
    "n = 100\n",
    "\n",
    "sample_1999_2010 = np.random.choice(reg_season.query(\"season < 2011\")['score'], size=n, replace=True)\n",
    "sample_2011_2022 = np.random.choice(reg_season.query(\"season >= 2011\")['score'], size=n, replace=True)\n",
    "\n",
    "# Create figure, axes for subplots\n",
    "fig, (ax0, ax1) = plt.subplots(nrows=1, ncols=2, sharey=True, figsize=(15,8))\n",
    "\n",
    "sns.histplot(\n",
    "    x=sample_1999_2010,\n",
    "    bins=10,\n",
    "    ax=ax0\n",
    ")\n",
    "\n",
    "sns.histplot(\n",
    "    x=sample_2011_2022,\n",
    "    bins=10,\n",
    "    ax=ax1\n",
    ")\n",
    "\n",
    "# Set titles\n",
    "ax0.set_title(\"Seasons 1999-2010\")\n",
    "ax1.set_title(\"Seasons 2011-2022\")\n",
    "\n",
    "sns.despine()\n",
    "plt.show()"
   ]
  },
  {
   "cell_type": "markdown",
   "metadata": {},
   "source": [
    "Scores for each sample seem normally distributed."
   ]
  },
  {
   "cell_type": "code",
   "execution_count": 49,
   "metadata": {},
   "outputs": [
    {
     "name": "stdout",
     "output_type": "stream",
     "text": [
      "Sample 1999-2010 Standard Deviation: 10.27\n",
      "Sample 2011-2022 Standard Deviation: 10.02\n"
     ]
    }
   ],
   "source": [
    "# Check standard deviation\n",
    "print(f\"Sample 1999-2010 Standard Deviation: {np.std(sample_1999_2010).round(2)}\")\n",
    "print(f\"Sample 2011-2022 Standard Deviation: {np.std(sample_2011_2022).round(2)}\")"
   ]
  },
  {
   "cell_type": "markdown",
   "metadata": {},
   "source": [
    "Standard deviations are similar between the two samples"
   ]
  },
  {
   "cell_type": "markdown",
   "metadata": {},
   "source": [
    "## Perform Hypothesis Test"
   ]
  },
  {
   "cell_type": "markdown",
   "metadata": {},
   "source": [
    "### Set Up\n",
    "\n",
    "H0 (null): The average score for teams during 1999-2010 is the same as the average score for teams in 2011-2022\n",
    "H1 (alt): The average score for teams in 2011-2022 is higher than the average score for teams during 1999-2010\n",
    "\n",
    "This will be a left-tailed test since I want to see if the mean of 1999-2010 is **less than** the mean of 2011-2022.\n",
    "\n",
    "Assumptions:\n",
    "- The observations in one sample should be independent of the observations in the other sample.\n",
    "- The data should be approximately normally distributed.\n",
    "- The two samples should have approximately the same variance.\n",
    "- The data in both samples was obtained using a random sampling method.\n",
    "\n",
    "I'll use a significance level of 0.05"
   ]
  },
  {
   "cell_type": "code",
   "execution_count": 52,
   "metadata": {},
   "outputs": [
    {
     "data": {
      "text/html": [
       "<div>\n",
       "<style scoped>\n",
       "    .dataframe tbody tr th:only-of-type {\n",
       "        vertical-align: middle;\n",
       "    }\n",
       "\n",
       "    .dataframe tbody tr th {\n",
       "        vertical-align: top;\n",
       "    }\n",
       "\n",
       "    .dataframe thead th {\n",
       "        text-align: right;\n",
       "    }\n",
       "</style>\n",
       "<table border=\"1\" class=\"dataframe\">\n",
       "  <thead>\n",
       "    <tr style=\"text-align: right;\">\n",
       "      <th></th>\n",
       "      <th>T</th>\n",
       "      <th>dof</th>\n",
       "      <th>alternative</th>\n",
       "      <th>p-val</th>\n",
       "      <th>CI95%</th>\n",
       "      <th>cohen-d</th>\n",
       "      <th>BF10</th>\n",
       "      <th>power</th>\n",
       "    </tr>\n",
       "  </thead>\n",
       "  <tbody>\n",
       "    <tr>\n",
       "      <th>T-test</th>\n",
       "      <td>-2.433878</td>\n",
       "      <td>198</td>\n",
       "      <td>less</td>\n",
       "      <td>0.007913</td>\n",
       "      <td>[-inf, -1.13]</td>\n",
       "      <td>0.344202</td>\n",
       "      <td>4.8</td>\n",
       "      <td>0.782509</td>\n",
       "    </tr>\n",
       "  </tbody>\n",
       "</table>\n",
       "</div>"
      ],
      "text/plain": [
       "               T  dof alternative     p-val          CI95%   cohen-d BF10  \\\n",
       "T-test -2.433878  198        less  0.007913  [-inf, -1.13]  0.344202  4.8   \n",
       "\n",
       "           power  \n",
       "T-test  0.782509  "
      ]
     },
     "execution_count": 52,
     "metadata": {},
     "output_type": "execute_result"
    }
   ],
   "source": [
    "pingouin.ttest(sample_1999_2010, sample_2011_2022, paired=False, alternative='less')"
   ]
  },
  {
   "cell_type": "markdown",
   "metadata": {},
   "source": [
    "The p-value from the test is **less than the significance level** of 0.05 so I will reject the null hypothesis and conclude that the average score for a team during the 1999-2010 regular seasons is significantly less than the average score for a team during the 2011-2022 regular seasons.\n",
    "\n",
    "In the future I'll try to understand why this might be the case. More touchdowns? Less penalties (or more penalties favoring offenses?). More 4th down conversions leading to more scoring opportunities for an offense?"
   ]
  },
  {
   "cell_type": "markdown",
   "metadata": {},
   "source": []
  }
 ],
 "metadata": {
  "kernelspec": {
   "display_name": "Python 3.10.6 ('env': venv)",
   "language": "python",
   "name": "python3"
  },
  "language_info": {
   "codemirror_mode": {
    "name": "ipython",
    "version": 3
   },
   "file_extension": ".py",
   "mimetype": "text/x-python",
   "name": "python",
   "nbconvert_exporter": "python",
   "pygments_lexer": "ipython3",
   "version": "3.10.6"
  },
  "orig_nbformat": 4,
  "vscode": {
   "interpreter": {
    "hash": "4c11be34945b9e5d06588e60c5142a317bb34337c82f00f4b31063bbdfdda38b"
   }
  }
 },
 "nbformat": 4,
 "nbformat_minor": 2
}
