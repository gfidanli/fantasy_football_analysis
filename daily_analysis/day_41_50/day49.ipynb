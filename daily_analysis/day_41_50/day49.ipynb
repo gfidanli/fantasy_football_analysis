{
 "cells": [
  {
   "cell_type": "markdown",
   "metadata": {},
   "source": [
    "# Day 49\n",
    "\n",
    "Another short update – I worked on my Tableau dashboard which you can find on [Tableau Public](https://public.tableau.com/app/profile/sergio.fidanli/viz/2022NFLSeasonSummary/QBs?publish=yes). The data I used to build the dashboard can be found in the `/etl/process_tables.py` script.  \n",
    "\n",
    "Today I was able to complete a version of the Running Back dashboard that I felt was good enough to publish and I combined the QB and RB dashboards into a story. Tomorrow I'm going to take another look at the query – I noticed some `NULL` values that I didn't expect to be there."
   ]
  },
  {
   "cell_type": "markdown",
   "metadata": {},
   "source": []
  }
 ],
 "metadata": {
  "kernelspec": {
   "display_name": "Python 3.10.6 ('env': venv)",
   "language": "python",
   "name": "python3"
  },
  "language_info": {
   "codemirror_mode": {
    "name": "ipython",
    "version": 3
   },
   "file_extension": ".py",
   "mimetype": "text/x-python",
   "name": "python",
   "nbconvert_exporter": "python",
   "pygments_lexer": "ipython3",
   "version": "3.10.6"
  },
  "orig_nbformat": 4,
  "vscode": {
   "interpreter": {
    "hash": "4c11be34945b9e5d06588e60c5142a317bb34337c82f00f4b31063bbdfdda38b"
   }
  }
 },
 "nbformat": 4,
 "nbformat_minor": 2
}
