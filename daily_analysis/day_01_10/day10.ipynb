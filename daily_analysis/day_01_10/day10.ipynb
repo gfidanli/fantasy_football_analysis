{
 "cells": [
  {
   "cell_type": "markdown",
   "metadata": {},
   "source": [
    "# Day 10 Analysis"
   ]
  },
  {
   "cell_type": "markdown",
   "metadata": {},
   "source": [
    "Day 10 is a continuation of Day 9's analysis of using mean regression to identify \"buy low\" and \"sell high\" candidates for fantasy football. Yesterday I focused on standard fantasy points. However, the PPR (1 point per reception) is a popular scoring system. The difference is that a player is given a point for every reception. It's a way to close the scoring gap between WRs and RBs.\n",
    "\n",
    "Today I'll search for these players likely to regress to the mean but now I'm focusing on PPR points. Will the same players show up?"
   ]
  },
  {
   "cell_type": "markdown",
   "metadata": {},
   "source": [
    "## Set Up"
   ]
  },
  {
   "cell_type": "code",
   "execution_count": 151,
   "metadata": {},
   "outputs": [],
   "source": [
    "import warnings\n",
    "warnings.simplefilter(action='ignore', category=FutureWarning)\n",
    "\n",
    "import pandas as pd\n",
    "import sqlite3\n",
    "import matplotlib.pyplot as plt\n",
    "import seaborn as sns\n",
    "import numpy as np\n",
    "import scipy.stats\n",
    "import dataframe_image as dfi\n",
    "\n",
    "# Create database connection\n",
    "conn = sqlite3.connect('../data/db/database.db')"
   ]
  },
  {
   "cell_type": "markdown",
   "metadata": {},
   "source": [
    "## Target Share vs. PPR Fantasy Points: 1999-2011\n",
    "First I'll get the average target share and PPR fantasy points scored by WR for seasons 1999-2021. Then I'll fit a regression line to the data which will be used to generate expected PR fantasy points for the 2022 season."
   ]
  },
  {
   "cell_type": "markdown",
   "metadata": {},
   "source": [
    "### Get Data"
   ]
  },
  {
   "cell_type": "code",
   "execution_count": 152,
   "metadata": {},
   "outputs": [
    {
     "name": "stdout",
     "output_type": "stream",
     "text": [
      "(1170, 4)\n"
     ]
    },
    {
     "data": {
      "text/html": [
       "<div>\n",
       "<style scoped>\n",
       "    .dataframe tbody tr th:only-of-type {\n",
       "        vertical-align: middle;\n",
       "    }\n",
       "\n",
       "    .dataframe tbody tr th {\n",
       "        vertical-align: top;\n",
       "    }\n",
       "\n",
       "    .dataframe thead th {\n",
       "        text-align: right;\n",
       "    }\n",
       "</style>\n",
       "<table border=\"1\" class=\"dataframe\">\n",
       "  <thead>\n",
       "    <tr style=\"text-align: right;\">\n",
       "      <th></th>\n",
       "      <th>player_name</th>\n",
       "      <th>num_games</th>\n",
       "      <th>avg_tgt_share</th>\n",
       "      <th>avg_pts_ppr</th>\n",
       "    </tr>\n",
       "  </thead>\n",
       "  <tbody>\n",
       "    <tr>\n",
       "      <th>0</th>\n",
       "      <td>Derrick Alexander</td>\n",
       "      <td>52</td>\n",
       "      <td>0.199942</td>\n",
       "      <td>10.526923</td>\n",
       "    </tr>\n",
       "    <tr>\n",
       "      <th>1</th>\n",
       "      <td>Brian Alford</td>\n",
       "      <td>2</td>\n",
       "      <td>0.057958</td>\n",
       "      <td>3.850000</td>\n",
       "    </tr>\n",
       "    <tr>\n",
       "      <th>2</th>\n",
       "      <td>Reidel Anthony</td>\n",
       "      <td>36</td>\n",
       "      <td>0.121562</td>\n",
       "      <td>4.411111</td>\n",
       "    </tr>\n",
       "    <tr>\n",
       "      <th>3</th>\n",
       "      <td>Justin Armour</td>\n",
       "      <td>14</td>\n",
       "      <td>0.173866</td>\n",
       "      <td>7.371429</td>\n",
       "    </tr>\n",
       "    <tr>\n",
       "      <th>4</th>\n",
       "      <td>Karsten Bailey</td>\n",
       "      <td>9</td>\n",
       "      <td>0.076829</td>\n",
       "      <td>2.644444</td>\n",
       "    </tr>\n",
       "  </tbody>\n",
       "</table>\n",
       "</div>"
      ],
      "text/plain": [
       "         player_name  num_games  avg_tgt_share  avg_pts_ppr\n",
       "0  Derrick Alexander         52       0.199942    10.526923\n",
       "1       Brian Alford          2       0.057958     3.850000\n",
       "2     Reidel Anthony         36       0.121562     4.411111\n",
       "3      Justin Armour         14       0.173866     7.371429\n",
       "4     Karsten Bailey          9       0.076829     2.644444"
      ]
     },
     "execution_count": 152,
     "metadata": {},
     "output_type": "execute_result"
    }
   ],
   "source": [
    "query = \"\"\"\n",
    "WITH data AS (\n",
    "    SELECT\n",
    "        player_id,\n",
    "        player_display_name AS player_name,\n",
    "        target_share AS tgt_share,\n",
    "        fantasy_points_ppr AS pts_ppr\n",
    "    FROM weekly \n",
    "    WHERE position = 'WR'\n",
    "        AND season_type = 'REG'\n",
    "        AND target_share IS NOT NULL -- There are data errors where target share was recorded as NULL, these can be removed\n",
    "        AND season <> 2022\n",
    "), aggregation AS (\n",
    "    SELECT\n",
    "        player_name,\n",
    "        COUNT(*) AS num_games,\n",
    "        AVG(tgt_share) AS avg_tgt_share,\n",
    "        AVG(pts_ppr) AS avg_pts_ppr\n",
    "    FROM data\n",
    "    GROUP BY player_id, player_name\n",
    ")\n",
    "SELECT *\n",
    "FROM aggregation\n",
    "\"\"\"\n",
    "\n",
    "df_by_player_1999_2021 = pd.read_sql(query, conn)\n",
    "print(df_by_player_1999_2021.shape)\n",
    "df_by_player_1999_2021.head()\n"
   ]
  },
  {
   "cell_type": "markdown",
   "metadata": {},
   "source": [
    "### Clean Data"
   ]
  },
  {
   "cell_type": "code",
   "execution_count": 153,
   "metadata": {},
   "outputs": [
    {
     "name": "stdout",
     "output_type": "stream",
     "text": [
      "0.23333333333333334\n"
     ]
    },
    {
     "data": {
      "text/plain": [
       "1     0.096581\n",
       "2     0.058974\n",
       "3     0.045299\n",
       "4     0.032479\n",
       "5     0.025641\n",
       "6     0.021368\n",
       "7     0.029915\n",
       "8     0.024786\n",
       "9     0.015385\n",
       "10    0.013675\n",
       "Name: num_games, dtype: float64"
      ]
     },
     "execution_count": 153,
     "metadata": {},
     "output_type": "execute_result"
    }
   ],
   "source": [
    "# Check for number of games played\n",
    "# If number of game played = 1, can create noise. Will want to remove\n",
    "print(df_by_player_1999_2021['num_games'].value_counts(normalize=True).sort_index()[:4].sum())\n",
    "df_by_player_1999_2021['num_games'].value_counts(normalize=True).sort_index()[:10]"
   ]
  },
  {
   "cell_type": "markdown",
   "metadata": {},
   "source": [
    "I'll remove players with only 1 game played since those can definitely create some noise in the data. Based on normalized values I'd like to take players that have at least 5 games played but that would mean removing almost 25% of the data so I'll leave players with 2+ games in the dataset."
   ]
  },
  {
   "cell_type": "code",
   "execution_count": 154,
   "metadata": {},
   "outputs": [
    {
     "name": "stdout",
     "output_type": "stream",
     "text": [
      "(1057, 4)\n"
     ]
    }
   ],
   "source": [
    "df_by_player_1999_2021 = df_by_player_1999_2021[df_by_player_1999_2021['num_games'] > 1]\n",
    "print(df_by_player_1999_2021.shape)"
   ]
  },
  {
   "cell_type": "markdown",
   "metadata": {},
   "source": [
    "### Exploratory Analysis"
   ]
  },
  {
   "cell_type": "code",
   "execution_count": 155,
   "metadata": {},
   "outputs": [
    {
     "data": {
      "text/plain": [
       "<seaborn.axisgrid.FacetGrid at 0x288334af0>"
      ]
     },
     "execution_count": 155,
     "metadata": {},
     "output_type": "execute_result"
    },
    {
     "data": {
      "image/png": "[encoded data removed]",
      "text/plain": [
       "<Figure size 500x500 with 1 Axes>"
      ]
     },
     "metadata": {},
     "output_type": "display_data"
    }
   ],
   "source": [
    "# Check distribution\n",
    "sns.displot(\n",
    "    x=\"avg_tgt_share\",\n",
    "    data=df_by_player_1999_2021,\n",
    "    kind=\"hist\",\n",
    "    bins = 15\n",
    ")"
   ]
  },
  {
   "cell_type": "code",
   "execution_count": 156,
   "metadata": {},
   "outputs": [
    {
     "data": {
      "text/plain": [
       "<seaborn.axisgrid.FacetGrid at 0x2831a91e0>"
      ]
     },
     "execution_count": 156,
     "metadata": {},
     "output_type": "execute_result"
    },
    {
     "data": {
      "image/png": "[encoded data removed]",
      "text/plain": [
       "<Figure size 500x500 with 1 Axes>"
      ]
     },
     "metadata": {},
     "output_type": "display_data"
    }
   ],
   "source": [
    "g = sns.relplot(\n",
    "    x=\"avg_tgt_share\",\n",
    "    y=\"avg_pts_ppr\",\n",
    "    data=df_by_player_1999_2021\n",
    ")\n",
    "\n",
    "g.set(\n",
    "    xlabel=\"Average Target Share\", \n",
    "    ylabel=\"Average Fantasy Points (PPR)\",\n",
    "    title=\"Avg Target Share vs. Avg Fantasy Points PPR (Reg Season) \\n All WRs, 1999-2021, by Player\"\n",
    ")"
   ]
  },
  {
   "cell_type": "code",
   "execution_count": 157,
   "metadata": {},
   "outputs": [
    {
     "name": "stdout",
     "output_type": "stream",
     "text": [
      "Correlation Coefficient: 0.9220525980482231\n"
     ]
    }
   ],
   "source": [
    "print(f\"Correlation Coefficient: {df_by_player_1999_2021['avg_tgt_share'].corr(df_by_player_1999_2021['avg_pts_ppr'])}\")"
   ]
  },
  {
   "cell_type": "markdown",
   "metadata": {},
   "source": [
    "### Run Regression"
   ]
  },
  {
   "cell_type": "code",
   "execution_count": 158,
   "metadata": {},
   "outputs": [],
   "source": [
    "# Fit a regression line\n",
    "fit = np.polyfit(\n",
    "    x=df_by_player_1999_2021['avg_tgt_share'], \n",
    "    y=df_by_player_1999_2021['avg_pts_ppr'], \n",
    "    deg=1)\n",
    "\n",
    "lin_func_fpts = np.poly1d(fit)"
   ]
  },
  {
   "cell_type": "code",
   "execution_count": 159,
   "metadata": {},
   "outputs": [
    {
     "name": "stdout",
     "output_type": "stream",
     "text": [
      "(196, 6)\n"
     ]
    },
    {
     "data": {
      "text/html": [
       "<div>\n",
       "<style scoped>\n",
       "    .dataframe tbody tr th:only-of-type {\n",
       "        vertical-align: middle;\n",
       "    }\n",
       "\n",
       "    .dataframe tbody tr th {\n",
       "        vertical-align: top;\n",
       "    }\n",
       "\n",
       "    .dataframe thead th {\n",
       "        text-align: right;\n",
       "    }\n",
       "</style>\n",
       "<table border=\"1\" class=\"dataframe\">\n",
       "  <thead>\n",
       "    <tr style=\"text-align: right;\">\n",
       "      <th></th>\n",
       "      <th>player_name</th>\n",
       "      <th>num_games</th>\n",
       "      <th>avg_tgt_share</th>\n",
       "      <th>avg_pts_ppr</th>\n",
       "      <th>avg_pts_expected</th>\n",
       "      <th>avg_pts_diff</th>\n",
       "    </tr>\n",
       "  </thead>\n",
       "  <tbody>\n",
       "    <tr>\n",
       "      <th>1</th>\n",
       "      <td>DeAndre Hopkins</td>\n",
       "      <td>2</td>\n",
       "      <td>0.393</td>\n",
       "      <td>27.100</td>\n",
       "      <td>22.290</td>\n",
       "      <td>4.810</td>\n",
       "    </tr>\n",
       "    <tr>\n",
       "      <th>20</th>\n",
       "      <td>CeeDee Lamb</td>\n",
       "      <td>8</td>\n",
       "      <td>0.328</td>\n",
       "      <td>14.600</td>\n",
       "      <td>18.472</td>\n",
       "      <td>-3.872</td>\n",
       "    </tr>\n",
       "    <tr>\n",
       "      <th>3</th>\n",
       "      <td>Cooper Kupp</td>\n",
       "      <td>7</td>\n",
       "      <td>0.325</td>\n",
       "      <td>24.529</td>\n",
       "      <td>18.290</td>\n",
       "      <td>6.238</td>\n",
       "    </tr>\n",
       "    <tr>\n",
       "      <th>4</th>\n",
       "      <td>Tyreek Hill</td>\n",
       "      <td>8</td>\n",
       "      <td>0.321</td>\n",
       "      <td>22.450</td>\n",
       "      <td>18.097</td>\n",
       "      <td>4.353</td>\n",
       "    </tr>\n",
       "    <tr>\n",
       "      <th>7</th>\n",
       "      <td>A.J. Brown</td>\n",
       "      <td>7</td>\n",
       "      <td>0.318</td>\n",
       "      <td>19.271</td>\n",
       "      <td>17.915</td>\n",
       "      <td>1.356</td>\n",
       "    </tr>\n",
       "    <tr>\n",
       "      <th>11</th>\n",
       "      <td>Davante Adams</td>\n",
       "      <td>7</td>\n",
       "      <td>0.297</td>\n",
       "      <td>17.014</td>\n",
       "      <td>16.633</td>\n",
       "      <td>0.381</td>\n",
       "    </tr>\n",
       "    <tr>\n",
       "      <th>34</th>\n",
       "      <td>D.J. Moore</td>\n",
       "      <td>8</td>\n",
       "      <td>0.290</td>\n",
       "      <td>12.175</td>\n",
       "      <td>16.272</td>\n",
       "      <td>-4.097</td>\n",
       "    </tr>\n",
       "    <tr>\n",
       "      <th>5</th>\n",
       "      <td>Justin Jefferson</td>\n",
       "      <td>7</td>\n",
       "      <td>0.290</td>\n",
       "      <td>21.203</td>\n",
       "      <td>16.264</td>\n",
       "      <td>4.939</td>\n",
       "    </tr>\n",
       "    <tr>\n",
       "      <th>2</th>\n",
       "      <td>Stefon Diggs</td>\n",
       "      <td>7</td>\n",
       "      <td>0.287</td>\n",
       "      <td>24.771</td>\n",
       "      <td>16.094</td>\n",
       "      <td>8.677</td>\n",
       "    </tr>\n",
       "    <tr>\n",
       "      <th>53</th>\n",
       "      <td>Drake London</td>\n",
       "      <td>8</td>\n",
       "      <td>0.280</td>\n",
       "      <td>9.825</td>\n",
       "      <td>15.676</td>\n",
       "      <td>-5.851</td>\n",
       "    </tr>\n",
       "  </tbody>\n",
       "</table>\n",
       "</div>"
      ],
      "text/plain": [
       "         player_name  num_games  avg_tgt_share  avg_pts_ppr  avg_pts_expected  \\\n",
       "1    DeAndre Hopkins          2          0.393       27.100            22.290   \n",
       "20       CeeDee Lamb          8          0.328       14.600            18.472   \n",
       "3        Cooper Kupp          7          0.325       24.529            18.290   \n",
       "4        Tyreek Hill          8          0.321       22.450            18.097   \n",
       "7         A.J. Brown          7          0.318       19.271            17.915   \n",
       "11     Davante Adams          7          0.297       17.014            16.633   \n",
       "34        D.J. Moore          8          0.290       12.175            16.272   \n",
       "5   Justin Jefferson          7          0.290       21.203            16.264   \n",
       "2       Stefon Diggs          7          0.287       24.771            16.094   \n",
       "53      Drake London          8          0.280        9.825            15.676   \n",
       "\n",
       "    avg_pts_diff  \n",
       "1          4.810  \n",
       "20        -3.872  \n",
       "3          6.238  \n",
       "4          4.353  \n",
       "7          1.356  \n",
       "11         0.381  \n",
       "34        -4.097  \n",
       "5          4.939  \n",
       "2          8.677  \n",
       "53        -5.851  "
      ]
     },
     "execution_count": 159,
     "metadata": {},
     "output_type": "execute_result"
    }
   ],
   "source": [
    "# Use regression equation to get expected fantasy points for the 2022 season\n",
    "\n",
    "# Get data\n",
    "query = \"\"\"\n",
    "WITH data AS (\n",
    "    SELECT\n",
    "        player_id,\n",
    "        player_display_name AS player_name,\n",
    "        target_share AS tgt_share,\n",
    "        fantasy_points_ppr AS pts_ppr\n",
    "    FROM weekly \n",
    "    WHERE position = 'WR'\n",
    "        AND season_type = 'REG'\n",
    "        AND target_share IS NOT NULL -- There are data errors where target share was recorded as NULL, these can be removed\n",
    "        AND season = 2022\n",
    "), aggregation AS (\n",
    "    SELECT\n",
    "        player_name,\n",
    "        COUNT(*) AS num_games,\n",
    "        AVG(tgt_share) AS avg_tgt_share,\n",
    "        AVG(pts_ppr) AS avg_pts_ppr\n",
    "    FROM data\n",
    "    GROUP BY player_id, player_name\n",
    ")\n",
    "SELECT *\n",
    "FROM aggregation\n",
    "\"\"\"\n",
    "\n",
    "df_by_player_2022 = pd.read_sql(query, conn)\n",
    "\n",
    "# Create summary table\n",
    "summary_2022 = df_by_player_2022.sort_values('avg_pts_ppr', ascending=False).reset_index(drop=True) # index = fantasy points ranking\n",
    "summary_2022.index = summary_2022.index + 1 # easier to read (1 is now top player by avg fantasy points)\n",
    "\n",
    "summary_2022 = summary_2022.sort_values('avg_tgt_share', ascending=False)\n",
    "\n",
    "summary_2022['avg_pts_expected'] = lin_func_fpts(summary_2022['avg_tgt_share'])\n",
    "summary_2022['avg_pts_diff'] = summary_2022['avg_pts_ppr'] - summary_2022['avg_pts_expected']\n",
    "\n",
    "print(summary_2022.shape)\n",
    "summary_2022.head(10).round(3)\n"
   ]
  },
  {
   "cell_type": "markdown",
   "metadata": {},
   "source": [
    "Based on the regression line fit on 1999-2021, CeeDee Lamb is scoring 3.9 PPR fantasy points less than he should be, per week – a good candidate for positive regression given his extremely high target share. Stefon Diggs is scoring 8.7 PPR fantasy points more than he should be, per week – a good candidate for negative regression. He is scoring much more than would be expected given his target share.\n",
    "\n",
    "To see how likely it is for a player to regress to the mean, I will look at the distribution of `avg_points_diff` and if normal, will use statistical methods to determine probability."
   ]
  },
  {
   "cell_type": "code",
   "execution_count": 161,
   "metadata": {},
   "outputs": [
    {
     "data": {
      "text/html": [
       "<div>\n",
       "<style scoped>\n",
       "    .dataframe tbody tr th:only-of-type {\n",
       "        vertical-align: middle;\n",
       "    }\n",
       "\n",
       "    .dataframe tbody tr th {\n",
       "        vertical-align: top;\n",
       "    }\n",
       "\n",
       "    .dataframe thead th {\n",
       "        text-align: right;\n",
       "    }\n",
       "</style>\n",
       "<table border=\"1\" class=\"dataframe\">\n",
       "  <thead>\n",
       "    <tr style=\"text-align: right;\">\n",
       "      <th></th>\n",
       "      <th>player_name</th>\n",
       "      <th>num_games</th>\n",
       "      <th>avg_tgt_share</th>\n",
       "      <th>avg_pts_ppr</th>\n",
       "      <th>avg_pts_expected</th>\n",
       "      <th>avg_pts_diff</th>\n",
       "    </tr>\n",
       "  </thead>\n",
       "  <tbody>\n",
       "    <tr>\n",
       "      <th>76</th>\n",
       "      <td>Darnell Mooney</td>\n",
       "      <td>8</td>\n",
       "      <td>0.273</td>\n",
       "      <td>7.675</td>\n",
       "      <td>15.258</td>\n",
       "      <td>-7.583</td>\n",
       "    </tr>\n",
       "    <tr>\n",
       "      <th>53</th>\n",
       "      <td>Drake London</td>\n",
       "      <td>8</td>\n",
       "      <td>0.280</td>\n",
       "      <td>9.825</td>\n",
       "      <td>15.676</td>\n",
       "      <td>-5.851</td>\n",
       "    </tr>\n",
       "    <tr>\n",
       "      <th>109</th>\n",
       "      <td>Equanimeous St. Brown</td>\n",
       "      <td>7</td>\n",
       "      <td>0.196</td>\n",
       "      <td>5.271</td>\n",
       "      <td>10.722</td>\n",
       "      <td>-5.451</td>\n",
       "    </tr>\n",
       "    <tr>\n",
       "      <th>77</th>\n",
       "      <td>Robert Woods</td>\n",
       "      <td>7</td>\n",
       "      <td>0.231</td>\n",
       "      <td>7.657</td>\n",
       "      <td>12.762</td>\n",
       "      <td>-5.105</td>\n",
       "    </tr>\n",
       "    <tr>\n",
       "      <th>143</th>\n",
       "      <td>Marcus Johnson</td>\n",
       "      <td>4</td>\n",
       "      <td>0.143</td>\n",
       "      <td>3.075</td>\n",
       "      <td>7.586</td>\n",
       "      <td>-4.511</td>\n",
       "    </tr>\n",
       "    <tr>\n",
       "      <th>45</th>\n",
       "      <td>Diontae Johnson</td>\n",
       "      <td>8</td>\n",
       "      <td>0.265</td>\n",
       "      <td>10.550</td>\n",
       "      <td>14.756</td>\n",
       "      <td>-4.206</td>\n",
       "    </tr>\n",
       "    <tr>\n",
       "      <th>34</th>\n",
       "      <td>D.J. Moore</td>\n",
       "      <td>8</td>\n",
       "      <td>0.290</td>\n",
       "      <td>12.175</td>\n",
       "      <td>16.272</td>\n",
       "      <td>-4.097</td>\n",
       "    </tr>\n",
       "    <tr>\n",
       "      <th>20</th>\n",
       "      <td>CeeDee Lamb</td>\n",
       "      <td>8</td>\n",
       "      <td>0.328</td>\n",
       "      <td>14.600</td>\n",
       "      <td>18.472</td>\n",
       "      <td>-3.872</td>\n",
       "    </tr>\n",
       "    <tr>\n",
       "      <th>94</th>\n",
       "      <td>Michael Gallup</td>\n",
       "      <td>5</td>\n",
       "      <td>0.186</td>\n",
       "      <td>6.300</td>\n",
       "      <td>10.089</td>\n",
       "      <td>-3.789</td>\n",
       "    </tr>\n",
       "    <tr>\n",
       "      <th>38</th>\n",
       "      <td>Sterling Shepard</td>\n",
       "      <td>3</td>\n",
       "      <td>0.272</td>\n",
       "      <td>11.467</td>\n",
       "      <td>15.174</td>\n",
       "      <td>-3.707</td>\n",
       "    </tr>\n",
       "  </tbody>\n",
       "</table>\n",
       "</div>"
      ],
      "text/plain": [
       "               player_name  num_games  avg_tgt_share  avg_pts_ppr  \\\n",
       "76          Darnell Mooney          8          0.273        7.675   \n",
       "53            Drake London          8          0.280        9.825   \n",
       "109  Equanimeous St. Brown          7          0.196        5.271   \n",
       "77            Robert Woods          7          0.231        7.657   \n",
       "143         Marcus Johnson          4          0.143        3.075   \n",
       "45         Diontae Johnson          8          0.265       10.550   \n",
       "34              D.J. Moore          8          0.290       12.175   \n",
       "20             CeeDee Lamb          8          0.328       14.600   \n",
       "94          Michael Gallup          5          0.186        6.300   \n",
       "38        Sterling Shepard          3          0.272       11.467   \n",
       "\n",
       "     avg_pts_expected  avg_pts_diff  \n",
       "76             15.258        -7.583  \n",
       "53             15.676        -5.851  \n",
       "109            10.722        -5.451  \n",
       "77             12.762        -5.105  \n",
       "143             7.586        -4.511  \n",
       "45             14.756        -4.206  \n",
       "34             16.272        -4.097  \n",
       "20             18.472        -3.872  \n",
       "94             10.089        -3.789  \n",
       "38             15.174        -3.707  "
      ]
     },
     "execution_count": 161,
     "metadata": {},
     "output_type": "execute_result"
    }
   ],
   "source": [
    "# Sort by the difference between actual points and expected points to get the true \"regression to the mean\" candidates\n",
    "# Remove players with only 1 game played as that can be considered noise\n",
    "summary_2022[summary_2022['num_games'] > 1] \\\n",
    "    .sort_values('avg_pts_diff') \\\n",
    "    .head(10) \\\n",
    "    .round(3)"
   ]
  },
  {
   "cell_type": "markdown",
   "metadata": {},
   "source": [
    "Darnell Mooney is the standout here. With almost 27% of his team's target share in 2022 he's scoring about 7.6 standard fantasy points less per game than he \"should be\" based on the observed relationship between target share and fantasy points. "
   ]
  },
  {
   "cell_type": "markdown",
   "metadata": {},
   "source": [
    "## Analyze Average Points Differential"
   ]
  },
  {
   "cell_type": "code",
   "execution_count": 162,
   "metadata": {},
   "outputs": [
    {
     "data": {
      "text/plain": [
       "<seaborn.axisgrid.FacetGrid at 0x1767f9d50>"
      ]
     },
     "execution_count": 162,
     "metadata": {},
     "output_type": "execute_result"
    },
    {
     "data": {
      "image/png": "[encoded data removed]",
      "text/plain": [
       "<Figure size 500x500 with 1 Axes>"
      ]
     },
     "metadata": {},
     "output_type": "display_data"
    }
   ],
   "source": [
    "sns.displot(\n",
    "    x='avg_pts_diff',\n",
    "    data=summary_2022,\n",
    "    kind=\"hist\",\n",
    "    bins=15\n",
    ")"
   ]
  },
  {
   "cell_type": "markdown",
   "metadata": {},
   "source": [
    "The distribution looks like a normal distribution with mean around 0. Next I'll get average points differential on the 1999-2021 population to confirm."
   ]
  },
  {
   "cell_type": "code",
   "execution_count": 163,
   "metadata": {},
   "outputs": [
    {
     "data": {
      "text/plain": [
       "<seaborn.axisgrid.FacetGrid at 0x2882a0790>"
      ]
     },
     "execution_count": 163,
     "metadata": {},
     "output_type": "execute_result"
    },
    {
     "data": {
      "image/png": "[encoded data removed]",
      "text/plain": [
       "<Figure size 500x500 with 1 Axes>"
      ]
     },
     "metadata": {},
     "output_type": "display_data"
    }
   ],
   "source": [
    "# Use regression line on original dataset with all values \n",
    "df_by_player_1999_2021['avg_pts_expected'] = lin_func_fpts(df_by_player_1999_2021['avg_tgt_share'])\n",
    "df_by_player_1999_2021['avg_pts_diff'] = df_by_player_1999_2021['avg_pts_ppr'] - df_by_player_1999_2021['avg_pts_expected']\n",
    "\n",
    "sns.displot(\n",
    "    x='avg_pts_diff',\n",
    "    data=df_by_player_1999_2021,\n",
    "    kind=\"hist\",\n",
    "    bins=25\n",
    ")"
   ]
  },
  {
   "cell_type": "markdown",
   "metadata": {},
   "source": [
    "The population distribution confirms that average points differential is normally distributed with a mean of approximately 0."
   ]
  },
  {
   "cell_type": "code",
   "execution_count": 164,
   "metadata": {},
   "outputs": [
    {
     "data": {
      "text/plain": [
       "count    196.000000\n",
       "mean       0.379490\n",
       "std        2.510342\n",
       "min       -7.583270\n",
       "25%       -0.926560\n",
       "50%        0.286769\n",
       "75%        1.725768\n",
       "max        8.677129\n",
       "Name: avg_pts_diff, dtype: float64"
      ]
     },
     "execution_count": 164,
     "metadata": {},
     "output_type": "execute_result"
    }
   ],
   "source": [
    "summary_2022['avg_pts_diff'].describe()"
   ]
  },
  {
   "cell_type": "code",
   "execution_count": 165,
   "metadata": {},
   "outputs": [
    {
     "data": {
      "text/plain": [
       "count    1057.000000\n",
       "mean       -0.000000\n",
       "std         1.455056\n",
       "min        -6.486032\n",
       "25%        -0.868807\n",
       "50%        -0.069934\n",
       "75%         0.813049\n",
       "max         5.734570\n",
       "Name: avg_pts_diff, dtype: object"
      ]
     },
     "execution_count": 165,
     "metadata": {},
     "output_type": "execute_result"
    }
   ],
   "source": [
    "df_by_player_1999_2021['avg_pts_diff'].describe().apply(lambda x: format(x, 'f'))"
   ]
  },
  {
   "cell_type": "markdown",
   "metadata": {},
   "source": [
    "The observed expected points differential from 1999-2021 is normally distributed with a mean of 0 and standard deviation of 1.455. Therefore we would expect the sample population of player averages for 2022 to be normally distributed as well and thus we should be able to compute the likelihood of a player finishing with that expected point differential (actual - expected) using statistical methods. "
   ]
  },
  {
   "cell_type": "code",
   "execution_count": 166,
   "metadata": {},
   "outputs": [],
   "source": [
    "def cdf_player_2022(df, player_name):\n",
    "    cdf = scipy.stats.norm(\n",
    "            df['avg_pts_diff'].mean(),\n",
    "            df['avg_pts_diff'].std()\n",
    "            ).cdf(df[df['player_name'] == player_name]['avg_pts_diff'])\n",
    "    return round((cdf[0] * 100),2)\n",
    "\n",
    "def pdf_player_2022(df, player_name):\n",
    "    pdf = scipy.stats.norm(\n",
    "            df['avg_pts_diff'].mean(),\n",
    "            df['avg_pts_diff'].std()\n",
    "            ).pdf(df[df['player_name'] == player_name]['avg_pts_diff'])\n",
    "    return round((pdf[0] * 100),2)"
   ]
  },
  {
   "cell_type": "markdown",
   "metadata": {},
   "source": [
    "The pdf function calculates the probability of X for a given value of X. In this case, we are looking at the probability of a player having an average points differential of X for a given value of X (target share)."
   ]
  },
  {
   "cell_type": "code",
   "execution_count": 167,
   "metadata": {},
   "outputs": [
    {
     "data": {
      "text/plain": [
       "3.79"
      ]
     },
     "execution_count": 167,
     "metadata": {},
     "output_type": "execute_result"
    }
   ],
   "source": [
    "pdf_player_2022(summary_2022, 'CeeDee Lamb')"
   ]
  },
  {
   "cell_type": "markdown",
   "metadata": {},
   "source": [
    "Going back to CeeDee lamb, using the normal distribution of average points differential, we are able to calculate that there is a 3.8% chance of scoring 3.9 points less than expected per week given his nearly 33% target share. If this is the case, CeeDee is a great \"buy low\", positive regression candidate and should be due for a more productive second half of the season."
   ]
  },
  {
   "cell_type": "code",
   "execution_count": 168,
   "metadata": {},
   "outputs": [
    {
     "data": {
      "text/plain": [
       "0.07"
      ]
     },
     "execution_count": 168,
     "metadata": {},
     "output_type": "execute_result"
    }
   ],
   "source": [
    "pdf_player_2022(summary_2022, 'Stefon Diggs')"
   ]
  },
  {
   "cell_type": "markdown",
   "metadata": {},
   "source": [
    "There is a .07% chance of Stefon Diggs scoring 8.7 PPR points more than expected per week. Wow! Let's explore that further and see if that probability makes sense. Looking first at player career stats."
   ]
  },
  {
   "cell_type": "code",
   "execution_count": 169,
   "metadata": {},
   "outputs": [
    {
     "name": "stdout",
     "output_type": "stream",
     "text": [
      "Historical Data 1999 - 2021: Career averages with more than 10 games played\n"
     ]
    },
    {
     "data": {
      "text/html": [
       "<div>\n",
       "<style scoped>\n",
       "    .dataframe tbody tr th:only-of-type {\n",
       "        vertical-align: middle;\n",
       "    }\n",
       "\n",
       "    .dataframe tbody tr th {\n",
       "        vertical-align: top;\n",
       "    }\n",
       "\n",
       "    .dataframe thead th {\n",
       "        text-align: right;\n",
       "    }\n",
       "</style>\n",
       "<table border=\"1\" class=\"dataframe\">\n",
       "  <thead>\n",
       "    <tr style=\"text-align: right;\">\n",
       "      <th></th>\n",
       "      <th>player_name</th>\n",
       "      <th>num_games</th>\n",
       "      <th>avg_tgt_share</th>\n",
       "      <th>avg_pts_ppr</th>\n",
       "      <th>avg_pts_expected</th>\n",
       "      <th>avg_pts_diff</th>\n",
       "    </tr>\n",
       "  </thead>\n",
       "  <tbody>\n",
       "    <tr>\n",
       "      <th>83</th>\n",
       "      <td>Tyreek Hill</td>\n",
       "      <td>91</td>\n",
       "      <td>0.219</td>\n",
       "      <td>17.713</td>\n",
       "      <td>12.043</td>\n",
       "      <td>5.671</td>\n",
       "    </tr>\n",
       "    <tr>\n",
       "      <th>56</th>\n",
       "      <td>Ja'Marr Chase</td>\n",
       "      <td>17</td>\n",
       "      <td>0.232</td>\n",
       "      <td>17.918</td>\n",
       "      <td>12.846</td>\n",
       "      <td>5.072</td>\n",
       "    </tr>\n",
       "    <tr>\n",
       "      <th>148</th>\n",
       "      <td>Marques Colston</td>\n",
       "      <td>142</td>\n",
       "      <td>0.191</td>\n",
       "      <td>14.828</td>\n",
       "      <td>10.394</td>\n",
       "      <td>4.434</td>\n",
       "    </tr>\n",
       "    <tr>\n",
       "      <th>116</th>\n",
       "      <td>Calvin Ridley</td>\n",
       "      <td>49</td>\n",
       "      <td>0.201</td>\n",
       "      <td>15.437</td>\n",
       "      <td>11.024</td>\n",
       "      <td>4.413</td>\n",
       "    </tr>\n",
       "    <tr>\n",
       "      <th>193</th>\n",
       "      <td>Chris Godwin</td>\n",
       "      <td>71</td>\n",
       "      <td>0.176</td>\n",
       "      <td>13.904</td>\n",
       "      <td>9.503</td>\n",
       "      <td>4.402</td>\n",
       "    </tr>\n",
       "    <tr>\n",
       "      <th>77</th>\n",
       "      <td>Deebo Samuel</td>\n",
       "      <td>37</td>\n",
       "      <td>0.220</td>\n",
       "      <td>16.429</td>\n",
       "      <td>12.120</td>\n",
       "      <td>4.309</td>\n",
       "    </tr>\n",
       "    <tr>\n",
       "      <th>45</th>\n",
       "      <td>Cooper Kupp</td>\n",
       "      <td>71</td>\n",
       "      <td>0.240</td>\n",
       "      <td>17.362</td>\n",
       "      <td>13.310</td>\n",
       "      <td>4.052</td>\n",
       "    </tr>\n",
       "    <tr>\n",
       "      <th>12</th>\n",
       "      <td>Antonio Brown</td>\n",
       "      <td>144</td>\n",
       "      <td>0.265</td>\n",
       "      <td>18.731</td>\n",
       "      <td>14.797</td>\n",
       "      <td>3.935</td>\n",
       "    </tr>\n",
       "    <tr>\n",
       "      <th>29</th>\n",
       "      <td>Calvin Johnson</td>\n",
       "      <td>135</td>\n",
       "      <td>0.249</td>\n",
       "      <td>17.760</td>\n",
       "      <td>13.846</td>\n",
       "      <td>3.914</td>\n",
       "    </tr>\n",
       "    <tr>\n",
       "      <th>973</th>\n",
       "      <td>Joseph Morgan</td>\n",
       "      <td>15</td>\n",
       "      <td>0.047</td>\n",
       "      <td>5.727</td>\n",
       "      <td>1.921</td>\n",
       "      <td>3.806</td>\n",
       "    </tr>\n",
       "  </tbody>\n",
       "</table>\n",
       "</div>"
      ],
      "text/plain": [
       "         player_name  num_games  avg_tgt_share  avg_pts_ppr  avg_pts_expected  \\\n",
       "83       Tyreek Hill         91          0.219       17.713            12.043   \n",
       "56     Ja'Marr Chase         17          0.232       17.918            12.846   \n",
       "148  Marques Colston        142          0.191       14.828            10.394   \n",
       "116    Calvin Ridley         49          0.201       15.437            11.024   \n",
       "193     Chris Godwin         71          0.176       13.904             9.503   \n",
       "77      Deebo Samuel         37          0.220       16.429            12.120   \n",
       "45       Cooper Kupp         71          0.240       17.362            13.310   \n",
       "12     Antonio Brown        144          0.265       18.731            14.797   \n",
       "29    Calvin Johnson        135          0.249       17.760            13.846   \n",
       "973    Joseph Morgan         15          0.047        5.727             1.921   \n",
       "\n",
       "     avg_pts_diff  \n",
       "83          5.671  \n",
       "56          5.072  \n",
       "148         4.434  \n",
       "116         4.413  \n",
       "193         4.402  \n",
       "77          4.309  \n",
       "45          4.052  \n",
       "12          3.935  \n",
       "29          3.914  \n",
       "973         3.806  "
      ]
     },
     "execution_count": 169,
     "metadata": {},
     "output_type": "execute_result"
    }
   ],
   "source": [
    "# Show the average PPR points outperformers \n",
    "top_tgt_share_1999_2021 = df_by_player_1999_2021.sort_values('avg_tgt_share', ascending=False).reset_index(drop=True)\n",
    "top_tgt_share_1999_2021.index = top_tgt_share_1999_2021.index + 1\n",
    "\n",
    "print(\"Historical Data 1999 - 2021: Career averages with more than 10 games played\")\n",
    "top_tgt_share_1999_2021[top_tgt_share_1999_2021['num_games'] >= 10] \\\n",
    "    .sort_values('avg_pts_diff', ascending=False) \\\n",
    "    .round(3) \\\n",
    "    .head(10)"
   ]
  },
  {
   "cell_type": "code",
   "execution_count": 170,
   "metadata": {},
   "outputs": [
    {
     "name": "stdout",
     "output_type": "stream",
     "text": [
      "Seasons 1999 - 2021: Stefon Diggs\n"
     ]
    },
    {
     "data": {
      "text/html": [
       "<div>\n",
       "<style scoped>\n",
       "    .dataframe tbody tr th:only-of-type {\n",
       "        vertical-align: middle;\n",
       "    }\n",
       "\n",
       "    .dataframe tbody tr th {\n",
       "        vertical-align: top;\n",
       "    }\n",
       "\n",
       "    .dataframe thead th {\n",
       "        text-align: right;\n",
       "    }\n",
       "</style>\n",
       "<table border=\"1\" class=\"dataframe\">\n",
       "  <thead>\n",
       "    <tr style=\"text-align: right;\">\n",
       "      <th></th>\n",
       "      <th>player_name</th>\n",
       "      <th>num_games</th>\n",
       "      <th>avg_tgt_share</th>\n",
       "      <th>avg_pts_ppr</th>\n",
       "      <th>avg_pts_expected</th>\n",
       "      <th>avg_pts_diff</th>\n",
       "    </tr>\n",
       "  </thead>\n",
       "  <tbody>\n",
       "    <tr>\n",
       "      <th>32</th>\n",
       "      <td>Stefon Diggs</td>\n",
       "      <td>103</td>\n",
       "      <td>0.248</td>\n",
       "      <td>15.857</td>\n",
       "      <td>13.795</td>\n",
       "      <td>2.062</td>\n",
       "    </tr>\n",
       "  </tbody>\n",
       "</table>\n",
       "</div>"
      ],
      "text/plain": [
       "     player_name  num_games  avg_tgt_share  avg_pts_ppr  avg_pts_expected  \\\n",
       "32  Stefon Diggs        103          0.248       15.857            13.795   \n",
       "\n",
       "    avg_pts_diff  \n",
       "32         2.062  "
      ]
     },
     "execution_count": 170,
     "metadata": {},
     "output_type": "execute_result"
    }
   ],
   "source": [
    "print(\"Seasons 1999 - 2021: Stefon Diggs\")\n",
    "top_tgt_share_1999_2021[top_tgt_share_1999_2021['player_name'] == 'Stefon Diggs'] \\\n",
    "    .round(3) \\\n",
    "    .head(10)"
   ]
  },
  {
   "cell_type": "code",
   "execution_count": 171,
   "metadata": {},
   "outputs": [
    {
     "name": "stdout",
     "output_type": "stream",
     "text": [
      "Current 2022 Season: Stefon Diggs\n"
     ]
    },
    {
     "data": {
      "text/html": [
       "<div>\n",
       "<style scoped>\n",
       "    .dataframe tbody tr th:only-of-type {\n",
       "        vertical-align: middle;\n",
       "    }\n",
       "\n",
       "    .dataframe tbody tr th {\n",
       "        vertical-align: top;\n",
       "    }\n",
       "\n",
       "    .dataframe thead th {\n",
       "        text-align: right;\n",
       "    }\n",
       "</style>\n",
       "<table border=\"1\" class=\"dataframe\">\n",
       "  <thead>\n",
       "    <tr style=\"text-align: right;\">\n",
       "      <th></th>\n",
       "      <th>player_name</th>\n",
       "      <th>num_games</th>\n",
       "      <th>avg_tgt_share</th>\n",
       "      <th>avg_pts_ppr</th>\n",
       "      <th>avg_pts_expected</th>\n",
       "      <th>avg_pts_diff</th>\n",
       "    </tr>\n",
       "  </thead>\n",
       "  <tbody>\n",
       "    <tr>\n",
       "      <th>2</th>\n",
       "      <td>Stefon Diggs</td>\n",
       "      <td>7</td>\n",
       "      <td>0.287</td>\n",
       "      <td>24.771</td>\n",
       "      <td>16.094</td>\n",
       "      <td>8.677</td>\n",
       "    </tr>\n",
       "  </tbody>\n",
       "</table>\n",
       "</div>"
      ],
      "text/plain": [
       "    player_name  num_games  avg_tgt_share  avg_pts_ppr  avg_pts_expected  \\\n",
       "2  Stefon Diggs          7          0.287       24.771            16.094   \n",
       "\n",
       "   avg_pts_diff  \n",
       "2         8.677  "
      ]
     },
     "execution_count": 171,
     "metadata": {},
     "output_type": "execute_result"
    }
   ],
   "source": [
    "print(\"Current 2022 Season: Stefon Diggs\")\n",
    "summary_2022[summary_2022['player_name'] == 'Stefon Diggs'] \\\n",
    "    .head(10) \\\n",
    "    .round(3)"
   ]
  },
  {
   "cell_type": "markdown",
   "metadata": {},
   "source": [
    "Before the 2022 season, for his career, Stefon Diggs has an average target share of 25% and scores about 2 more PPR points per week than expected. Through the first 8 weeks of the 2022 season, Diggs has an average target share of 29% and scores about 8.7 more PPR points per week than expected. That's a 4.5x increase! Given a pretty large sample size of 103 games, I would expect this number to drop as the season goes on.\n",
    "\n",
    "For tomorrow's analysis, I want to look at average point differential for player-season records. Yes, Diggs is performing much higher than expected over his career but perhaps other players have had these kinds of seasons before. Is it really that unlikely for Diggs to be performing this well?"
   ]
  }
 ],
 "metadata": {
  "kernelspec": {
   "display_name": "Python 3.10.6 ('env': venv)",
   "language": "python",
   "name": "python3"
  },
  "language_info": {
   "codemirror_mode": {
    "name": "ipython",
    "version": 3
   },
   "file_extension": ".py",
   "mimetype": "text/x-python",
   "name": "python",
   "nbconvert_exporter": "python",
   "pygments_lexer": "ipython3",
   "version": "3.10.6"
  },
  "orig_nbformat": 4,
  "vscode": {
   "interpreter": {
    "hash": "4c11be34945b9e5d06588e60c5142a317bb34337c82f00f4b31063bbdfdda38b"
   }
  }
 },
 "nbformat": 4,
 "nbformat_minor": 2
}
