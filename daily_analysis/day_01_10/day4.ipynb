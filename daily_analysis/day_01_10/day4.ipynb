{
 "cells": [
  {
   "cell_type": "markdown",
   "metadata": {},
   "source": [
    "# Day 4 Analysis"
   ]
  },
  {
   "cell_type": "markdown",
   "metadata": {},
   "source": [
    "For seasons 1999-2021, get a distribution of points scored and check for:\n",
    "- Outliers\n",
    "- Is there a relatonship between game type and points scored?\n",
    "\n",
    "game_type values:\n",
    "- CON = conference  \n",
    "- DIV = divisional round  \n",
    "- REG = regular season  \n",
    "- SB = superbowl  \n",
    "- WC = wildcard"
   ]
  },
  {
   "cell_type": "markdown",
   "metadata": {},
   "source": [
    "## Set Up"
   ]
  },
  {
   "cell_type": "code",
   "execution_count": 2,
   "metadata": {},
   "outputs": [],
   "source": [
    "import pandas as pd\n",
    "from os import path\n",
    "import sqlite3\n",
    "import nfl_data_py as nfl\n",
    "import matplotlib.pyplot as plt\n",
    "import seaborn as sns\n",
    "\n",
    "# Create database connection\n",
    "conn = sqlite3.connect('../data/db/database.db')"
   ]
  },
  {
   "cell_type": "markdown",
   "metadata": {},
   "source": [
    "## Wrangle the data"
   ]
  },
  {
   "cell_type": "markdown",
   "metadata": {},
   "source": [
    "Query the schedule table to get info for each game from 1999-2021. Will need to go from wide to tall in order to get the data by team instead of by game."
   ]
  },
  {
   "cell_type": "code",
   "execution_count": 38,
   "metadata": {},
   "outputs": [],
   "source": [
    "query = \"\"\"\n",
    "WITH data AS (\n",
    "    SELECT\n",
    "        game_id,\n",
    "        season,\n",
    "        game_type,\n",
    "        week,\n",
    "        away_team,\n",
    "        away_score,\n",
    "        -- Need to update data to account for 3 teams that switched cities between 1999-2020\n",
    "        CASE\n",
    "            WHEN home_team = 'STL' THEN 'LAR'\n",
    "            WHEN home_team = 'SD' THEN 'LAC'\n",
    "            WHEN home_team = 'OAK' THEN 'LV'\n",
    "            ELSE home_team\n",
    "        END AS home_team,\n",
    "        home_score,\n",
    "        roof,\n",
    "        surface,\n",
    "        temp,\n",
    "        wind,\n",
    "        away_rest,\n",
    "        home_rest,\n",
    "        weekday \n",
    "    FROM schedules\n",
    "),\n",
    "home_games AS (\n",
    "    SELECT \n",
    "        season,\n",
    "        week, \n",
    "        game_type, \n",
    "        home_team AS team,\n",
    "        home_score AS score,\n",
    "        roof\n",
    "    FROM data\n",
    "),\n",
    "away_games AS (\n",
    "    SELECT \n",
    "        season,\n",
    "        week, \n",
    "        game_type, \n",
    "        away_team AS team,\n",
    "        away_score AS score,\n",
    "        roof\n",
    "    FROM data\n",
    "),\n",
    "stacked AS (\n",
    "    SELECT *\n",
    "    FROM home_games\n",
    "    UNION\n",
    "    SELECT *\n",
    "    FROM away_games\n",
    ")\n",
    "SELECT *\n",
    "FROM stacked\n",
    "\"\"\"\n",
    "\n",
    "df = pd.read_sql(query, conn)"
   ]
  },
  {
   "cell_type": "markdown",
   "metadata": {},
   "source": [
    "## Plot"
   ]
  },
  {
   "cell_type": "code",
   "execution_count": 42,
   "metadata": {},
   "outputs": [
    {
     "data": {
      "image/png": "[encoded data removed]",
      "text/plain": [
       "<Figure size 588.736x500 with 1 Axes>"
      ]
     },
     "metadata": {},
     "output_type": "display_data"
    }
   ],
   "source": [
    "sns.catplot(\n",
    "    x=\"score\",\n",
    "    y=\"game_type\",\n",
    "    data=df,\n",
    "    kind=\"box\",\n",
    "    hue=\"game_type\"\n",
    ")\n",
    "plt.show()"
   ]
  },
  {
   "cell_type": "markdown",
   "metadata": {},
   "source": [
    "## Finding Outliers\n",
    "The outlier that stood out the most was the single divisional game"
   ]
  },
  {
   "cell_type": "code",
   "execution_count": 61,
   "metadata": {},
   "outputs": [
    {
     "data": {
      "text/html": [
       "<div>\n",
       "<style scoped>\n",
       "    .dataframe tbody tr th:only-of-type {\n",
       "        vertical-align: middle;\n",
       "    }\n",
       "\n",
       "    .dataframe tbody tr th {\n",
       "        vertical-align: top;\n",
       "    }\n",
       "\n",
       "    .dataframe thead th {\n",
       "        text-align: right;\n",
       "    }\n",
       "</style>\n",
       "<table border=\"1\" class=\"dataframe\">\n",
       "  <thead>\n",
       "    <tr style=\"text-align: right;\">\n",
       "      <th></th>\n",
       "      <th>season</th>\n",
       "      <th>week</th>\n",
       "      <th>game_type</th>\n",
       "      <th>team</th>\n",
       "      <th>score</th>\n",
       "      <th>roof</th>\n",
       "    </tr>\n",
       "  </thead>\n",
       "  <tbody>\n",
       "    <tr>\n",
       "      <th>505</th>\n",
       "      <td>1999</td>\n",
       "      <td>19</td>\n",
       "      <td>DIV</td>\n",
       "      <td>JAX</td>\n",
       "      <td>62.0</td>\n",
       "      <td>outdoors</td>\n",
       "    </tr>\n",
       "  </tbody>\n",
       "</table>\n",
       "</div>"
      ],
      "text/plain": [
       "     season  week game_type team  score      roof\n",
       "505    1999    19       DIV  JAX   62.0  outdoors"
      ]
     },
     "execution_count": 61,
     "metadata": {},
     "output_type": "execute_result"
    }
   ],
   "source": [
    "# Determine IQR to filter the dataset to find the outlier\n",
    "\n",
    "q1 = df[df['game_type'] == 'DIV']['score'].quantile(0.25)\n",
    "q3 = df[df['game_type'] == 'DIV']['score'].quantile(0.75)\n",
    "\n",
    "iqr = 1.5 * (q3 - q1)\n",
    "\n",
    "df[(df['game_type'] == 'DIV') & ((df['score']) > (q3 + iqr))]"
   ]
  },
  {
   "cell_type": "code",
   "execution_count": 62,
   "metadata": {},
   "outputs": [
    {
     "data": {
      "text/html": [
       "<div>\n",
       "<style scoped>\n",
       "    .dataframe tbody tr th:only-of-type {\n",
       "        vertical-align: middle;\n",
       "    }\n",
       "\n",
       "    .dataframe tbody tr th {\n",
       "        vertical-align: top;\n",
       "    }\n",
       "\n",
       "    .dataframe thead th {\n",
       "        text-align: right;\n",
       "    }\n",
       "</style>\n",
       "<table border=\"1\" class=\"dataframe\">\n",
       "  <thead>\n",
       "    <tr style=\"text-align: right;\">\n",
       "      <th></th>\n",
       "      <th>game_id</th>\n",
       "      <th>season</th>\n",
       "      <th>game_type</th>\n",
       "      <th>week</th>\n",
       "      <th>away_team</th>\n",
       "      <th>away_score</th>\n",
       "      <th>home_team</th>\n",
       "      <th>home_score</th>\n",
       "      <th>roof</th>\n",
       "      <th>surface</th>\n",
       "      <th>temp</th>\n",
       "      <th>wind</th>\n",
       "      <th>away_rest</th>\n",
       "      <th>home_rest</th>\n",
       "      <th>weekday</th>\n",
       "    </tr>\n",
       "  </thead>\n",
       "  <tbody>\n",
       "    <tr>\n",
       "      <th>0</th>\n",
       "      <td>1999_19_MIA_JAX</td>\n",
       "      <td>1999</td>\n",
       "      <td>DIV</td>\n",
       "      <td>19</td>\n",
       "      <td>MIA</td>\n",
       "      <td>7.0</td>\n",
       "      <td>JAX</td>\n",
       "      <td>62.0</td>\n",
       "      <td>outdoors</td>\n",
       "      <td>grass</td>\n",
       "      <td>57.0</td>\n",
       "      <td>14.0</td>\n",
       "      <td>6</td>\n",
       "      <td>13</td>\n",
       "      <td>Saturday</td>\n",
       "    </tr>\n",
       "  </tbody>\n",
       "</table>\n",
       "</div>"
      ],
      "text/plain": [
       "           game_id  season game_type  week away_team  away_score home_team  \\\n",
       "0  1999_19_MIA_JAX    1999       DIV    19       MIA         7.0       JAX   \n",
       "\n",
       "   home_score      roof surface  temp  wind  away_rest  home_rest   weekday  \n",
       "0        62.0  outdoors   grass  57.0  14.0          6         13  Saturday  "
      ]
     },
     "execution_count": 62,
     "metadata": {},
     "output_type": "execute_result"
    }
   ],
   "source": [
    "# Query the schedules table to get more information about the game\n",
    "\n",
    "pd.read_sql(\"\"\"\n",
    "    WITH data AS (\n",
    "    SELECT\n",
    "        game_id,\n",
    "        season,\n",
    "        game_type,\n",
    "        week,\n",
    "        away_team,\n",
    "        away_score,\n",
    "        -- Need to update data to account for 3 teams that switched cities between 1999-2020\n",
    "        CASE\n",
    "            WHEN home_team = 'STL' THEN 'LAR'\n",
    "            WHEN home_team = 'SD' THEN 'LAC'\n",
    "            WHEN home_team = 'OAK' THEN 'LV'\n",
    "            ELSE home_team\n",
    "        END AS home_team,\n",
    "        home_score,\n",
    "        roof,\n",
    "        surface,\n",
    "        temp,\n",
    "        wind,\n",
    "        away_rest,\n",
    "        home_rest,\n",
    "        weekday \n",
    "    FROM schedules\n",
    "    )\n",
    "    SELECT *\n",
    "    FROM data\n",
    "    WHERE season = 1999 AND game_type = 'DIV' AND (home_team = 'JAX' OR away_team = 'JAX')\n",
    "\"\"\", conn)"
   ]
  },
  {
   "cell_type": "markdown",
   "metadata": {},
   "source": [
    "Is this score really that rare?"
   ]
  },
  {
   "cell_type": "code",
   "execution_count": 60,
   "metadata": {},
   "outputs": [
    {
     "data": {
      "text/html": [
       "<div>\n",
       "<style scoped>\n",
       "    .dataframe tbody tr th:only-of-type {\n",
       "        vertical-align: middle;\n",
       "    }\n",
       "\n",
       "    .dataframe tbody tr th {\n",
       "        vertical-align: top;\n",
       "    }\n",
       "\n",
       "    .dataframe thead th {\n",
       "        text-align: right;\n",
       "    }\n",
       "</style>\n",
       "<table border=\"1\" class=\"dataframe\">\n",
       "  <thead>\n",
       "    <tr style=\"text-align: right;\">\n",
       "      <th></th>\n",
       "      <th>pct_of_gte50</th>\n",
       "    </tr>\n",
       "  </thead>\n",
       "  <tbody>\n",
       "    <tr>\n",
       "      <th>0</th>\n",
       "      <td>0.41</td>\n",
       "    </tr>\n",
       "  </tbody>\n",
       "</table>\n",
       "</div>"
      ],
      "text/plain": [
       "   pct_of_gte50\n",
       "0          0.41"
      ]
     },
     "execution_count": 60,
     "metadata": {},
     "output_type": "execute_result"
    }
   ],
   "source": [
    "pd.read_sql(\"\"\"\n",
    "    WITH data AS (\n",
    "    SELECT\n",
    "        game_id,\n",
    "        season,\n",
    "        game_type,\n",
    "        week,\n",
    "        away_team,\n",
    "        away_score,\n",
    "        -- Need to update data to account for 3 teams that switched cities between 1999-2020\n",
    "        CASE\n",
    "            WHEN home_team = 'STL' THEN 'LAR'\n",
    "            WHEN home_team = 'SD' THEN 'LAC'\n",
    "            WHEN home_team = 'OAK' THEN 'LV'\n",
    "            ELSE home_team\n",
    "        END AS home_team,\n",
    "        home_score,\n",
    "        roof,\n",
    "        surface,\n",
    "        temp,\n",
    "        wind,\n",
    "        away_rest,\n",
    "        home_rest,\n",
    "        weekday \n",
    "    FROM schedules\n",
    "    )\n",
    "    SELECT \n",
    "    round(((SELECT COUNT(*) FROM data WHERE home_score >= 55 OR away_score >= 55) * 1.0) / COUNT(*) * 100,2) AS pct_of_gte50\n",
    "    FROM data\n",
    "    \n",
    "\"\"\", conn)"
   ]
  }
 ],
 "metadata": {
  "kernelspec": {
   "display_name": "Python 3.10.6 ('env': venv)",
   "language": "python",
   "name": "python3"
  },
  "language_info": {
   "codemirror_mode": {
    "name": "ipython",
    "version": 3
   },
   "file_extension": ".py",
   "mimetype": "text/x-python",
   "name": "python",
   "nbconvert_exporter": "python",
   "pygments_lexer": "ipython3",
   "version": "3.10.6"
  },
  "orig_nbformat": 4,
  "vscode": {
   "interpreter": {
    "hash": "4c11be34945b9e5d06588e60c5142a317bb34337c82f00f4b31063bbdfdda38b"
   }
  }
 },
 "nbformat": 4,
 "nbformat_minor": 2
}
