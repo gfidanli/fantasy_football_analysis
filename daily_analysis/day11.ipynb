{
 "cells": [
  {
   "cell_type": "markdown",
   "metadata": {},
   "source": [
    "# Day 11 Analysis"
   ]
  },
  {
   "cell_type": "markdown",
   "metadata": {},
   "source": [
    "Day 11 is a continuation of the analysis done on Day 10. Yesterday I found WRs under and overperforming expectation in terms of average PPR pts per week through Week 8 of the 2022 season.  \n",
    "\n",
    "I also want to change the historical dataset slightly to be at the player-season level, specially averaging a player's first 8 weeks of each season they played in the NFL. This should give a more apples-to-apples comparison and a more accurate prediction of expected fantasy points."
   ]
  },
  {
   "cell_type": "markdown",
   "metadata": {},
   "source": [
    "## Set Up"
   ]
  },
  {
   "cell_type": "code",
   "execution_count": 66,
   "metadata": {},
   "outputs": [],
   "source": [
    "import warnings\n",
    "warnings.simplefilter(action='ignore', category=FutureWarning)\n",
    "\n",
    "import pandas as pd\n",
    "import sqlite3\n",
    "import matplotlib.pyplot as plt\n",
    "import seaborn as sns\n",
    "import numpy as np\n",
    "import scipy.stats\n",
    "\n",
    "# Create database connection\n",
    "conn = sqlite3.connect('../data/db/database.db')"
   ]
  },
  {
   "cell_type": "markdown",
   "metadata": {},
   "source": [
    "## Target Share vs. PPR Fantasy Points: 1999-2011\n",
    "First I'll get the average target share and PPR fantasy points scored by WR for seasons 1999-2021. Then I'll fit a regression line to the data which will be used to generate expected PR fantasy points for the 2022 season."
   ]
  },
  {
   "cell_type": "markdown",
   "metadata": {},
   "source": [
    "### Get Data"
   ]
  },
  {
   "cell_type": "code",
   "execution_count": 67,
   "metadata": {},
   "outputs": [
    {
     "name": "stdout",
     "output_type": "stream",
     "text": [
      "(3829, 5)\n"
     ]
    },
    {
     "data": {
      "text/html": [
       "<div>\n",
       "<style scoped>\n",
       "    .dataframe tbody tr th:only-of-type {\n",
       "        vertical-align: middle;\n",
       "    }\n",
       "\n",
       "    .dataframe tbody tr th {\n",
       "        vertical-align: top;\n",
       "    }\n",
       "\n",
       "    .dataframe thead th {\n",
       "        text-align: right;\n",
       "    }\n",
       "</style>\n",
       "<table border=\"1\" class=\"dataframe\">\n",
       "  <thead>\n",
       "    <tr style=\"text-align: right;\">\n",
       "      <th></th>\n",
       "      <th>player_name</th>\n",
       "      <th>season</th>\n",
       "      <th>num_games</th>\n",
       "      <th>avg_tgt_share</th>\n",
       "      <th>avg_pts_ppr</th>\n",
       "    </tr>\n",
       "  </thead>\n",
       "  <tbody>\n",
       "    <tr>\n",
       "      <th>0</th>\n",
       "      <td>Derrick Alexander</td>\n",
       "      <td>1999</td>\n",
       "      <td>7</td>\n",
       "      <td>0.225406</td>\n",
       "      <td>11.600000</td>\n",
       "    </tr>\n",
       "    <tr>\n",
       "      <th>1</th>\n",
       "      <td>Derrick Alexander</td>\n",
       "      <td>2000</td>\n",
       "      <td>6</td>\n",
       "      <td>0.273746</td>\n",
       "      <td>17.783333</td>\n",
       "    </tr>\n",
       "    <tr>\n",
       "      <th>2</th>\n",
       "      <td>Derrick Alexander</td>\n",
       "      <td>2001</td>\n",
       "      <td>5</td>\n",
       "      <td>0.201595</td>\n",
       "      <td>7.700000</td>\n",
       "    </tr>\n",
       "    <tr>\n",
       "      <th>3</th>\n",
       "      <td>Derrick Alexander</td>\n",
       "      <td>2002</td>\n",
       "      <td>7</td>\n",
       "      <td>0.130659</td>\n",
       "      <td>4.771429</td>\n",
       "    </tr>\n",
       "    <tr>\n",
       "      <th>4</th>\n",
       "      <td>Reidel Anthony</td>\n",
       "      <td>1999</td>\n",
       "      <td>6</td>\n",
       "      <td>0.187041</td>\n",
       "      <td>7.966667</td>\n",
       "    </tr>\n",
       "  </tbody>\n",
       "</table>\n",
       "</div>"
      ],
      "text/plain": [
       "         player_name  season  num_games  avg_tgt_share  avg_pts_ppr\n",
       "0  Derrick Alexander    1999          7       0.225406    11.600000\n",
       "1  Derrick Alexander    2000          6       0.273746    17.783333\n",
       "2  Derrick Alexander    2001          5       0.201595     7.700000\n",
       "3  Derrick Alexander    2002          7       0.130659     4.771429\n",
       "4     Reidel Anthony    1999          6       0.187041     7.966667"
      ]
     },
     "execution_count": 67,
     "metadata": {},
     "output_type": "execute_result"
    }
   ],
   "source": [
    "query = \"\"\"\n",
    "WITH data AS (\n",
    "    SELECT\n",
    "        player_id,\n",
    "        season,\n",
    "        player_display_name AS player_name,\n",
    "        target_share AS tgt_share,\n",
    "        fantasy_points_ppr AS pts_ppr\n",
    "    FROM weekly \n",
    "    WHERE position = 'WR'\n",
    "        AND season_type = 'REG'\n",
    "        AND target_share IS NOT NULL -- There are data errors where target share was recorded as NULL, these can be removed\n",
    "        AND season <> 2022\n",
    "        AND week <= 8\n",
    "), aggregation AS (\n",
    "    SELECT\n",
    "        player_name,\n",
    "        season,\n",
    "        COUNT(*) AS num_games,\n",
    "        AVG(tgt_share) AS avg_tgt_share,\n",
    "        AVG(pts_ppr) AS avg_pts_ppr\n",
    "    FROM data\n",
    "    GROUP BY player_id, player_name, season\n",
    ")\n",
    "SELECT *\n",
    "FROM aggregation\n",
    "\"\"\"\n",
    "\n",
    "df_by_player_season_1999_2021 = pd.read_sql(query, conn)\n",
    "print(df_by_player_season_1999_2021.shape)\n",
    "df_by_player_season_1999_2021.head()\n"
   ]
  },
  {
   "cell_type": "markdown",
   "metadata": {},
   "source": [
    "### Clean Data"
   ]
  },
  {
   "cell_type": "code",
   "execution_count": 68,
   "metadata": {},
   "outputs": [
    {
     "name": "stdout",
     "output_type": "stream",
     "text": [
      "1    0.111517\n",
      "2    0.097676\n",
      "3    0.085140\n",
      "4    0.077305\n",
      "5    0.098459\n",
      "6    0.129538\n",
      "7    0.269522\n",
      "8    0.130844\n",
      "Name: num_games, dtype: float64\n",
      "(3402, 5)\n"
     ]
    }
   ],
   "source": [
    "# Check for number of games played\n",
    "# If number of game played = 1, can create noise. Will want to remove\n",
    "print(df_by_player_season_1999_2021['num_games'].value_counts(normalize=True).sort_index())\n",
    "\n",
    "df_by_player_season_1999_2021 = df_by_player_season_1999_2021[df_by_player_season_1999_2021['num_games'] > 1]\n",
    "print(df_by_player_season_1999_2021.shape)"
   ]
  },
  {
   "cell_type": "markdown",
   "metadata": {},
   "source": [
    "### Exploratory Analysis"
   ]
  },
  {
   "cell_type": "code",
   "execution_count": 69,
   "metadata": {},
   "outputs": [
    {
     "data": {
      "text/plain": [
       "<seaborn.axisgrid.FacetGrid at 0x17ddcceb0>"
      ]
     },
     "execution_count": 69,
     "metadata": {},
     "output_type": "execute_result"
    },
    {
     "data": {
      "image/png": "[encoded data removed]",
      "text/plain": [
       "<Figure size 500x500 with 1 Axes>"
      ]
     },
     "metadata": {},
     "output_type": "display_data"
    }
   ],
   "source": [
    "# Check distribution\n",
    "g = sns.displot(\n",
    "    x=\"avg_tgt_share\",\n",
    "    data=df_by_player_season_1999_2021,\n",
    "    kind=\"hist\",\n",
    "    bins = 20\n",
    ")\n",
    "\n",
    "g.set(\n",
    "    xlabel=\"Average Target Share\", \n",
    "    ylabel=\"Counts\",\n",
    "    title=\"Distribution of Average Target Share (Weeks 1-8) \\n All WRs, 1999-2021, by Player-Season\"\n",
    ")"
   ]
  },
  {
   "cell_type": "code",
   "execution_count": 70,
   "metadata": {},
   "outputs": [
    {
     "data": {
      "text/plain": [
       "<seaborn.axisgrid.FacetGrid at 0x288e16b60>"
      ]
     },
     "execution_count": 70,
     "metadata": {},
     "output_type": "execute_result"
    },
    {
     "data": {
      "image/png": "[encoded data removed]",
      "text/plain": [
       "<Figure size 500x500 with 1 Axes>"
      ]
     },
     "metadata": {},
     "output_type": "display_data"
    }
   ],
   "source": [
    "g = sns.relplot(\n",
    "    x=\"avg_tgt_share\",\n",
    "    y=\"avg_pts_ppr\",\n",
    "    data=df_by_player_season_1999_2021,\n",
    "    alpha=0.5,\n",
    "    s=10\n",
    ")\n",
    "\n",
    "g.set(\n",
    "    xlabel=\"Average Target Share\", \n",
    "    ylabel=\"Average Fantasy Points (PPR)\",\n",
    "    title=\"Avg Target Share vs. Avg Fantasy Points PPR (Weeks 1-8) \\n All WRs, 1999-2021, by Player-Season\"\n",
    ")"
   ]
  },
  {
   "cell_type": "code",
   "execution_count": 71,
   "metadata": {},
   "outputs": [
    {
     "name": "stdout",
     "output_type": "stream",
     "text": [
      "Correlation Coefficient: 0.863\n"
     ]
    }
   ],
   "source": [
    "print(f\"Correlation Coefficient: {df_by_player_season_1999_2021['avg_tgt_share'].corr(df_by_player_season_1999_2021['avg_pts_ppr']).round(3)}\")"
   ]
  },
  {
   "cell_type": "markdown",
   "metadata": {},
   "source": [
    "**Note**: The correlation coefficient is lower than yesterday when we were looking at historical data at the player-level. This makes sense as going to the player-season level is going to create more variation – some players are going to have very good or very bad starts to a season which can be uncharacteristic to their career-level stats. This means that the model predictions are going to be more varied as well."
   ]
  },
  {
   "cell_type": "markdown",
   "metadata": {},
   "source": [
    "### Run Regression"
   ]
  },
  {
   "cell_type": "code",
   "execution_count": 72,
   "metadata": {},
   "outputs": [],
   "source": [
    "# Fit a regression line\n",
    "fit = np.polyfit(\n",
    "    x=df_by_player_season_1999_2021['avg_tgt_share'], \n",
    "    y=df_by_player_season_1999_2021['avg_pts_ppr'], \n",
    "    deg=1)\n",
    "\n",
    "lin_func_fpts = np.poly1d(fit)"
   ]
  },
  {
   "cell_type": "code",
   "execution_count": 73,
   "metadata": {},
   "outputs": [
    {
     "name": "stdout",
     "output_type": "stream",
     "text": [
      "(196, 6)\n"
     ]
    },
    {
     "data": {
      "text/html": [
       "<div>\n",
       "<style scoped>\n",
       "    .dataframe tbody tr th:only-of-type {\n",
       "        vertical-align: middle;\n",
       "    }\n",
       "\n",
       "    .dataframe tbody tr th {\n",
       "        vertical-align: top;\n",
       "    }\n",
       "\n",
       "    .dataframe thead th {\n",
       "        text-align: right;\n",
       "    }\n",
       "</style>\n",
       "<table border=\"1\" class=\"dataframe\">\n",
       "  <thead>\n",
       "    <tr style=\"text-align: right;\">\n",
       "      <th></th>\n",
       "      <th>player_name</th>\n",
       "      <th>num_games</th>\n",
       "      <th>avg_tgt_share</th>\n",
       "      <th>avg_pts_ppr</th>\n",
       "      <th>avg_pts_expected</th>\n",
       "      <th>avg_pts_diff</th>\n",
       "    </tr>\n",
       "  </thead>\n",
       "  <tbody>\n",
       "    <tr>\n",
       "      <th>1</th>\n",
       "      <td>DeAndre Hopkins</td>\n",
       "      <td>2</td>\n",
       "      <td>0.393</td>\n",
       "      <td>27.100</td>\n",
       "      <td>22.436</td>\n",
       "      <td>4.664</td>\n",
       "    </tr>\n",
       "    <tr>\n",
       "      <th>20</th>\n",
       "      <td>CeeDee Lamb</td>\n",
       "      <td>8</td>\n",
       "      <td>0.328</td>\n",
       "      <td>14.600</td>\n",
       "      <td>18.668</td>\n",
       "      <td>-4.068</td>\n",
       "    </tr>\n",
       "    <tr>\n",
       "      <th>3</th>\n",
       "      <td>Cooper Kupp</td>\n",
       "      <td>7</td>\n",
       "      <td>0.325</td>\n",
       "      <td>24.529</td>\n",
       "      <td>18.489</td>\n",
       "      <td>6.039</td>\n",
       "    </tr>\n",
       "    <tr>\n",
       "      <th>4</th>\n",
       "      <td>Tyreek Hill</td>\n",
       "      <td>8</td>\n",
       "      <td>0.321</td>\n",
       "      <td>22.450</td>\n",
       "      <td>18.298</td>\n",
       "      <td>4.152</td>\n",
       "    </tr>\n",
       "    <tr>\n",
       "      <th>7</th>\n",
       "      <td>A.J. Brown</td>\n",
       "      <td>7</td>\n",
       "      <td>0.314</td>\n",
       "      <td>19.271</td>\n",
       "      <td>17.842</td>\n",
       "      <td>1.429</td>\n",
       "    </tr>\n",
       "    <tr>\n",
       "      <th>11</th>\n",
       "      <td>Davante Adams</td>\n",
       "      <td>7</td>\n",
       "      <td>0.297</td>\n",
       "      <td>17.014</td>\n",
       "      <td>16.854</td>\n",
       "      <td>0.160</td>\n",
       "    </tr>\n",
       "    <tr>\n",
       "      <th>34</th>\n",
       "      <td>D.J. Moore</td>\n",
       "      <td>8</td>\n",
       "      <td>0.290</td>\n",
       "      <td>12.175</td>\n",
       "      <td>16.498</td>\n",
       "      <td>-4.323</td>\n",
       "    </tr>\n",
       "    <tr>\n",
       "      <th>5</th>\n",
       "      <td>Justin Jefferson</td>\n",
       "      <td>7</td>\n",
       "      <td>0.290</td>\n",
       "      <td>21.203</td>\n",
       "      <td>16.490</td>\n",
       "      <td>4.713</td>\n",
       "    </tr>\n",
       "    <tr>\n",
       "      <th>2</th>\n",
       "      <td>Stefon Diggs</td>\n",
       "      <td>7</td>\n",
       "      <td>0.287</td>\n",
       "      <td>24.771</td>\n",
       "      <td>16.322</td>\n",
       "      <td>8.449</td>\n",
       "    </tr>\n",
       "    <tr>\n",
       "      <th>53</th>\n",
       "      <td>Drake London</td>\n",
       "      <td>8</td>\n",
       "      <td>0.280</td>\n",
       "      <td>9.825</td>\n",
       "      <td>15.909</td>\n",
       "      <td>-6.084</td>\n",
       "    </tr>\n",
       "  </tbody>\n",
       "</table>\n",
       "</div>"
      ],
      "text/plain": [
       "         player_name  num_games  avg_tgt_share  avg_pts_ppr  avg_pts_expected  \\\n",
       "1    DeAndre Hopkins          2          0.393       27.100            22.436   \n",
       "20       CeeDee Lamb          8          0.328       14.600            18.668   \n",
       "3        Cooper Kupp          7          0.325       24.529            18.489   \n",
       "4        Tyreek Hill          8          0.321       22.450            18.298   \n",
       "7         A.J. Brown          7          0.314       19.271            17.842   \n",
       "11     Davante Adams          7          0.297       17.014            16.854   \n",
       "34        D.J. Moore          8          0.290       12.175            16.498   \n",
       "5   Justin Jefferson          7          0.290       21.203            16.490   \n",
       "2       Stefon Diggs          7          0.287       24.771            16.322   \n",
       "53      Drake London          8          0.280        9.825            15.909   \n",
       "\n",
       "    avg_pts_diff  \n",
       "1          4.664  \n",
       "20        -4.068  \n",
       "3          6.039  \n",
       "4          4.152  \n",
       "7          1.429  \n",
       "11         0.160  \n",
       "34        -4.323  \n",
       "5          4.713  \n",
       "2          8.449  \n",
       "53        -6.084  "
      ]
     },
     "execution_count": 73,
     "metadata": {},
     "output_type": "execute_result"
    }
   ],
   "source": [
    "# Use regression equation to get expected fantasy points for the 2022 season\n",
    "\n",
    "# Get data\n",
    "query = \"\"\"\n",
    "WITH data AS (\n",
    "    SELECT\n",
    "        player_id,\n",
    "        player_display_name AS player_name,\n",
    "        target_share AS tgt_share,\n",
    "        fantasy_points_ppr AS pts_ppr\n",
    "    FROM weekly \n",
    "    WHERE position = 'WR'\n",
    "        AND season_type = 'REG'\n",
    "        AND target_share IS NOT NULL -- There are data errors where target share was recorded as NULL, these can be removed\n",
    "        AND season = 2022\n",
    "        AND week <= 8\n",
    "), aggregation AS (\n",
    "    SELECT\n",
    "        player_name,\n",
    "        COUNT(*) AS num_games,\n",
    "        AVG(tgt_share) AS avg_tgt_share,\n",
    "        AVG(pts_ppr) AS avg_pts_ppr\n",
    "    FROM data\n",
    "    GROUP BY player_id, player_name\n",
    ")\n",
    "SELECT *\n",
    "FROM aggregation\n",
    "\"\"\"\n",
    "\n",
    "df_by_player_2022 = pd.read_sql(query, conn)\n",
    "\n",
    "# Create summary table\n",
    "summary_2022 = df_by_player_2022.sort_values('avg_pts_ppr', ascending=False).reset_index(drop=True) # index = fantasy points ranking\n",
    "summary_2022.index = summary_2022.index + 1 # easier to read (1 is now top player by avg fantasy points)\n",
    "\n",
    "summary_2022 = summary_2022.sort_values('avg_tgt_share', ascending=False)\n",
    "\n",
    "summary_2022['avg_pts_expected'] = lin_func_fpts(summary_2022['avg_tgt_share'])\n",
    "summary_2022['avg_pts_diff'] = summary_2022['avg_pts_ppr'] - summary_2022['avg_pts_expected']\n",
    "\n",
    "print(summary_2022.shape)\n",
    "summary_2022.head(10).round(3)\n"
   ]
  },
  {
   "cell_type": "markdown",
   "metadata": {},
   "source": [
    "Based on the regression line fit on 1999-2021 player-season data, CeeDee Lamb is scoring 4 PPR fantasy points less than he should be, per week – a good candidate for positive regression given his extremely high target share. Stefon Diggs is scoring 8.5 PPR fantasy points more than he should be, per week – a good candidate for negative regression. He is scoring much more than would be expected given his target share.\n",
    "\n",
    "To see how likely it is for a player to regress to the mean, I will look at the distribution of `avg_points_diff` and if normal, will use statistical methods to determine probability."
   ]
  },
  {
   "cell_type": "code",
   "execution_count": 74,
   "metadata": {},
   "outputs": [
    {
     "data": {
      "text/html": [
       "<div>\n",
       "<style scoped>\n",
       "    .dataframe tbody tr th:only-of-type {\n",
       "        vertical-align: middle;\n",
       "    }\n",
       "\n",
       "    .dataframe tbody tr th {\n",
       "        vertical-align: top;\n",
       "    }\n",
       "\n",
       "    .dataframe thead th {\n",
       "        text-align: right;\n",
       "    }\n",
       "</style>\n",
       "<table border=\"1\" class=\"dataframe\">\n",
       "  <thead>\n",
       "    <tr style=\"text-align: right;\">\n",
       "      <th></th>\n",
       "      <th>player_name</th>\n",
       "      <th>num_games</th>\n",
       "      <th>avg_tgt_share</th>\n",
       "      <th>avg_pts_ppr</th>\n",
       "      <th>avg_pts_expected</th>\n",
       "      <th>avg_pts_diff</th>\n",
       "    </tr>\n",
       "  </thead>\n",
       "  <tbody>\n",
       "    <tr>\n",
       "      <th>76</th>\n",
       "      <td>Darnell Mooney</td>\n",
       "      <td>8</td>\n",
       "      <td>0.273</td>\n",
       "      <td>7.675</td>\n",
       "      <td>15.497</td>\n",
       "      <td>-7.822</td>\n",
       "    </tr>\n",
       "    <tr>\n",
       "      <th>53</th>\n",
       "      <td>Drake London</td>\n",
       "      <td>8</td>\n",
       "      <td>0.280</td>\n",
       "      <td>9.825</td>\n",
       "      <td>15.909</td>\n",
       "      <td>-6.084</td>\n",
       "    </tr>\n",
       "    <tr>\n",
       "      <th>109</th>\n",
       "      <td>Equanimeous St. Brown</td>\n",
       "      <td>7</td>\n",
       "      <td>0.196</td>\n",
       "      <td>5.271</td>\n",
       "      <td>11.021</td>\n",
       "      <td>-5.750</td>\n",
       "    </tr>\n",
       "    <tr>\n",
       "      <th>77</th>\n",
       "      <td>Robert Woods</td>\n",
       "      <td>7</td>\n",
       "      <td>0.231</td>\n",
       "      <td>7.657</td>\n",
       "      <td>13.034</td>\n",
       "      <td>-5.377</td>\n",
       "    </tr>\n",
       "    <tr>\n",
       "      <th>143</th>\n",
       "      <td>Marcus Johnson</td>\n",
       "      <td>4</td>\n",
       "      <td>0.143</td>\n",
       "      <td>3.075</td>\n",
       "      <td>7.926</td>\n",
       "      <td>-4.851</td>\n",
       "    </tr>\n",
       "    <tr>\n",
       "      <th>30</th>\n",
       "      <td>Jahan Dotson</td>\n",
       "      <td>4</td>\n",
       "      <td>0.132</td>\n",
       "      <td>13.050</td>\n",
       "      <td>7.253</td>\n",
       "      <td>5.797</td>\n",
       "    </tr>\n",
       "    <tr>\n",
       "      <th>9</th>\n",
       "      <td>Jaylen Waddle</td>\n",
       "      <td>8</td>\n",
       "      <td>0.217</td>\n",
       "      <td>18.050</td>\n",
       "      <td>12.218</td>\n",
       "      <td>5.832</td>\n",
       "    </tr>\n",
       "    <tr>\n",
       "      <th>3</th>\n",
       "      <td>Cooper Kupp</td>\n",
       "      <td>7</td>\n",
       "      <td>0.325</td>\n",
       "      <td>24.529</td>\n",
       "      <td>18.489</td>\n",
       "      <td>6.039</td>\n",
       "    </tr>\n",
       "    <tr>\n",
       "      <th>51</th>\n",
       "      <td>Rashid Shaheed</td>\n",
       "      <td>3</td>\n",
       "      <td>0.051</td>\n",
       "      <td>9.833</td>\n",
       "      <td>2.589</td>\n",
       "      <td>7.245</td>\n",
       "    </tr>\n",
       "    <tr>\n",
       "      <th>2</th>\n",
       "      <td>Stefon Diggs</td>\n",
       "      <td>7</td>\n",
       "      <td>0.287</td>\n",
       "      <td>24.771</td>\n",
       "      <td>16.322</td>\n",
       "      <td>8.449</td>\n",
       "    </tr>\n",
       "  </tbody>\n",
       "</table>\n",
       "</div>"
      ],
      "text/plain": [
       "               player_name  num_games  avg_tgt_share  avg_pts_ppr  \\\n",
       "76          Darnell Mooney          8          0.273        7.675   \n",
       "53            Drake London          8          0.280        9.825   \n",
       "109  Equanimeous St. Brown          7          0.196        5.271   \n",
       "77            Robert Woods          7          0.231        7.657   \n",
       "143         Marcus Johnson          4          0.143        3.075   \n",
       "30            Jahan Dotson          4          0.132       13.050   \n",
       "9            Jaylen Waddle          8          0.217       18.050   \n",
       "3              Cooper Kupp          7          0.325       24.529   \n",
       "51          Rashid Shaheed          3          0.051        9.833   \n",
       "2             Stefon Diggs          7          0.287       24.771   \n",
       "\n",
       "     avg_pts_expected  avg_pts_diff  \n",
       "76             15.497        -7.822  \n",
       "53             15.909        -6.084  \n",
       "109            11.021        -5.750  \n",
       "77             13.034        -5.377  \n",
       "143             7.926        -4.851  \n",
       "30              7.253         5.797  \n",
       "9              12.218         5.832  \n",
       "3              18.489         6.039  \n",
       "51              2.589         7.245  \n",
       "2              16.322         8.449  "
      ]
     },
     "execution_count": 74,
     "metadata": {},
     "output_type": "execute_result"
    }
   ],
   "source": [
    "# Sort by the difference between actual points and expected points to get the true \"regression to the mean\" candidates\n",
    "# Remove players with only 1 game played as that can be considered noise\n",
    "bottom_5_2022 = summary_2022[summary_2022['num_games'] > 1] \\\n",
    "    .sort_values('avg_pts_diff', ascending=True) \\\n",
    "    .round(3)\n",
    "\n",
    "pd.concat([bottom_5_2022.head(), bottom_5_2022[-5:]])"
   ]
  },
  {
   "cell_type": "markdown",
   "metadata": {},
   "source": [
    "Darnell Mooney is the standout here. With almost 27% of his team's target share in 2022 he's scoring about 7.8 standard fantasy points less per game than expected based on the observed relationship between target share and fantasy points. "
   ]
  },
  {
   "cell_type": "markdown",
   "metadata": {},
   "source": [
    "## Analyze Average Points Differential"
   ]
  },
  {
   "cell_type": "code",
   "execution_count": 75,
   "metadata": {},
   "outputs": [
    {
     "data": {
      "text/plain": [
       "<seaborn.axisgrid.FacetGrid at 0x288f3d990>"
      ]
     },
     "execution_count": 75,
     "metadata": {},
     "output_type": "execute_result"
    },
    {
     "data": {
      "image/png": "[encoded data removed]",
      "text/plain": [
       "<Figure size 500x500 with 1 Axes>"
      ]
     },
     "metadata": {},
     "output_type": "display_data"
    }
   ],
   "source": [
    "sns.displot(\n",
    "    x='avg_pts_diff',\n",
    "    data=summary_2022,\n",
    "    kind=\"hist\",\n",
    "    bins=20\n",
    ")"
   ]
  },
  {
   "cell_type": "markdown",
   "metadata": {},
   "source": [
    "The distribution looks like a normal distribution with mean around 0. Next I'll get average points differential on the 1999-2021 population to confirm."
   ]
  },
  {
   "cell_type": "code",
   "execution_count": 76,
   "metadata": {},
   "outputs": [
    {
     "data": {
      "text/plain": [
       "<seaborn.axisgrid.FacetGrid at 0x288f78d00>"
      ]
     },
     "execution_count": 76,
     "metadata": {},
     "output_type": "execute_result"
    },
    {
     "data": {
      "image/png": "[encoded data removed]",
      "text/plain": [
       "<Figure size 500x500 with 1 Axes>"
      ]
     },
     "metadata": {},
     "output_type": "display_data"
    }
   ],
   "source": [
    "# Use regression line on original dataset with all values \n",
    "df_by_player_season_1999_2021['avg_pts_expected'] = lin_func_fpts(df_by_player_season_1999_2021['avg_tgt_share'])\n",
    "df_by_player_season_1999_2021['avg_pts_diff'] = df_by_player_season_1999_2021['avg_pts_ppr'] - df_by_player_season_1999_2021['avg_pts_expected']\n",
    "\n",
    "sns.displot(\n",
    "    x='avg_pts_diff',\n",
    "    data=df_by_player_season_1999_2021,\n",
    "    kind=\"hist\",\n",
    "    bins=25\n",
    ")"
   ]
  },
  {
   "cell_type": "markdown",
   "metadata": {},
   "source": [
    "The population distribution confirms that average points differential is normally distributed with a mean of approximately 0."
   ]
  },
  {
   "cell_type": "code",
   "execution_count": 77,
   "metadata": {},
   "outputs": [
    {
     "data": {
      "text/plain": [
       "count    196.000000\n",
       "mean       0.027211\n",
       "std        2.512060\n",
       "min       -7.822288\n",
       "25%       -1.316383\n",
       "50%       -0.066556\n",
       "75%        1.364527\n",
       "max        8.449186\n",
       "Name: avg_pts_diff, dtype: float64"
      ]
     },
     "execution_count": 77,
     "metadata": {},
     "output_type": "execute_result"
    }
   ],
   "source": [
    "summary_2022['avg_pts_diff'].describe()"
   ]
  },
  {
   "cell_type": "code",
   "execution_count": 78,
   "metadata": {},
   "outputs": [
    {
     "data": {
      "text/plain": [
       "count    3402.000000\n",
       "mean       -0.000000\n",
       "std         2.646295\n",
       "min       -10.809498\n",
       "25%        -1.624465\n",
       "50%        -0.205937\n",
       "75%         1.498470\n",
       "max        10.891564\n",
       "Name: avg_pts_diff, dtype: object"
      ]
     },
     "execution_count": 78,
     "metadata": {},
     "output_type": "execute_result"
    }
   ],
   "source": [
    "df_by_player_season_1999_2021['avg_pts_diff'].describe().apply(lambda x: format(x, 'f'))"
   ]
  },
  {
   "cell_type": "markdown",
   "metadata": {},
   "source": [
    "The observed expected points differential from 1999-2021 is normally distributed with a mean of 0 and standard deviation of 2.65. Therefore we would expect the sample population of player averages for 2022 to be normally distributed as well and thus we should be able to compute the likelihood of a player finishing with that expected point differential (actual - expected) using statistical methods. "
   ]
  },
  {
   "cell_type": "code",
   "execution_count": 79,
   "metadata": {},
   "outputs": [],
   "source": [
    "def cdf_player_2022(df, df_current_season, player_name):\n",
    "    \"\"\"\n",
    "    Return the probability of <= a player's expected point differential given:\n",
    "    df: the dataset we want to get the probability from\n",
    "    df_current_season: the dataset where we want to get a player's expected point differential\n",
    "    player_name: name of player in df_current_season\n",
    "    \"\"\"\n",
    "    cdf = scipy.stats.norm(\n",
    "            df['avg_pts_diff'].mean(),\n",
    "            df['avg_pts_diff'].std()\n",
    "            ).cdf(df_current_season[df_current_season['player_name'] == player_name]['avg_pts_diff'])\n",
    "    return round((cdf[0] * 100),2)\n",
    "\n",
    "def pdf_player_2022(df, df_current_season, player_name):\n",
    "    \"\"\"\n",
    "    Return the probability of a player's expected point differential given:\n",
    "    df: the dataset we want to get the probability from\n",
    "    df_current_season: the dataset where we want to get a player's expected point differential\n",
    "    player_name: name of player in df_current_season\n",
    "    \"\"\"\n",
    "    pdf = scipy.stats.norm(\n",
    "            df['avg_pts_diff'].mean(),\n",
    "            df['avg_pts_diff'].std()\n",
    "            ).pdf(df_current_season[df_current_season['player_name'] == player_name]['avg_pts_diff'])\n",
    "    return round((pdf[0] * 100),2)"
   ]
  },
  {
   "cell_type": "markdown",
   "metadata": {},
   "source": [
    "The pdf function calculates the probability of X for a given value of X. In this case, we are looking at the probability of a player having an average points differential of X for a given value of X (target share)."
   ]
  },
  {
   "cell_type": "code",
   "execution_count": 80,
   "metadata": {},
   "outputs": [
    {
     "ename": "TypeError",
     "evalue": "pdf_player_2022() missing 1 required positional argument: 'player_name'",
     "output_type": "error",
     "traceback": [
      "\u001b[0;31m---------------------------------------------------------------------------\u001b[0m",
      "\u001b[0;31mTypeError\u001b[0m                                 Traceback (most recent call last)",
      "Cell \u001b[0;32mIn [80], line 1\u001b[0m\n\u001b[0;32m----> 1\u001b[0m pdf_player_2022(summary_2022, \u001b[39m'\u001b[39;49m\u001b[39mCeeDee Lamb\u001b[39;49m\u001b[39m'\u001b[39;49m)\n",
      "\u001b[0;31mTypeError\u001b[0m: pdf_player_2022() missing 1 required positional argument: 'player_name'"
     ]
    }
   ],
   "source": [
    "pdf_player_2022(summary_2022, 'CeeDee Lamb')"
   ]
  },
  {
   "cell_type": "markdown",
   "metadata": {},
   "source": [
    "Going back to CeeDee lamb, using the normal distribution of average points differential, we are able to calculate that there is a 4.2% chance of scoring 4 points less than expected per week given his nearly 33% target share. If this is the case, CeeDee is a great \"buy low\", positive regression candidate and should be due for a more productive second half of the season."
   ]
  },
  {
   "cell_type": "code",
   "execution_count": null,
   "metadata": {},
   "outputs": [
    {
     "name": "stdout",
     "output_type": "stream",
     "text": [
      "Historical Data: 1999 - 2021\n"
     ]
    },
    {
     "data": {
      "text/html": [
       "<div>\n",
       "<style scoped>\n",
       "    .dataframe tbody tr th:only-of-type {\n",
       "        vertical-align: middle;\n",
       "    }\n",
       "\n",
       "    .dataframe tbody tr th {\n",
       "        vertical-align: top;\n",
       "    }\n",
       "\n",
       "    .dataframe thead th {\n",
       "        text-align: right;\n",
       "    }\n",
       "</style>\n",
       "<table border=\"1\" class=\"dataframe\">\n",
       "  <thead>\n",
       "    <tr style=\"text-align: right;\">\n",
       "      <th></th>\n",
       "      <th>player_name</th>\n",
       "      <th>season</th>\n",
       "      <th>num_games</th>\n",
       "      <th>avg_tgt_share</th>\n",
       "      <th>avg_pts_ppr</th>\n",
       "      <th>avg_pts_expected</th>\n",
       "      <th>avg_pts_diff</th>\n",
       "    </tr>\n",
       "  </thead>\n",
       "  <tbody>\n",
       "    <tr>\n",
       "      <th>1174</th>\n",
       "      <td>Will Fuller</td>\n",
       "      <td>2017</td>\n",
       "      <td>4</td>\n",
       "      <td>0.180</td>\n",
       "      <td>20.950</td>\n",
       "      <td>10.058</td>\n",
       "      <td>10.892</td>\n",
       "    </tr>\n",
       "    <tr>\n",
       "      <th>1620</th>\n",
       "      <td>Martavis Bryant</td>\n",
       "      <td>2014</td>\n",
       "      <td>2</td>\n",
       "      <td>0.145</td>\n",
       "      <td>18.650</td>\n",
       "      <td>8.035</td>\n",
       "      <td>10.615</td>\n",
       "    </tr>\n",
       "    <tr>\n",
       "      <th>589</th>\n",
       "      <td>Isaac Bruce</td>\n",
       "      <td>2000</td>\n",
       "      <td>7</td>\n",
       "      <td>0.230</td>\n",
       "      <td>23.586</td>\n",
       "      <td>12.996</td>\n",
       "      <td>10.589</td>\n",
       "    </tr>\n",
       "    <tr>\n",
       "      <th>499</th>\n",
       "      <td>Randy Moss</td>\n",
       "      <td>2007</td>\n",
       "      <td>8</td>\n",
       "      <td>0.239</td>\n",
       "      <td>23.863</td>\n",
       "      <td>13.527</td>\n",
       "      <td>10.336</td>\n",
       "    </tr>\n",
       "    <tr>\n",
       "      <th>385</th>\n",
       "      <td>Calvin Johnson</td>\n",
       "      <td>2011</td>\n",
       "      <td>8</td>\n",
       "      <td>0.253</td>\n",
       "      <td>24.175</td>\n",
       "      <td>14.344</td>\n",
       "      <td>9.831</td>\n",
       "    </tr>\n",
       "    <tr>\n",
       "      <th>211</th>\n",
       "      <td>Torry Holt</td>\n",
       "      <td>2003</td>\n",
       "      <td>7</td>\n",
       "      <td>0.279</td>\n",
       "      <td>25.471</td>\n",
       "      <td>15.835</td>\n",
       "      <td>9.636</td>\n",
       "    </tr>\n",
       "    <tr>\n",
       "      <th>845</th>\n",
       "      <td>Austin Collie</td>\n",
       "      <td>2010</td>\n",
       "      <td>6</td>\n",
       "      <td>0.207</td>\n",
       "      <td>21.017</td>\n",
       "      <td>11.666</td>\n",
       "      <td>9.351</td>\n",
       "    </tr>\n",
       "    <tr>\n",
       "      <th>73</th>\n",
       "      <td>Davante Adams</td>\n",
       "      <td>2020</td>\n",
       "      <td>5</td>\n",
       "      <td>0.319</td>\n",
       "      <td>27.040</td>\n",
       "      <td>18.185</td>\n",
       "      <td>8.855</td>\n",
       "    </tr>\n",
       "    <tr>\n",
       "      <th>256</th>\n",
       "      <td>Calvin Johnson</td>\n",
       "      <td>2013</td>\n",
       "      <td>7</td>\n",
       "      <td>0.272</td>\n",
       "      <td>24.157</td>\n",
       "      <td>15.405</td>\n",
       "      <td>8.752</td>\n",
       "    </tr>\n",
       "    <tr>\n",
       "      <th>163</th>\n",
       "      <td>Adam Thielen</td>\n",
       "      <td>2018</td>\n",
       "      <td>8</td>\n",
       "      <td>0.291</td>\n",
       "      <td>25.250</td>\n",
       "      <td>16.508</td>\n",
       "      <td>8.742</td>\n",
       "    </tr>\n",
       "  </tbody>\n",
       "</table>\n",
       "</div>"
      ],
      "text/plain": [
       "          player_name  season  num_games  avg_tgt_share  avg_pts_ppr  \\\n",
       "1174      Will Fuller    2017          4          0.180       20.950   \n",
       "1620  Martavis Bryant    2014          2          0.145       18.650   \n",
       "589       Isaac Bruce    2000          7          0.230       23.586   \n",
       "499        Randy Moss    2007          8          0.239       23.863   \n",
       "385    Calvin Johnson    2011          8          0.253       24.175   \n",
       "211        Torry Holt    2003          7          0.279       25.471   \n",
       "845     Austin Collie    2010          6          0.207       21.017   \n",
       "73      Davante Adams    2020          5          0.319       27.040   \n",
       "256    Calvin Johnson    2013          7          0.272       24.157   \n",
       "163      Adam Thielen    2018          8          0.291       25.250   \n",
       "\n",
       "      avg_pts_expected  avg_pts_diff  \n",
       "1174            10.058        10.892  \n",
       "1620             8.035        10.615  \n",
       "589             12.996        10.589  \n",
       "499             13.527        10.336  \n",
       "385             14.344         9.831  \n",
       "211             15.835         9.636  \n",
       "845             11.666         9.351  \n",
       "73              18.185         8.855  \n",
       "256             15.405         8.752  \n",
       "163             16.508         8.742  "
      ]
     },
     "execution_count": 49,
     "metadata": {},
     "output_type": "execute_result"
    }
   ],
   "source": [
    "# Show the average points outperformers \n",
    "top_tgt_share_1999_2021 = df_by_player_season_1999_2021.sort_values('avg_tgt_share', ascending=False).reset_index(drop=True)\n",
    "top_tgt_share_1999_2021.index = top_tgt_share_1999_2021.index + 1\n",
    "\n",
    "print(\"Historical Data: 1999 - 2021\")\n",
    "top_tgt_share_1999_2021[top_tgt_share_1999_2021['num_games'] > 1] \\\n",
    "    .sort_values('avg_pts_diff', ascending=False) \\\n",
    "    .round(3) \\\n",
    "    .head(10)"
   ]
  },
  {
   "cell_type": "code",
   "execution_count": null,
   "metadata": {},
   "outputs": [
    {
     "name": "stdout",
     "output_type": "stream",
     "text": [
      "Historical Data: 1999 - 2021\n"
     ]
    },
    {
     "data": {
      "text/html": [
       "<div>\n",
       "<style scoped>\n",
       "    .dataframe tbody tr th:only-of-type {\n",
       "        vertical-align: middle;\n",
       "    }\n",
       "\n",
       "    .dataframe tbody tr th {\n",
       "        vertical-align: top;\n",
       "    }\n",
       "\n",
       "    .dataframe thead th {\n",
       "        text-align: right;\n",
       "    }\n",
       "</style>\n",
       "<table border=\"1\" class=\"dataframe\">\n",
       "  <thead>\n",
       "    <tr style=\"text-align: right;\">\n",
       "      <th></th>\n",
       "      <th>player_name</th>\n",
       "      <th>season</th>\n",
       "      <th>num_games</th>\n",
       "      <th>avg_tgt_share</th>\n",
       "      <th>avg_pts_ppr</th>\n",
       "      <th>avg_pts_expected</th>\n",
       "      <th>avg_pts_diff</th>\n",
       "    </tr>\n",
       "  </thead>\n",
       "  <tbody>\n",
       "    <tr>\n",
       "      <th>121</th>\n",
       "      <td>Stefon Diggs</td>\n",
       "      <td>2015</td>\n",
       "      <td>4</td>\n",
       "      <td>0.303</td>\n",
       "      <td>19.950</td>\n",
       "      <td>17.238</td>\n",
       "      <td>2.712</td>\n",
       "    </tr>\n",
       "    <tr>\n",
       "      <th>124</th>\n",
       "      <td>Stefon Diggs</td>\n",
       "      <td>2020</td>\n",
       "      <td>8</td>\n",
       "      <td>0.303</td>\n",
       "      <td>17.688</td>\n",
       "      <td>17.210</td>\n",
       "      <td>0.478</td>\n",
       "    </tr>\n",
       "    <tr>\n",
       "      <th>341</th>\n",
       "      <td>Stefon Diggs</td>\n",
       "      <td>2016</td>\n",
       "      <td>6</td>\n",
       "      <td>0.259</td>\n",
       "      <td>15.567</td>\n",
       "      <td>14.645</td>\n",
       "      <td>0.922</td>\n",
       "    </tr>\n",
       "    <tr>\n",
       "      <th>401</th>\n",
       "      <td>Stefon Diggs</td>\n",
       "      <td>2018</td>\n",
       "      <td>8</td>\n",
       "      <td>0.252</td>\n",
       "      <td>18.288</td>\n",
       "      <td>14.262</td>\n",
       "      <td>4.025</td>\n",
       "    </tr>\n",
       "    <tr>\n",
       "      <th>409</th>\n",
       "      <td>Stefon Diggs</td>\n",
       "      <td>2021</td>\n",
       "      <td>7</td>\n",
       "      <td>0.251</td>\n",
       "      <td>15.757</td>\n",
       "      <td>14.208</td>\n",
       "      <td>1.549</td>\n",
       "    </tr>\n",
       "    <tr>\n",
       "      <th>483</th>\n",
       "      <td>Stefon Diggs</td>\n",
       "      <td>2019</td>\n",
       "      <td>8</td>\n",
       "      <td>0.241</td>\n",
       "      <td>15.925</td>\n",
       "      <td>13.600</td>\n",
       "      <td>2.325</td>\n",
       "    </tr>\n",
       "    <tr>\n",
       "      <th>837</th>\n",
       "      <td>Stefon Diggs</td>\n",
       "      <td>2017</td>\n",
       "      <td>6</td>\n",
       "      <td>0.208</td>\n",
       "      <td>15.483</td>\n",
       "      <td>11.700</td>\n",
       "      <td>3.783</td>\n",
       "    </tr>\n",
       "  </tbody>\n",
       "</table>\n",
       "</div>"
      ],
      "text/plain": [
       "      player_name  season  num_games  avg_tgt_share  avg_pts_ppr  \\\n",
       "121  Stefon Diggs    2015          4          0.303       19.950   \n",
       "124  Stefon Diggs    2020          8          0.303       17.688   \n",
       "341  Stefon Diggs    2016          6          0.259       15.567   \n",
       "401  Stefon Diggs    2018          8          0.252       18.288   \n",
       "409  Stefon Diggs    2021          7          0.251       15.757   \n",
       "483  Stefon Diggs    2019          8          0.241       15.925   \n",
       "837  Stefon Diggs    2017          6          0.208       15.483   \n",
       "\n",
       "     avg_pts_expected  avg_pts_diff  \n",
       "121            17.238         2.712  \n",
       "124            17.210         0.478  \n",
       "341            14.645         0.922  \n",
       "401            14.262         4.025  \n",
       "409            14.208         1.549  \n",
       "483            13.600         2.325  \n",
       "837            11.700         3.783  "
      ]
     },
     "execution_count": 50,
     "metadata": {},
     "output_type": "execute_result"
    }
   ],
   "source": [
    "print(\"Historical Data: 1999 - 2021\")\n",
    "top_tgt_share_1999_2021[top_tgt_share_1999_2021['player_name'] == 'Stefon Diggs'] \\\n",
    "    .round(3) \\\n",
    "    .head(10)"
   ]
  },
  {
   "cell_type": "code",
   "execution_count": null,
   "metadata": {},
   "outputs": [
    {
     "name": "stdout",
     "output_type": "stream",
     "text": [
      "Current 2022 Season: Stefon Diggs\n"
     ]
    },
    {
     "data": {
      "text/html": [
       "<div>\n",
       "<style scoped>\n",
       "    .dataframe tbody tr th:only-of-type {\n",
       "        vertical-align: middle;\n",
       "    }\n",
       "\n",
       "    .dataframe tbody tr th {\n",
       "        vertical-align: top;\n",
       "    }\n",
       "\n",
       "    .dataframe thead th {\n",
       "        text-align: right;\n",
       "    }\n",
       "</style>\n",
       "<table border=\"1\" class=\"dataframe\">\n",
       "  <thead>\n",
       "    <tr style=\"text-align: right;\">\n",
       "      <th></th>\n",
       "      <th>player_name</th>\n",
       "      <th>num_games</th>\n",
       "      <th>avg_tgt_share</th>\n",
       "      <th>avg_pts_ppr</th>\n",
       "      <th>avg_pts_expected</th>\n",
       "      <th>avg_pts_diff</th>\n",
       "    </tr>\n",
       "  </thead>\n",
       "  <tbody>\n",
       "    <tr>\n",
       "      <th>2</th>\n",
       "      <td>Stefon Diggs</td>\n",
       "      <td>7</td>\n",
       "      <td>0.287</td>\n",
       "      <td>24.771</td>\n",
       "      <td>16.322</td>\n",
       "      <td>8.449</td>\n",
       "    </tr>\n",
       "  </tbody>\n",
       "</table>\n",
       "</div>"
      ],
      "text/plain": [
       "    player_name  num_games  avg_tgt_share  avg_pts_ppr  avg_pts_expected  \\\n",
       "2  Stefon Diggs          7          0.287       24.771            16.322   \n",
       "\n",
       "   avg_pts_diff  \n",
       "2         8.449  "
      ]
     },
     "execution_count": 51,
     "metadata": {},
     "output_type": "execute_result"
    }
   ],
   "source": [
    "print(\"Current 2022 Season: Stefon Diggs\")\n",
    "summary_2022[summary_2022['player_name'] == 'Stefon Diggs'] \\\n",
    "    .head(10) \\\n",
    "    .round(3)"
   ]
  },
  {
   "cell_type": "code",
   "execution_count": null,
   "metadata": {},
   "outputs": [
    {
     "name": "stdout",
     "output_type": "stream",
     "text": [
      "13\n",
      "0.59\n"
     ]
    }
   ],
   "source": [
    "# Number of seasons with at least 1 player scoring 8 PPR pts above expectation, on average, through Weeks 1-8\n",
    "# and percentage of total individual seasons in the dataset\n",
    "num_seasons = len(top_tgt_share_1999_2021[top_tgt_share_1999_2021['avg_pts_diff'] >= 8]['season'].unique())\n",
    "print(num_seasons)\n",
    "print(round(num_seasons/(2021-1999),2))\n"
   ]
  },
  {
   "cell_type": "code",
   "execution_count": null,
   "metadata": {},
   "outputs": [
    {
     "data": {
      "text/plain": [
       "0.09"
      ]
     },
     "execution_count": 65,
     "metadata": {},
     "output_type": "execute_result"
    }
   ],
   "source": [
    "pdf_player_2022(df_by_player_season_1999_2021, summary_2022, \"Stefon Diggs\")"
   ]
  },
  {
   "cell_type": "markdown",
   "metadata": {},
   "source": [
    "Looking at historical data, we've seen hot starts like this before. In fact, for 13 out of the 21 previous seasons, there was at least one player who was scoring at least 8 PPR pts above expectation, on average, through Week 8. However, it's still really rare – based on the distribution of the historical data, we would expect to see Digg's 2022 expected points differential only 0.09% of the time. That's extremely unlikely!\n",
    "\n",
    "Also, Diggs is performing way better than usual! His previous best start was 4 PPR pts above expectation – 50% less than what he's currently achieving. His 2022 season so far is truly remarkable but I'm not so sure he'll be able to keep this up.\n",
    "\n",
    "Moving forward I'd like to compare players' first 8 games to their last 8 games and see how common it is to keep up such high production."
   ]
  }
 ],
 "metadata": {
  "kernelspec": {
   "display_name": "Python 3.10.6 ('env': venv)",
   "language": "python",
   "name": "python3"
  },
  "language_info": {
   "codemirror_mode": {
    "name": "ipython",
    "version": 3
   },
   "file_extension": ".py",
   "mimetype": "text/x-python",
   "name": "python",
   "nbconvert_exporter": "python",
   "pygments_lexer": "ipython3",
   "version": "3.10.6"
  },
  "orig_nbformat": 4,
  "vscode": {
   "interpreter": {
    "hash": "4c11be34945b9e5d06588e60c5142a317bb34337c82f00f4b31063bbdfdda38b"
   }
  }
 },
 "nbformat": 4,
 "nbformat_minor": 2
}
