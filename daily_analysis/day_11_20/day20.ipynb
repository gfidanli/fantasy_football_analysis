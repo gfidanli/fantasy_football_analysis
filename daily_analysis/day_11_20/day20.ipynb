{
 "cells": [
  {
   "cell_type": "markdown",
   "metadata": {},
   "source": [
    "# Day 20\n",
    "\n",
    "For each game through Week 9 in the 2022 season, get the number of touchdowns (pass, rush, rec, special teams) and then see if any of those are significantly different than the average for the previous NFL seasons"
   ]
  },
  {
   "cell_type": "markdown",
   "metadata": {},
   "source": [
    "## Set Up"
   ]
  },
  {
   "cell_type": "code",
   "execution_count": 2,
   "metadata": {},
   "outputs": [],
   "source": [
    "import pandas as pd\n",
    "import sqlite3\n",
    "import matplotlib.pyplot as plt\n",
    "import seaborn as sns\n",
    "import numpy as np\n",
    "from scipy import stats\n",
    "import pingouin\n",
    "\n",
    "# Create database connection\n",
    "conn = sqlite3.connect('../../data/db/database.db')"
   ]
  },
  {
   "cell_type": "markdown",
   "metadata": {},
   "source": [
    "## Get the data"
   ]
  },
  {
   "cell_type": "code",
   "execution_count": 159,
   "metadata": {},
   "outputs": [
    {
     "data": {
      "text/html": [
       "<div>\n",
       "<style scoped>\n",
       "    .dataframe tbody tr th:only-of-type {\n",
       "        vertical-align: middle;\n",
       "    }\n",
       "\n",
       "    .dataframe tbody tr th {\n",
       "        vertical-align: top;\n",
       "    }\n",
       "\n",
       "    .dataframe thead th {\n",
       "        text-align: right;\n",
       "    }\n",
       "</style>\n",
       "<table border=\"1\" class=\"dataframe\">\n",
       "  <thead>\n",
       "    <tr style=\"text-align: right;\">\n",
       "      <th></th>\n",
       "      <th>season</th>\n",
       "      <th>avg_score</th>\n",
       "      <th>avg_pass_tds</th>\n",
       "      <th>avg_rush_tds</th>\n",
       "      <th>avg_rec_tds</th>\n",
       "      <th>avg_st_tds</th>\n",
       "    </tr>\n",
       "  </thead>\n",
       "  <tbody>\n",
       "    <tr>\n",
       "      <th>0</th>\n",
       "      <td>1999</td>\n",
       "      <td>19.79</td>\n",
       "      <td>1.24</td>\n",
       "      <td>0.64</td>\n",
       "      <td>1.24</td>\n",
       "      <td>0.03</td>\n",
       "    </tr>\n",
       "    <tr>\n",
       "      <th>1</th>\n",
       "      <td>2000</td>\n",
       "      <td>20.76</td>\n",
       "      <td>1.29</td>\n",
       "      <td>0.73</td>\n",
       "      <td>1.29</td>\n",
       "      <td>0.07</td>\n",
       "    </tr>\n",
       "    <tr>\n",
       "      <th>2</th>\n",
       "      <td>2001</td>\n",
       "      <td>20.26</td>\n",
       "      <td>1.30</td>\n",
       "      <td>0.64</td>\n",
       "      <td>1.30</td>\n",
       "      <td>0.07</td>\n",
       "    </tr>\n",
       "    <tr>\n",
       "      <th>3</th>\n",
       "      <td>2002</td>\n",
       "      <td>21.93</td>\n",
       "      <td>1.37</td>\n",
       "      <td>0.86</td>\n",
       "      <td>1.37</td>\n",
       "      <td>0.09</td>\n",
       "    </tr>\n",
       "    <tr>\n",
       "      <th>4</th>\n",
       "      <td>2003</td>\n",
       "      <td>20.78</td>\n",
       "      <td>1.29</td>\n",
       "      <td>0.78</td>\n",
       "      <td>1.28</td>\n",
       "      <td>0.07</td>\n",
       "    </tr>\n",
       "    <tr>\n",
       "      <th>5</th>\n",
       "      <td>2004</td>\n",
       "      <td>21.05</td>\n",
       "      <td>1.34</td>\n",
       "      <td>0.80</td>\n",
       "      <td>1.34</td>\n",
       "      <td>0.06</td>\n",
       "    </tr>\n",
       "    <tr>\n",
       "      <th>6</th>\n",
       "      <td>2005</td>\n",
       "      <td>20.63</td>\n",
       "      <td>1.24</td>\n",
       "      <td>0.80</td>\n",
       "      <td>1.24</td>\n",
       "      <td>0.04</td>\n",
       "    </tr>\n",
       "    <tr>\n",
       "      <th>7</th>\n",
       "      <td>2006</td>\n",
       "      <td>20.63</td>\n",
       "      <td>1.34</td>\n",
       "      <td>0.75</td>\n",
       "      <td>1.34</td>\n",
       "      <td>0.05</td>\n",
       "    </tr>\n",
       "    <tr>\n",
       "      <th>8</th>\n",
       "      <td>2007</td>\n",
       "      <td>21.30</td>\n",
       "      <td>1.36</td>\n",
       "      <td>0.75</td>\n",
       "      <td>1.36</td>\n",
       "      <td>0.10</td>\n",
       "    </tr>\n",
       "    <tr>\n",
       "      <th>9</th>\n",
       "      <td>2008</td>\n",
       "      <td>22.10</td>\n",
       "      <td>1.27</td>\n",
       "      <td>0.93</td>\n",
       "      <td>1.26</td>\n",
       "      <td>0.10</td>\n",
       "    </tr>\n",
       "    <tr>\n",
       "      <th>10</th>\n",
       "      <td>2009</td>\n",
       "      <td>21.82</td>\n",
       "      <td>1.45</td>\n",
       "      <td>0.90</td>\n",
       "      <td>1.45</td>\n",
       "      <td>0.09</td>\n",
       "    </tr>\n",
       "    <tr>\n",
       "      <th>11</th>\n",
       "      <td>2010</td>\n",
       "      <td>21.68</td>\n",
       "      <td>1.45</td>\n",
       "      <td>0.72</td>\n",
       "      <td>1.45</td>\n",
       "      <td>0.09</td>\n",
       "    </tr>\n",
       "    <tr>\n",
       "      <th>12</th>\n",
       "      <td>2011</td>\n",
       "      <td>22.29</td>\n",
       "      <td>1.49</td>\n",
       "      <td>0.75</td>\n",
       "      <td>1.49</td>\n",
       "      <td>0.07</td>\n",
       "    </tr>\n",
       "    <tr>\n",
       "      <th>13</th>\n",
       "      <td>2012</td>\n",
       "      <td>22.86</td>\n",
       "      <td>1.50</td>\n",
       "      <td>0.80</td>\n",
       "      <td>1.50</td>\n",
       "      <td>0.09</td>\n",
       "    </tr>\n",
       "    <tr>\n",
       "      <th>14</th>\n",
       "      <td>2013</td>\n",
       "      <td>23.35</td>\n",
       "      <td>1.56</td>\n",
       "      <td>0.80</td>\n",
       "      <td>1.56</td>\n",
       "      <td>0.06</td>\n",
       "    </tr>\n",
       "    <tr>\n",
       "      <th>15</th>\n",
       "      <td>2014</td>\n",
       "      <td>23.40</td>\n",
       "      <td>1.71</td>\n",
       "      <td>0.79</td>\n",
       "      <td>1.71</td>\n",
       "      <td>0.07</td>\n",
       "    </tr>\n",
       "    <tr>\n",
       "      <th>16</th>\n",
       "      <td>2015</td>\n",
       "      <td>23.48</td>\n",
       "      <td>1.63</td>\n",
       "      <td>0.77</td>\n",
       "      <td>1.63</td>\n",
       "      <td>0.06</td>\n",
       "    </tr>\n",
       "    <tr>\n",
       "      <th>17</th>\n",
       "      <td>2016</td>\n",
       "      <td>23.16</td>\n",
       "      <td>1.52</td>\n",
       "      <td>0.85</td>\n",
       "      <td>1.52</td>\n",
       "      <td>0.06</td>\n",
       "    </tr>\n",
       "    <tr>\n",
       "      <th>18</th>\n",
       "      <td>2017</td>\n",
       "      <td>21.95</td>\n",
       "      <td>1.49</td>\n",
       "      <td>0.69</td>\n",
       "      <td>1.49</td>\n",
       "      <td>0.04</td>\n",
       "    </tr>\n",
       "    <tr>\n",
       "      <th>19</th>\n",
       "      <td>2018</td>\n",
       "      <td>24.03</td>\n",
       "      <td>1.78</td>\n",
       "      <td>0.83</td>\n",
       "      <td>1.78</td>\n",
       "      <td>0.04</td>\n",
       "    </tr>\n",
       "    <tr>\n",
       "      <th>20</th>\n",
       "      <td>2019</td>\n",
       "      <td>22.56</td>\n",
       "      <td>1.54</td>\n",
       "      <td>0.86</td>\n",
       "      <td>1.54</td>\n",
       "      <td>0.04</td>\n",
       "    </tr>\n",
       "    <tr>\n",
       "      <th>21</th>\n",
       "      <td>2020</td>\n",
       "      <td>25.33</td>\n",
       "      <td>1.77</td>\n",
       "      <td>1.03</td>\n",
       "      <td>1.77</td>\n",
       "      <td>0.02</td>\n",
       "    </tr>\n",
       "    <tr>\n",
       "      <th>22</th>\n",
       "      <td>2021</td>\n",
       "      <td>23.38</td>\n",
       "      <td>1.64</td>\n",
       "      <td>0.94</td>\n",
       "      <td>1.64</td>\n",
       "      <td>0.03</td>\n",
       "    </tr>\n",
       "    <tr>\n",
       "      <th>23</th>\n",
       "      <td>2022</td>\n",
       "      <td>21.81</td>\n",
       "      <td>1.37</td>\n",
       "      <td>0.94</td>\n",
       "      <td>1.37</td>\n",
       "      <td>0.02</td>\n",
       "    </tr>\n",
       "  </tbody>\n",
       "</table>\n",
       "</div>"
      ],
      "text/plain": [
       "    season  avg_score  avg_pass_tds  avg_rush_tds  avg_rec_tds  avg_st_tds\n",
       "0     1999      19.79          1.24          0.64         1.24        0.03\n",
       "1     2000      20.76          1.29          0.73         1.29        0.07\n",
       "2     2001      20.26          1.30          0.64         1.30        0.07\n",
       "3     2002      21.93          1.37          0.86         1.37        0.09\n",
       "4     2003      20.78          1.29          0.78         1.28        0.07\n",
       "5     2004      21.05          1.34          0.80         1.34        0.06\n",
       "6     2005      20.63          1.24          0.80         1.24        0.04\n",
       "7     2006      20.63          1.34          0.75         1.34        0.05\n",
       "8     2007      21.30          1.36          0.75         1.36        0.10\n",
       "9     2008      22.10          1.27          0.93         1.26        0.10\n",
       "10    2009      21.82          1.45          0.90         1.45        0.09\n",
       "11    2010      21.68          1.45          0.72         1.45        0.09\n",
       "12    2011      22.29          1.49          0.75         1.49        0.07\n",
       "13    2012      22.86          1.50          0.80         1.50        0.09\n",
       "14    2013      23.35          1.56          0.80         1.56        0.06\n",
       "15    2014      23.40          1.71          0.79         1.71        0.07\n",
       "16    2015      23.48          1.63          0.77         1.63        0.06\n",
       "17    2016      23.16          1.52          0.85         1.52        0.06\n",
       "18    2017      21.95          1.49          0.69         1.49        0.04\n",
       "19    2018      24.03          1.78          0.83         1.78        0.04\n",
       "20    2019      22.56          1.54          0.86         1.54        0.04\n",
       "21    2020      25.33          1.77          1.03         1.77        0.02\n",
       "22    2021      23.38          1.64          0.94         1.64        0.03\n",
       "23    2022      21.81          1.37          0.94         1.37        0.02"
      ]
     },
     "execution_count": 159,
     "metadata": {},
     "output_type": "execute_result"
    }
   ],
   "source": [
    "query = \"\"\"\n",
    "WITH home_games AS (\n",
    "    SELECT\n",
    "        season,\n",
    "        week,\n",
    "        home_team AS team,\n",
    "        home_score AS score\n",
    "    FROM schedules\n",
    "    WHERE week <= 9\n",
    "        AND game_type = 'REG'\n",
    "), away_games AS (\n",
    "    SELECT\n",
    "        season,\n",
    "        week,\n",
    "        away_team AS team,\n",
    "        away_score AS score\n",
    "    FROM schedules\n",
    "    WHERE week <= 9\n",
    "        AND game_type = 'REG'\n",
    "), stacked AS (\n",
    "    SELECT *\n",
    "    FROM home_games\n",
    "    UNION ALL\n",
    "    SELECT *\n",
    "    FROM away_games\n",
    "), data AS (\n",
    "    SELECT\n",
    "        s.season,\n",
    "        s.week,\n",
    "        s.team,\n",
    "        s.score,\n",
    "        weekly_totals.tot_pass_tds,\n",
    "        weekly_totals.tot_rush_tds,\n",
    "        weekly_totals.tot_rec_tds, -- Will be equal to pass tds but keeping in just in case\n",
    "        weekly_totals.tot_st_tds\n",
    "        --(s.score / weekly_totals.tot_pass_tds + weekly_totals.tot_rush_tds) AS score_off_td_pct\n",
    "    FROM stacked s\n",
    "    LEFT JOIN (\n",
    "        SELECT\n",
    "            season,\n",
    "            week,\n",
    "            recent_team,\n",
    "            SUM(passing_tds) AS tot_pass_tds,\n",
    "            SUM(rushing_tds) AS tot_rush_tds,\n",
    "            SUM(receiving_tds) AS tot_rec_tds,\n",
    "            SUM(special_teams_tds) AS tot_st_tds\n",
    "        FROM weekly\n",
    "        GROUP BY season, week, recent_team\n",
    "    ) AS weekly_totals\n",
    "        ON weekly_totals.season = s.season\n",
    "            AND weekly_totals.week = s.week\n",
    "            AND weekly_totals.recent_team = s.team\n",
    ")\n",
    "SELECT\n",
    "    season,\n",
    "    ROUND(AVG(score),2) AS avg_score,\n",
    "    ROUND(AVG(tot_pass_tds),2) AS avg_pass_tds,\n",
    "    ROUND(AVG(tot_rush_tds),2) AS avg_rush_tds,\n",
    "    ROUND(AVG(tot_rec_tds),2) AS avg_rec_tds,\n",
    "    ROUND(AVG(tot_st_tds),2) AS avg_st_tds\n",
    "    --ROUND(AVG(score / (tot_pass_tds + tot_rush_tds)),2) AS avg_score_off_td_pct\n",
    "FROM data\n",
    "GROUP BY season\n",
    "\"\"\"\n",
    "\n",
    "df = pd.read_sql(query, conn)\n",
    "df"
   ]
  },
  {
   "cell_type": "markdown",
   "metadata": {},
   "source": [
    "## Exploration"
   ]
  },
  {
   "cell_type": "code",
   "execution_count": 37,
   "metadata": {},
   "outputs": [
    {
     "data": {
      "text/plain": [
       "<AxesSubplot: xlabel='avg_pass_tds', ylabel='Count'>"
      ]
     },
     "execution_count": 37,
     "metadata": {},
     "output_type": "execute_result"
    },
    {
     "data": {
      "image/png": "[encoded data removed]",
      "text/plain": [
       "<Figure size 640x480 with 1 Axes>"
      ]
     },
     "metadata": {},
     "output_type": "display_data"
    }
   ],
   "source": [
    "sns.histplot(\n",
    "    x='avg_pass_tds',\n",
    "    data=df,\n",
    "    bins=15\n",
    ")"
   ]
  },
  {
   "cell_type": "code",
   "execution_count": 39,
   "metadata": {},
   "outputs": [
    {
     "data": {
      "text/plain": [
       "<AxesSubplot: xlabel='avg_rush_tds', ylabel='Count'>"
      ]
     },
     "execution_count": 39,
     "metadata": {},
     "output_type": "execute_result"
    },
    {
     "data": {
      "image/png": "[encoded data removed]",
      "text/plain": [
       "<Figure size 640x480 with 1 Axes>"
      ]
     },
     "metadata": {},
     "output_type": "display_data"
    }
   ],
   "source": [
    "sns.histplot(\n",
    "    x='avg_rush_tds',\n",
    "    data=df,\n",
    "    bins=10\n",
    ")"
   ]
  },
  {
   "cell_type": "code",
   "execution_count": 40,
   "metadata": {},
   "outputs": [
    {
     "data": {
      "text/plain": [
       "<AxesSubplot: xlabel='avg_score', ylabel='Count'>"
      ]
     },
     "execution_count": 40,
     "metadata": {},
     "output_type": "execute_result"
    },
    {
     "data": {
      "image/png": "[encoded data removed]",
      "text/plain": [
       "<Figure size 640x480 with 1 Axes>"
      ]
     },
     "metadata": {},
     "output_type": "display_data"
    }
   ],
   "source": [
    "sns.histplot(\n",
    "    x='avg_score',\n",
    "    data=df,\n",
    "    bins=15\n",
    ")"
   ]
  },
  {
   "cell_type": "markdown",
   "metadata": {},
   "source": [
    "## Hypothesis Testing"
   ]
  },
  {
   "cell_type": "code",
   "execution_count": null,
   "metadata": {},
   "outputs": [
    {
     "name": "stdout",
     "output_type": "stream",
     "text": [
      "23\n"
     ]
    }
   ],
   "source": [
    "# Split dataset\n",
    "by_season_2022 = df[df['season'] == 2022]\n",
    "by_season_1999_2021 = df[df['season'] < 2022]\n",
    "\n",
    "print(len(by_season_1999_2021))"
   ]
  },
  {
   "cell_type": "code",
   "execution_count": 50,
   "metadata": {},
   "outputs": [],
   "source": [
    "def run_ttest(pop_sample, sample, metric, tail):\n",
    "    # Get sample means\n",
    "    boot_dist = []\n",
    "    for i in range(10000):\n",
    "        boot_dist.append(\n",
    "            # Get point estimate\n",
    "            np.mean(\n",
    "                # Resample\n",
    "                pop_sample.sample(frac=1, replace=True)[metric]\n",
    "            )\n",
    "        )\n",
    "\n",
    "    # Confirm sample means are normally distributed\n",
    "    g = sns.histplot(boot_dist, bins=50)\n",
    "    # g.set(\n",
    "    #     xlabel=\"Average Score\",\n",
    "    #     title=\"Bootstrap Distribution of 10,000 23-season Samples\"\n",
    "    # )\n",
    "    # plt.show()\n",
    "    return g, pingouin.ttest(boot_dist, sample[metric].iloc[0], alternative=tail)"
   ]
  },
  {
   "cell_type": "code",
   "execution_count": 51,
   "metadata": {},
   "outputs": [
    {
     "name": "stderr",
     "output_type": "stream",
     "text": [
      "/Volumes/develop/projects/fantasy_football_analysis/env/lib/python3.10/site-packages/pingouin/bayesian.py:152: RuntimeWarning: divide by zero encountered in double_scalars\n",
      "  bf10 = 1 / ((1 + t**2 / df) ** (-(df + 1) / 2) / integr)\n"
     ]
    },
    {
     "data": {
      "image/png": "[encoded data removed]",
      "text/plain": [
       "<Figure size 640x480 with 1 Axes>"
      ]
     },
     "metadata": {},
     "output_type": "display_data"
    }
   ],
   "source": [
    "plot, ttest = run_ttest(by_season_1999_2021, by_season_2022, 'avg_score', 'less')"
   ]
  },
  {
   "cell_type": "code",
   "execution_count": 62,
   "metadata": {},
   "outputs": [],
   "source": [
    "\n",
    "plt.show(plot)"
   ]
  },
  {
   "cell_type": "code",
   "execution_count": 54,
   "metadata": {},
   "outputs": [
    {
     "data": {
      "text/html": [
       "<div>\n",
       "<style scoped>\n",
       "    .dataframe tbody tr th:only-of-type {\n",
       "        vertical-align: middle;\n",
       "    }\n",
       "\n",
       "    .dataframe tbody tr th {\n",
       "        vertical-align: top;\n",
       "    }\n",
       "\n",
       "    .dataframe thead th {\n",
       "        text-align: right;\n",
       "    }\n",
       "</style>\n",
       "<table border=\"1\" class=\"dataframe\">\n",
       "  <thead>\n",
       "    <tr style=\"text-align: right;\">\n",
       "      <th></th>\n",
       "      <th>T</th>\n",
       "      <th>dof</th>\n",
       "      <th>alternative</th>\n",
       "      <th>p-val</th>\n",
       "      <th>CI95%</th>\n",
       "      <th>cohen-d</th>\n",
       "      <th>BF10</th>\n",
       "      <th>power</th>\n",
       "    </tr>\n",
       "  </thead>\n",
       "  <tbody>\n",
       "    <tr>\n",
       "      <th>T-test</th>\n",
       "      <td>106.457314</td>\n",
       "      <td>9999</td>\n",
       "      <td>less</td>\n",
       "      <td>1.0</td>\n",
       "      <td>[-inf, 22.11]</td>\n",
       "      <td>1.064573</td>\n",
       "      <td>0.0e+00</td>\n",
       "      <td>0.0</td>\n",
       "    </tr>\n",
       "  </tbody>\n",
       "</table>\n",
       "</div>"
      ],
      "text/plain": [
       "                 T   dof alternative  p-val          CI95%   cohen-d     BF10  \\\n",
       "T-test  106.457314  9999        less    1.0  [-inf, 22.11]  1.064573  0.0e+00   \n",
       "\n",
       "        power  \n",
       "T-test    0.0  "
      ]
     },
     "execution_count": 54,
     "metadata": {},
     "output_type": "execute_result"
    }
   ],
   "source": [
    "ttest"
   ]
  },
  {
   "cell_type": "code",
   "execution_count": 55,
   "metadata": {},
   "outputs": [
    {
     "name": "stderr",
     "output_type": "stream",
     "text": [
      "/Volumes/develop/projects/fantasy_football_analysis/env/lib/python3.10/site-packages/pingouin/bayesian.py:152: RuntimeWarning: divide by zero encountered in double_scalars\n",
      "  bf10 = 1 / ((1 + t**2 / df) ** (-(df + 1) / 2) / integr)\n"
     ]
    },
    {
     "data": {
      "image/png": "[encoded data removed]",
      "text/plain": [
       "<Figure size 640x480 with 1 Axes>"
      ]
     },
     "metadata": {},
     "output_type": "display_data"
    }
   ],
   "source": [
    "plot, ttest = run_ttest(by_season_1999_2021, by_season_2022, 'avg_pass_tds', 'less')"
   ]
  },
  {
   "cell_type": "code",
   "execution_count": 56,
   "metadata": {},
   "outputs": [
    {
     "data": {
      "text/html": [
       "<div>\n",
       "<style scoped>\n",
       "    .dataframe tbody tr th:only-of-type {\n",
       "        vertical-align: middle;\n",
       "    }\n",
       "\n",
       "    .dataframe tbody tr th {\n",
       "        vertical-align: top;\n",
       "    }\n",
       "\n",
       "    .dataframe thead th {\n",
       "        text-align: right;\n",
       "    }\n",
       "</style>\n",
       "<table border=\"1\" class=\"dataframe\">\n",
       "  <thead>\n",
       "    <tr style=\"text-align: right;\">\n",
       "      <th></th>\n",
       "      <th>T</th>\n",
       "      <th>dof</th>\n",
       "      <th>alternative</th>\n",
       "      <th>p-val</th>\n",
       "      <th>CI95%</th>\n",
       "      <th>cohen-d</th>\n",
       "      <th>BF10</th>\n",
       "      <th>power</th>\n",
       "    </tr>\n",
       "  </thead>\n",
       "  <tbody>\n",
       "    <tr>\n",
       "      <th>T-test</th>\n",
       "      <td>261.456267</td>\n",
       "      <td>9999</td>\n",
       "      <td>less</td>\n",
       "      <td>1.0</td>\n",
       "      <td>[-inf, 1.46]</td>\n",
       "      <td>2.614563</td>\n",
       "      <td>0.0e+00</td>\n",
       "      <td>0.0</td>\n",
       "    </tr>\n",
       "  </tbody>\n",
       "</table>\n",
       "</div>"
      ],
      "text/plain": [
       "                 T   dof alternative  p-val         CI95%   cohen-d     BF10  \\\n",
       "T-test  261.456267  9999        less    1.0  [-inf, 1.46]  2.614563  0.0e+00   \n",
       "\n",
       "        power  \n",
       "T-test    0.0  "
      ]
     },
     "execution_count": 56,
     "metadata": {},
     "output_type": "execute_result"
    }
   ],
   "source": [
    "ttest"
   ]
  },
  {
   "cell_type": "code",
   "execution_count": 68,
   "metadata": {},
   "outputs": [
    {
     "name": "stderr",
     "output_type": "stream",
     "text": [
      "/Volumes/develop/projects/fantasy_football_analysis/env/lib/python3.10/site-packages/pingouin/bayesian.py:152: RuntimeWarning: divide by zero encountered in double_scalars\n",
      "  bf10 = 1 / ((1 + t**2 / df) ** (-(df + 1) / 2) / integr)\n"
     ]
    },
    {
     "data": {
      "image/png": "[encoded data removed]",
      "text/plain": [
       "<Figure size 640x480 with 1 Axes>"
      ]
     },
     "metadata": {},
     "output_type": "display_data"
    }
   ],
   "source": [
    "plot, ttest = run_ttest(by_season_1999_2021, by_season_2022, 'avg_rush_tds', 'less')"
   ]
  },
  {
   "cell_type": "code",
   "execution_count": 69,
   "metadata": {},
   "outputs": [
    {
     "data": {
      "text/html": [
       "<div>\n",
       "<style scoped>\n",
       "    .dataframe tbody tr th:only-of-type {\n",
       "        vertical-align: middle;\n",
       "    }\n",
       "\n",
       "    .dataframe tbody tr th {\n",
       "        vertical-align: top;\n",
       "    }\n",
       "\n",
       "    .dataframe thead th {\n",
       "        text-align: right;\n",
       "    }\n",
       "</style>\n",
       "<table border=\"1\" class=\"dataframe\">\n",
       "  <thead>\n",
       "    <tr style=\"text-align: right;\">\n",
       "      <th></th>\n",
       "      <th>T</th>\n",
       "      <th>dof</th>\n",
       "      <th>alternative</th>\n",
       "      <th>p-val</th>\n",
       "      <th>CI95%</th>\n",
       "      <th>cohen-d</th>\n",
       "      <th>BF10</th>\n",
       "      <th>power</th>\n",
       "    </tr>\n",
       "  </thead>\n",
       "  <tbody>\n",
       "    <tr>\n",
       "      <th>T-test</th>\n",
       "      <td>-729.404804</td>\n",
       "      <td>9999</td>\n",
       "      <td>less</td>\n",
       "      <td>0.0</td>\n",
       "      <td>[-inf, 0.8]</td>\n",
       "      <td>7.294048</td>\n",
       "      <td>inf</td>\n",
       "      <td>1.0</td>\n",
       "    </tr>\n",
       "  </tbody>\n",
       "</table>\n",
       "</div>"
      ],
      "text/plain": [
       "                 T   dof alternative  p-val        CI95%   cohen-d BF10  power\n",
       "T-test -729.404804  9999        less    0.0  [-inf, 0.8]  7.294048  inf    1.0"
      ]
     },
     "execution_count": 69,
     "metadata": {},
     "output_type": "execute_result"
    }
   ],
   "source": [
    "ttest"
   ]
  },
  {
   "cell_type": "code",
   "execution_count": 66,
   "metadata": {},
   "outputs": [
    {
     "data": {
      "text/plain": [
       "count    23.000000\n",
       "mean      0.800435\n",
       "std       0.093783\n",
       "min       0.640000\n",
       "25%       0.750000\n",
       "50%       0.800000\n",
       "75%       0.855000\n",
       "max       1.030000\n",
       "Name: avg_rush_tds, dtype: float64"
      ]
     },
     "execution_count": 66,
     "metadata": {},
     "output_type": "execute_result"
    }
   ],
   "source": [
    "by_season_1999_2021.avg_rush_tds.describe()"
   ]
  }
 ],
 "metadata": {
  "kernelspec": {
   "display_name": "Python 3.10.6 ('env': venv)",
   "language": "python",
   "name": "python3"
  },
  "language_info": {
   "codemirror_mode": {
    "name": "ipython",
    "version": 3
   },
   "file_extension": ".py",
   "mimetype": "text/x-python",
   "name": "python",
   "nbconvert_exporter": "python",
   "pygments_lexer": "ipython3",
   "version": "3.10.6"
  },
  "orig_nbformat": 4,
  "vscode": {
   "interpreter": {
    "hash": "4c11be34945b9e5d06588e60c5142a317bb34337c82f00f4b31063bbdfdda38b"
   }
  }
 },
 "nbformat": 4,
 "nbformat_minor": 2
}
